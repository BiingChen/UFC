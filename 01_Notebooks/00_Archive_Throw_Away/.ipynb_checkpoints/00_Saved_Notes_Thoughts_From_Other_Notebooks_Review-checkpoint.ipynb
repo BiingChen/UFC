{
 "cells": [
  {
   "cell_type": "markdown",
   "metadata": {},
   "source": [
    "# 00 Saved Notes Thoughts from Other Notebooks - Review Me"
   ]
  },
  {
   "cell_type": "markdown",
   "metadata": {},
   "source": [
    "____________"
   ]
  },
  {
   "cell_type": "markdown",
   "metadata": {},
   "source": [
    "# From UFC Capstone v2: 02_Setup_v1_Fighter_Fights"
   ]
  },
  {
   "cell_type": "markdown",
   "metadata": {},
   "source": [
    "### Thought process:  What to do about fighters with only 1 fight?\n",
    "- Its harder to predict fights for brand new fighters because their \"during fight\" statistics aren't available\n",
    "- Thus its better to keep them in the training set so that they can at least help tune the model"
   ]
  },
  {
   "cell_type": "markdown",
   "metadata": {},
   "source": [
    "### Decision:  Keep fighters with only 1 fight in the training data\n",
    "### TODO:  Before running the calculation algorithm, check if the fighter_id only returns 1 fighter"
   ]
  },
  {
   "cell_type": "markdown",
   "metadata": {},
   "source": [
    "### Random Thought:  I need to find more data to supplement fighters that only occur once\n",
    "### TODO:  Find more \"out of fight\" statistics - like reach, non-ufc fight record, years in MMA"
   ]
  },
  {
   "cell_type": "markdown",
   "metadata": {},
   "source": [
    "### Random Thought:  I should make a list of fighter metrics that I want to keep\n",
    "- Inputs into the model...\n",
    "- Each fighter related column is considered 1 fighter metric\n",
    "- There are categories of fighter metrics:\n",
    "    - \"during fight\" metrics -> Occur during the fight.  If its your first fight in the dataset, then we don't have it for testing or predicting\n",
    "    - \"out of fight\" metrics -> Doesn't occur during fight\n",
    "    - \"non-changing\" metrics -> Birth Place\n",
    "    - \"slow-changing\" metrics -> fights out of\n",
    "    - "
   ]
  },
  {
   "cell_type": "markdown",
   "metadata": {},
   "source": [
    "### Random Thought:  I'm talking about inputs into the model...  Categorize at that level\n",
    "- Event based input:\n",
    "    - EventId (not an input)\n",
    "    - Venue (one hot encode it)\n",
    "- Question:  Is there an effect on fighting near where you live or are born?\n",
    "- Question:  Are people from a specific place \"tougher\" or \"better at fighting\"?\n",
    "- Fight Based - input:\n",
    "- Fighter based - during fight (know after fight is over) - input:\n",
    "    - Head_Strikes_Attempted\n",
    "    - Head_Strikes_Landed\n",
    "- Fighter based - out of fight - non/slow-changing (know before fight) - input:\n",
    "    - Birth Place\n",
    "    - fights out of \n",
    "    - Height, Weight, Reach, (Rolling Average Weight)\n",
    "    - Stance\n",
    "- Fighter based - time series related - input\n",
    "    - Wins, Losses, Ties, NC\n",
    "- \n",
    "  "
   ]
  },
  {
   "cell_type": "markdown",
   "metadata": {},
   "source": [
    "#### TO DO:\n",
    "- Need a function that will allow me to append to any question:  By Weight Class, For people in the list.\n",
    "- Visualize stats for top 10 fighters"
   ]
  },
  {
   "cell_type": "markdown",
   "metadata": {},
   "source": [
    "--------------"
   ]
  },
  {
   "cell_type": "code",
   "execution_count": null,
   "metadata": {},
   "outputs": [],
   "source": []
  }
 ],
 "metadata": {
  "kernelspec": {
   "display_name": "Python 3",
   "language": "python",
   "name": "python3"
  },
  "language_info": {
   "codemirror_mode": {
    "name": "ipython",
    "version": 3
   },
   "file_extension": ".py",
   "mimetype": "text/x-python",
   "name": "python",
   "nbconvert_exporter": "python",
   "pygments_lexer": "ipython3",
   "version": "3.6.4"
  }
 },
 "nbformat": 4,
 "nbformat_minor": 2
}
