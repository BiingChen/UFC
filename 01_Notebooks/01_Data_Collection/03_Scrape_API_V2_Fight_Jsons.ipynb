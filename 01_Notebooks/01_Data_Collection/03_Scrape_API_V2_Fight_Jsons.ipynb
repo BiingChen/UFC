{
 "cells": [
  {
   "cell_type": "markdown",
   "metadata": {},
   "source": [
    "# 03 Scrape API Fight Jsons"
   ]
  },
  {
   "cell_type": "markdown",
   "metadata": {},
   "source": [
    "## Imports"
   ]
  },
  {
   "cell_type": "code",
   "execution_count": 1,
   "metadata": {},
   "outputs": [],
   "source": [
    "import pandas as pd\n",
    "import requests\n",
    "import json\n",
    "import re\n",
    "import time\n",
    "from bs4 import BeautifulSoup\n",
    "import os\n",
    "import errno\n",
    "import time\n",
    "import datetime"
   ]
  },
  {
   "cell_type": "code",
   "execution_count": 2,
   "metadata": {},
   "outputs": [],
   "source": [
    "def scrape_all_fight_jsons(fight_stat_ids_df):\n",
    "    for key, row in fight_stat_ids_df.iterrows():\n",
    "        time.sleep(1)\n",
    "\n",
    "        event_id = row.event_id\n",
    "        fight_stat_id = row.fight_stat_id\n",
    "        v2_url = f'http://liveapi.fightmetric.com/V2/{event_id}/{fight_stat_id}/Stats.json'\n",
    "        \n",
    "        if key%50==0:\n",
    "            print(f'scraping: {key} of {len(fight_stat_ids_df)}')\n",
    "        \n",
    "        response = requests.get(v2_url)\n",
    "\n",
    "        if response.status_code == 200:\n",
    "            data = response.json()\n",
    "\n",
    "            file_path = f\"./Scraped_Data/event_{event_id}/fight_{fight_stat_id}.json\"\n",
    "            directory = os.path.dirname(file_path)\n",
    "\n",
    "            try:\n",
    "                os.makedirs(directory)\n",
    "            except OSError as e:\n",
    "                if e.errno != errno.EEXIST:\n",
    "                    raise\n",
    "\n",
    "            file_path = f\"./Scraped_Data/event_{event_id}/fight_{fight_stat_id}.json\"\n",
    "            with open(file_path, 'w') as f:\n",
    "                json.dump(data, f)\n",
    "        else:\n",
    "            log_v2_response_error(event_id, fight_stat_id)"
   ]
  },
  {
   "cell_type": "code",
   "execution_count": 3,
   "metadata": {},
   "outputs": [],
   "source": [
    "def log_v2_response_error(event_id, fight_stat_id):\n",
    "    print(\"there was a response error\")\n",
    "    with open('error_log.csv', 'a+', newline='') as f:\n",
    "        f.write(f'\\n**********************************************')\n",
    "        f.write(f'\\nProblem Type:  Response Error')\n",
    "        f.write(f'\\nDateTime:  {datetime.datetime.now().strftime(\"%Y-%m-%d %H:%M\")}')\n",
    "        f.write(f'\\nEvent_id: {event_id}')\n",
    "        f.write(f'\\nfight_stat_id: {fight_stat_id}')   "
   ]
  },
  {
   "cell_type": "markdown",
   "metadata": {},
   "source": [
    "## Pull in Fight_IDs and Scrape Fight Jsons"
   ]
  },
  {
   "cell_type": "code",
   "execution_count": 5,
   "metadata": {},
   "outputs": [],
   "source": [
    "fight_stat_ids_df = pd.read_csv('../Scraped_Pre_Data/event_fight_stat_ids.csv')"
   ]
  },
  {
   "cell_type": "code",
   "execution_count": 6,
   "metadata": {},
   "outputs": [
    {
     "name": "stdout",
     "output_type": "stream",
     "text": [
      "scraping: 0 of 2415\n",
      "scraping: 50 of 2415\n",
      "scraping: 100 of 2415\n",
      "scraping: 150 of 2415\n",
      "scraping: 200 of 2415\n",
      "scraping: 250 of 2415\n",
      "scraping: 300 of 2415\n",
      "scraping: 350 of 2415\n",
      "scraping: 400 of 2415\n",
      "scraping: 450 of 2415\n",
      "scraping: 500 of 2415\n",
      "scraping: 550 of 2415\n",
      "scraping: 600 of 2415\n",
      "scraping: 650 of 2415\n",
      "there was a response error\n",
      "scraping: 700 of 2415\n",
      "scraping: 750 of 2415\n",
      "scraping: 800 of 2415\n",
      "scraping: 850 of 2415\n",
      "there was a response error\n",
      "there was a response error\n",
      "there was a response error\n",
      "scraping: 900 of 2415\n",
      "scraping: 950 of 2415\n",
      "scraping: 1000 of 2415\n",
      "scraping: 1050 of 2415\n",
      "there was a response error\n",
      "scraping: 1100 of 2415\n",
      "scraping: 1150 of 2415\n",
      "scraping: 1200 of 2415\n",
      "scraping: 1250 of 2415\n",
      "scraping: 1300 of 2415\n",
      "scraping: 1350 of 2415\n",
      "scraping: 1400 of 2415\n",
      "scraping: 1450 of 2415\n",
      "scraping: 1500 of 2415\n",
      "there was a response error\n",
      "scraping: 1550 of 2415\n",
      "scraping: 1600 of 2415\n",
      "there was a response error\n",
      "there was a response error\n",
      "scraping: 1650 of 2415\n",
      "there was a response error\n",
      "scraping: 1700 of 2415\n",
      "scraping: 1750 of 2415\n",
      "scraping: 1800 of 2415\n",
      "scraping: 1850 of 2415\n",
      "scraping: 1900 of 2415\n",
      "scraping: 1950 of 2415\n",
      "scraping: 2000 of 2415\n",
      "scraping: 2050 of 2415\n",
      "scraping: 2100 of 2415\n",
      "scraping: 2150 of 2415\n",
      "scraping: 2200 of 2415\n",
      "scraping: 2250 of 2415\n",
      "scraping: 2300 of 2415\n",
      "scraping: 2350 of 2415\n",
      "there was a response error\n",
      "there was a response error\n",
      "there was a response error\n",
      "there was a response error\n",
      "there was a response error\n",
      "there was a response error\n",
      "there was a response error\n",
      "scraping: 2400 of 2415\n",
      "there was a response error\n",
      "there was a response error\n",
      "there was a response error\n",
      "there was a response error\n",
      "there was a response error\n",
      "there was a response error\n",
      "there was a response error\n",
      "there was a response error\n",
      "there was a response error\n",
      "there was a response error\n",
      "there was a response error\n",
      "there was a response error\n"
     ]
    }
   ],
   "source": [
    "scrape_all_fight_jsons(fight_stat_ids_df)"
   ]
  }
 ],
 "metadata": {
  "kernelspec": {
   "display_name": "Python 3",
   "language": "python",
   "name": "python3"
  },
  "language_info": {
   "codemirror_mode": {
    "name": "ipython",
    "version": 3
   },
   "file_extension": ".py",
   "mimetype": "text/x-python",
   "name": "python",
   "nbconvert_exporter": "python",
   "pygments_lexer": "ipython3",
   "version": "3.6.4"
  }
 },
 "nbformat": 4,
 "nbformat_minor": 2
}
