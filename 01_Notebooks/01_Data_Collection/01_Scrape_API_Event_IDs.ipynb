{
 "cells": [
  {
   "cell_type": "markdown",
   "metadata": {},
   "source": [
    "# Scrape API Event IDs"
   ]
  },
  {
   "cell_type": "markdown",
   "metadata": {},
   "source": [
    "## Imports"
   ]
  },
  {
   "cell_type": "code",
   "execution_count": 2,
   "metadata": {},
   "outputs": [],
   "source": [
    "import pandas as pd\n",
    "import requests\n",
    "import json\n",
    "import re\n",
    "import time\n",
    "from bs4 import BeautifulSoup\n",
    "import os\n",
    "import errno"
   ]
  },
  {
   "cell_type": "code",
   "execution_count": 14,
   "metadata": {},
   "outputs": [
    {
     "name": "stdout",
     "output_type": "stream",
     "text": [
      "../../../../Data/events.csv\r\n"
     ]
    }
   ],
   "source": [
    "!ls ../../../../Data/events.csv"
   ]
  },
  {
   "cell_type": "code",
   "execution_count": 15,
   "metadata": {},
   "outputs": [],
   "source": [
    "events = pd.read_csv('../../../../Data/events.csv', index_col=0)"
   ]
  },
  {
   "cell_type": "code",
   "execution_count": 16,
   "metadata": {},
   "outputs": [],
   "source": [
    "urls = events.url\n",
    "base_url = 'http://www.ufc.com'\n",
    "\n",
    "list_of_event_dicts = []\n",
    "\n",
    "# First create header for the csv\n",
    "with open('event_ids.csv', 'a+', newline='') as f:\n",
    "    f.write(f'url,event_id')\n",
    "\n",
    "for num, url in enumerate(urls):\n",
    "\n",
    "    time.sleep(0.5)\n",
    "    full_url = base_url + url\n",
    "    response = requests.get(full_url)\n",
    "    response_text = response.text\n",
    "    try:\n",
    "        event_val = int(re.findall('/V1/(\\d{3})/Fnt\\.js', response_text)[0])\n",
    "    except:\n",
    "        event_val = 0\n",
    "    event_dict = {}\n",
    "    event_dict['event_id'] = event_val\n",
    "    event_dict['event_url'] = url\n",
    "    list_of_event_dicts.append(event_dict)\n",
    "    with open('event_ids.csv', 'a+', newline='') as f:\n",
    "        f.write(f'\\n{url}, {event_val}')"
   ]
  }
 ],
 "metadata": {
  "kernelspec": {
   "display_name": "Python 3",
   "language": "python",
   "name": "python3"
  },
  "language_info": {
   "codemirror_mode": {
    "name": "ipython",
    "version": 3
   },
   "file_extension": ".py",
   "mimetype": "text/x-python",
   "name": "python",
   "nbconvert_exporter": "python",
   "pygments_lexer": "ipython3",
   "version": "3.6.4"
  }
 },
 "nbformat": 4,
 "nbformat_minor": 2
}
