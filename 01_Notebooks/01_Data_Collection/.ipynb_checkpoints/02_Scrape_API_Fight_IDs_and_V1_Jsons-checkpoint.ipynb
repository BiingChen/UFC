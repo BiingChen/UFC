{
 "cells": [
  {
   "cell_type": "markdown",
   "metadata": {},
   "source": [
    "# Scrape API Fight IDs"
   ]
  },
  {
   "cell_type": "markdown",
   "metadata": {},
   "source": [
    "## Imports"
   ]
  },
  {
   "cell_type": "code",
   "execution_count": 11,
   "metadata": {},
   "outputs": [],
   "source": [
    "import pandas as pd\n",
    "import requests\n",
    "import json\n",
    "import re\n",
    "import time\n",
    "from bs4 import BeautifulSoup\n",
    "import os\n",
    "import errno\n",
    "import time\n",
    "import datetime"
   ]
  },
  {
   "cell_type": "code",
   "execution_count": 2,
   "metadata": {},
   "outputs": [],
   "source": [
    "def scrape_all_event_fight_ids(events_df):\n",
    "    create_fight_stat_ids_csv()\n",
    "    for index, event in events_df.iterrows():\n",
    "#         if index%5==0:\n",
    "#             print(f'{index}: {event.url}')\n",
    "        \n",
    "        url = event.url\n",
    "        event_id = event.event_id\n",
    "        list_of_fight_stat_ids = scrape_fight_stat_ids_from_one_event(event_id)\n",
    "        try:\n",
    "            if len(list_of_fight_stat_ids) > 0:\n",
    "                write_fight_stat_ids_to_csv(url, event_id, list_of_fight_stat_ids)\n",
    "        except:\n",
    "            print(f\"There was a write error for {event.url}\")\n",
    "        time.sleep(3)"
   ]
  },
  {
   "cell_type": "code",
   "execution_count": 3,
   "metadata": {},
   "outputs": [],
   "source": [
    "def scrape_fight_stat_ids_from_one_event(event_id):\n",
    "    full_url = f'http://liveapi.fightmetric.com/V1/{event_id}/Fnt.json'\n",
    "    \n",
    "    try:\n",
    "        response = requests.get(full_url)\n",
    "        structured = json.loads(response.text)\n",
    "        list_of_fight_stat_ids = [x['FightID'] for x in structured['FMLiveFeed']['Fights']]\n",
    "    except:\n",
    "        list_of_fight_stat_ids = []\n",
    "    return list_of_fight_stat_ids"
   ]
  },
  {
   "cell_type": "code",
   "execution_count": 4,
   "metadata": {},
   "outputs": [],
   "source": [
    "def create_fight_stat_ids_csv():\n",
    "    # Create the header\n",
    "    try:\n",
    "        os.remove('event_fight_stat_ids.csv')\n",
    "    except:\n",
    "        pass\n",
    "    \n",
    "    with open('event_fight_stat_ids.csv', 'a+', newline='') as f:\n",
    "        f.write(f'url,event_id,fight_stat_id')"
   ]
  },
  {
   "cell_type": "code",
   "execution_count": 5,
   "metadata": {},
   "outputs": [],
   "source": [
    "def write_fight_stat_ids_to_csv(url, event_id, list_of_fight_stat_ids):        \n",
    "    for fight_stat_id in list_of_fight_stat_ids:\n",
    "        with open('event_fight_stat_ids.csv', 'a+', newline='') as f:\n",
    "            f.write(f'\\n{url},{event_id},{fight_stat_id}')"
   ]
  },
  {
   "cell_type": "markdown",
   "metadata": {},
   "source": [
    "## Pull in Event IDs and Scrape"
   ]
  },
  {
   "cell_type": "code",
   "execution_count": 6,
   "metadata": {},
   "outputs": [
    {
     "name": "stdout",
     "output_type": "stream",
     "text": [
      "event_fight_stat_ids.csv event_ids.csv\r\n"
     ]
    }
   ],
   "source": [
    "!ls ../Scraped_Pre_Data"
   ]
  },
  {
   "cell_type": "code",
   "execution_count": 19,
   "metadata": {},
   "outputs": [
    {
     "data": {
      "text/html": [
       "<div>\n",
       "<style scoped>\n",
       "    .dataframe tbody tr th:only-of-type {\n",
       "        vertical-align: middle;\n",
       "    }\n",
       "\n",
       "    .dataframe tbody tr th {\n",
       "        vertical-align: top;\n",
       "    }\n",
       "\n",
       "    .dataframe thead th {\n",
       "        text-align: right;\n",
       "    }\n",
       "</style>\n",
       "<table border=\"1\" class=\"dataframe\">\n",
       "  <thead>\n",
       "    <tr style=\"text-align: right;\">\n",
       "      <th></th>\n",
       "      <th>url</th>\n",
       "      <th>event_id</th>\n",
       "    </tr>\n",
       "  </thead>\n",
       "  <tbody>\n",
       "    <tr>\n",
       "      <th>0</th>\n",
       "      <td>/event/fight-night-asia-june-2018</td>\n",
       "      <td>872</td>\n",
       "    </tr>\n",
       "    <tr>\n",
       "      <th>3</th>\n",
       "      <td>/event/UFC-225</td>\n",
       "      <td>866</td>\n",
       "    </tr>\n",
       "    <tr>\n",
       "      <th>4</th>\n",
       "      <td>/event/fight-night-utica-2018</td>\n",
       "      <td>868</td>\n",
       "    </tr>\n",
       "    <tr>\n",
       "      <th>5</th>\n",
       "      <td>/event/fight-night-liverpool-2018</td>\n",
       "      <td>870</td>\n",
       "    </tr>\n",
       "    <tr>\n",
       "      <th>6</th>\n",
       "      <td>/event/fight-night-santiago-2018</td>\n",
       "      <td>869</td>\n",
       "    </tr>\n",
       "  </tbody>\n",
       "</table>\n",
       "</div>"
      ],
      "text/plain": [
       "                                 url  event_id\n",
       "0  /event/fight-night-asia-june-2018       872\n",
       "3                     /event/UFC-225       866\n",
       "4      /event/fight-night-utica-2018       868\n",
       "5  /event/fight-night-liverpool-2018       870\n",
       "6   /event/fight-night-santiago-2018       869"
      ]
     },
     "execution_count": 19,
     "metadata": {},
     "output_type": "execute_result"
    }
   ],
   "source": [
    "events = pd.read_csv('../Scraped_Pre_Data/event_ids.csv')\n",
    "events = events[events.event_id != 0]\n",
    "events.head()"
   ]
  },
  {
   "cell_type": "code",
   "execution_count": 8,
   "metadata": {},
   "outputs": [],
   "source": [
    "scrape_all_event_fight_ids(events)"
   ]
  },
  {
   "cell_type": "markdown",
   "metadata": {},
   "source": [
    "# Update this to also pull the full JSON for each V1 url"
   ]
  },
  {
   "cell_type": "code",
   "execution_count": 21,
   "metadata": {},
   "outputs": [],
   "source": [
    "def scrape_all_v1_urls(events_df):\n",
    "    for index, event in events_df.iterrows():   \n",
    "        event_url = event.url\n",
    "        event_id = event.event_id    \n",
    "        if index%5==0:\n",
    "            print(f'{index} of {len(events_df)}: {event_id}') \n",
    "        if event_id != 0:\n",
    "            scrape_one_v1_urls(event_id)\n",
    "        else: \n",
    "            print(f\"skipping {index}-{event_url}\")\n",
    "        time.sleep(1)"
   ]
  },
  {
   "cell_type": "code",
   "execution_count": 15,
   "metadata": {},
   "outputs": [],
   "source": [
    "def scrape_one_v1_urls(event_id):\n",
    "    v1_url = f'http://liveapi.fightmetric.com/V1/{event_id}/Fnt.json'\n",
    "    \n",
    "    response = requests.get(v1_url)\n",
    "    \n",
    "    if response.status_code == 200:    \n",
    "        data = response.json()\n",
    "        \n",
    "        file_path = f\"../Scraped_V1_Jsons/v1_event_{event_id}.json\"\n",
    "        directory = os.path.dirname(file_path)\n",
    "\n",
    "        with open(file_path, 'w') as f:\n",
    "            json.dump(data, f)\n",
    "    else:\n",
    "        log_v1_response_error(event_id)"
   ]
  },
  {
   "cell_type": "code",
   "execution_count": 8,
   "metadata": {},
   "outputs": [],
   "source": [
    "def log_v1_response_error(event_id):\n",
    "    print(\"there was a response error\")\n",
    "    with open('error_log_v1_scrape.csv', 'a+', newline='') as f:\n",
    "        f.write(f'\\n**********************************************')\n",
    "        f.write(f'\\nProblem Type:  Response Error')\n",
    "        f.write(f'\\nDateTime:  {datetime.datetime.now().strftime(\"%Y-%m-%d %H:%M\")}')\n",
    "        f.write(f'\\nEvent_id: {event_id}')"
   ]
  },
  {
   "cell_type": "code",
   "execution_count": 14,
   "metadata": {},
   "outputs": [
    {
     "name": "stdout",
     "output_type": "stream",
     "text": [
      "event_866.json\r\n"
     ]
    }
   ],
   "source": [
    "!ls ../Scraped_V1_Jsons"
   ]
  },
  {
   "cell_type": "code",
   "execution_count": 16,
   "metadata": {},
   "outputs": [],
   "source": [
    "scrape_one_v1_urls(866)"
   ]
  },
  {
   "cell_type": "code",
   "execution_count": 22,
   "metadata": {},
   "outputs": [
    {
     "name": "stdout",
     "output_type": "stream",
     "text": [
      "0 of 349: 872\n",
      "5 of 349: 870\n",
      "10 of 349: 862\n",
      "15 of 349: 857\n",
      "20 of 349: 851\n",
      "25 of 349: 844\n",
      "30 of 349: 831\n",
      "35 of 349: 829\n",
      "40 of 349: 838\n",
      "45 of 349: 822\n",
      "50 of 349: 821\n",
      "55 of 349: 815\n",
      "60 of 349: 809\n",
      "65 of 349: 803\n",
      "70 of 349: 798\n",
      "75 of 349: 792\n",
      "80 of 349: 784\n",
      "85 of 349: 782\n",
      "90 of 349: 780\n",
      "95 of 349: 773\n",
      "100 of 349: 768\n",
      "105 of 349: 759\n",
      "110 of 349: 758\n",
      "115 of 349: 745\n",
      "120 of 349: 738\n",
      "125 of 349: 732\n",
      "130 of 349: 717\n",
      "135 of 349: 711\n",
      "140 of 349: 704\n",
      "145 of 349: 702\n",
      "150 of 349: 697\n",
      "155 of 349: 694\n",
      "160 of 349: 680\n",
      "165 of 349: 679\n",
      "170 of 349: 671\n",
      "175 of 349: 668\n",
      "180 of 349: 660\n",
      "185 of 349: 653\n",
      "190 of 349: 646\n",
      "195 of 349: 645\n",
      "200 of 349: 640\n",
      "205 of 349: 635\n",
      "210 of 349: 629\n",
      "there was a response error\n",
      "there was a response error\n",
      "215 of 349: 625\n",
      "there was a response error\n",
      "there was a response error\n",
      "there was a response error\n",
      "there was a response error\n",
      "there was a response error\n",
      "220 of 349: 619\n",
      "there was a response error\n",
      "there was a response error\n",
      "there was a response error\n",
      "there was a response error\n",
      "there was a response error\n",
      "225 of 349: 612\n",
      "there was a response error\n",
      "there was a response error\n",
      "there was a response error\n",
      "there was a response error\n",
      "there was a response error\n",
      "230 of 349: 608\n",
      "there was a response error\n",
      "there was a response error\n",
      "there was a response error\n",
      "there was a response error\n",
      "there was a response error\n",
      "235 of 349: 598\n",
      "there was a response error\n",
      "there was a response error\n",
      "there was a response error\n",
      "there was a response error\n",
      "there was a response error\n",
      "240 of 349: 594\n",
      "there was a response error\n",
      "there was a response error\n",
      "there was a response error\n",
      "there was a response error\n",
      "there was a response error\n",
      "245 of 349: 589\n",
      "there was a response error\n",
      "there was a response error\n",
      "there was a response error\n",
      "there was a response error\n",
      "there was a response error\n",
      "250 of 349: 579\n",
      "there was a response error\n",
      "there was a response error\n",
      "there was a response error\n",
      "there was a response error\n",
      "there was a response error\n",
      "255 of 349: 574\n",
      "there was a response error\n",
      "there was a response error\n",
      "there was a response error\n",
      "there was a response error\n",
      "there was a response error\n",
      "260 of 349: 565\n",
      "there was a response error\n",
      "there was a response error\n",
      "there was a response error\n",
      "there was a response error\n",
      "there was a response error\n",
      "265 of 349: 555\n",
      "there was a response error\n",
      "there was a response error\n",
      "there was a response error\n",
      "there was a response error\n",
      "there was a response error\n",
      "270 of 349: 551\n",
      "there was a response error\n",
      "there was a response error\n",
      "there was a response error\n",
      "there was a response error\n",
      "there was a response error\n",
      "275 of 349: 541\n",
      "there was a response error\n",
      "there was a response error\n",
      "there was a response error\n",
      "there was a response error\n",
      "there was a response error\n",
      "280 of 349: 530\n",
      "there was a response error\n",
      "there was a response error\n",
      "there was a response error\n",
      "there was a response error\n",
      "285 of 349: 517\n",
      "there was a response error\n",
      "there was a response error\n",
      "there was a response error\n",
      "there was a response error\n",
      "there was a response error\n",
      "290 of 349: 485\n",
      "there was a response error\n",
      "there was a response error\n",
      "there was a response error\n",
      "there was a response error\n",
      "there was a response error\n",
      "295 of 349: 462\n",
      "there was a response error\n",
      "there was a response error\n",
      "there was a response error\n",
      "there was a response error\n",
      "there was a response error\n",
      "300 of 349: 445\n",
      "there was a response error\n",
      "there was a response error\n",
      "there was a response error\n",
      "there was a response error\n",
      "there was a response error\n",
      "305 of 349: 426\n",
      "there was a response error\n",
      "there was a response error\n",
      "there was a response error\n",
      "there was a response error\n",
      "there was a response error\n",
      "310 of 349: 412\n",
      "there was a response error\n",
      "there was a response error\n",
      "there was a response error\n",
      "there was a response error\n",
      "there was a response error\n",
      "315 of 349: 297\n",
      "there was a response error\n",
      "there was a response error\n",
      "there was a response error\n",
      "there was a response error\n",
      "there was a response error\n",
      "320 of 349: 292\n",
      "there was a response error\n",
      "there was a response error\n",
      "there was a response error\n",
      "there was a response error\n",
      "there was a response error\n",
      "325 of 349: 290\n",
      "there was a response error\n",
      "there was a response error\n",
      "there was a response error\n",
      "there was a response error\n",
      "there was a response error\n",
      "there was a response error\n",
      "430 of 349: 103\n",
      "there was a response error\n",
      "there was a response error\n",
      "there was a response error\n",
      "there was a response error\n",
      "there was a response error\n",
      "435 of 349: 108\n",
      "there was a response error\n",
      "there was a response error\n",
      "there was a response error\n",
      "there was a response error\n",
      "there was a response error\n",
      "440 of 349: 113\n",
      "there was a response error\n",
      "there was a response error\n",
      "there was a response error\n",
      "there was a response error\n",
      "there was a response error\n",
      "445 of 349: 118\n",
      "there was a response error\n",
      "there was a response error\n",
      "there was a response error\n",
      "there was a response error\n",
      "there was a response error\n"
     ]
    }
   ],
   "source": [
    "scrape_all_v1_urls(events)"
   ]
  }
 ],
 "metadata": {
  "kernelspec": {
   "display_name": "Python 3",
   "language": "python",
   "name": "python3"
  },
  "language_info": {
   "codemirror_mode": {
    "name": "ipython",
    "version": 3
   },
   "file_extension": ".py",
   "mimetype": "text/x-python",
   "name": "python",
   "nbconvert_exporter": "python",
   "pygments_lexer": "ipython3",
   "version": "3.6.4"
  }
 },
 "nbformat": 4,
 "nbformat_minor": 2
}
