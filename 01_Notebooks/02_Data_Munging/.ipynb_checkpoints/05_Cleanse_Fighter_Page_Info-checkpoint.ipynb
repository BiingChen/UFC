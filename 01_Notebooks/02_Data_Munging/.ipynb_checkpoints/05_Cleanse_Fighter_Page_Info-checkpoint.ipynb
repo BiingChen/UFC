{
 "cells": [
  {
   "cell_type": "markdown",
   "metadata": {},
   "source": [
    "# 04 Cleanse Fighter Page Info"
   ]
  },
  {
   "cell_type": "markdown",
   "metadata": {},
   "source": [
    "## Cleansing TODOs:\n",
    "- Convert reach string -> inches\n",
    "- Convert weight string -> lbs\n",
    "- Convert height string -> inches\n",
    "- Convert fighter slug -> all lower case, no spaces or dashs\n",
    "\n",
    "## Main Goal:\n",
    "- Be able to join this data to the training stub"
   ]
  },
  {
   "cell_type": "markdown",
   "metadata": {},
   "source": [
    "## Imports"
   ]
  },
  {
   "cell_type": "code",
   "execution_count": 58,
   "metadata": {},
   "outputs": [],
   "source": [
    "import pandas as pd\n",
    "import re"
   ]
  },
  {
   "cell_type": "markdown",
   "metadata": {},
   "source": [
    "## Bring in raw data frame"
   ]
  },
  {
   "cell_type": "code",
   "execution_count": 59,
   "metadata": {},
   "outputs": [],
   "source": [
    "Fighter_Info2181 = pd.read_csv('../../02_Data/01_Raw_Scraped_Data/UFC_Fighter_Page_Info2181.csv', index_col=0)"
   ]
  },
  {
   "cell_type": "code",
   "execution_count": 60,
   "metadata": {},
   "outputs": [],
   "source": [
    "# Clean up column names\n",
    "Fighter_Info2181.columns = ['age', 'college', 'degree', 'fights_out', 'from', 'height',\n",
    "       'leg_reach', 'nickname', 'past', 'reach', 'weight', 'fighter_slug']"
   ]
  },
  {
   "cell_type": "code",
   "execution_count": 61,
   "metadata": {},
   "outputs": [],
   "source": [
    "# Select relevant columns\n",
    "df = Fighter_Info2181[['fighter_slug', 'reach', 'weight', 'height', 'leg_reach']].copy()"
   ]
  },
  {
   "cell_type": "markdown",
   "metadata": {},
   "source": [
    "## Column cleansing"
   ]
  },
  {
   "cell_type": "code",
   "execution_count": 62,
   "metadata": {},
   "outputs": [],
   "source": [
    "# Convert reach string -> inches\n",
    "# There are nans in data\n",
    "df.loc[df.reach.notnull(),'reach'] = df[df.reach.notnull()].reach.map(lambda x: x[:-1])"
   ]
  },
  {
   "cell_type": "code",
   "execution_count": 63,
   "metadata": {},
   "outputs": [],
   "source": [
    "# Convert leg_reach string -> inches\n",
    "# There are nans in data\n",
    "df.loc[df.leg_reach.notnull(),'leg_reach'] = df[df.leg_reach.notnull()].leg_reach.map(lambda x: x[:-1])"
   ]
  },
  {
   "cell_type": "code",
   "execution_count": 64,
   "metadata": {},
   "outputs": [],
   "source": [
    "# Convert weight to lbs\n",
    "# There are nans in data\n",
    "df.loc[df.weight.notnull(),'weight'] = df[df.weight.notnull()].weight.map(lambda x: x[:3])"
   ]
  },
  {
   "cell_type": "code",
   "execution_count": 65,
   "metadata": {},
   "outputs": [],
   "source": [
    "# convert slug to lower case and no space or dash\n",
    "df.fighter_slug = df.fighter_slug.map(lambda slug: re.sub('-','',slug).lower())"
   ]
  },
  {
   "cell_type": "code",
   "execution_count": 66,
   "metadata": {},
   "outputs": [],
   "source": [
    "# Convert height to inches\n",
    "def convert_height(height_string):\n",
    "    feet, inches, _ = re.findall(\"\\d+\", height_string)\n",
    "    feet = int(feet)\n",
    "    inches = int(inches)\n",
    "    total_inches = feet*12 + inches\n",
    "    return total_inches\n",
    "\n",
    "df.loc[df.height.notnull(),'height'] = df[df.height.notnull()].height.map(convert_height)"
   ]
  },
  {
   "cell_type": "code",
   "execution_count": 67,
   "metadata": {},
   "outputs": [],
   "source": [
    "# Drop leg_reach since too many nans\n",
    "df = df.drop(columns='leg_reach')"
   ]
  },
  {
   "cell_type": "code",
   "execution_count": 68,
   "metadata": {},
   "outputs": [
    {
     "data": {
      "text/html": [
       "<div>\n",
       "<style scoped>\n",
       "    .dataframe tbody tr th:only-of-type {\n",
       "        vertical-align: middle;\n",
       "    }\n",
       "\n",
       "    .dataframe tbody tr th {\n",
       "        vertical-align: top;\n",
       "    }\n",
       "\n",
       "    .dataframe thead th {\n",
       "        text-align: right;\n",
       "    }\n",
       "</style>\n",
       "<table border=\"1\" class=\"dataframe\">\n",
       "  <thead>\n",
       "    <tr style=\"text-align: right;\">\n",
       "      <th></th>\n",
       "      <th>fighter_slug</th>\n",
       "      <th>reach</th>\n",
       "      <th>weight</th>\n",
       "      <th>height</th>\n",
       "    </tr>\n",
       "  </thead>\n",
       "  <tbody>\n",
       "    <tr>\n",
       "      <th>0</th>\n",
       "      <td>dannyabbadi</td>\n",
       "      <td>NaN</td>\n",
       "      <td>185</td>\n",
       "      <td>71</td>\n",
       "    </tr>\n",
       "    <tr>\n",
       "      <th>1</th>\n",
       "      <td>tankabbott</td>\n",
       "      <td>NaN</td>\n",
       "      <td>250</td>\n",
       "      <td>72</td>\n",
       "    </tr>\n",
       "  </tbody>\n",
       "</table>\n",
       "</div>"
      ],
      "text/plain": [
       "  fighter_slug reach weight height\n",
       "0  dannyabbadi   NaN    185     71\n",
       "1   tankabbott   NaN    250     72"
      ]
     },
     "execution_count": 68,
     "metadata": {},
     "output_type": "execute_result"
    }
   ],
   "source": [
    "df.head(2)"
   ]
  },
  {
   "cell_type": "markdown",
   "metadata": {},
   "source": [
    "## Bring in Fighter ID into this dataframe"
   ]
  },
  {
   "cell_type": "code",
   "execution_count": 69,
   "metadata": {},
   "outputs": [],
   "source": [
    "stub = pd.read_csv('../../02_Data/02_Processed_Data/train_stub.csv', index_col=0)\n"
   ]
  },
  {
   "cell_type": "code",
   "execution_count": 70,
   "metadata": {},
   "outputs": [],
   "source": [
    "fightidmap = stub[['f1_fighterid', 'f1_slug', 'eventid']]\n",
    "fightidmap.columns = ['fighterid', 'fighter_slug', 'eventid']\n",
    "fightidmap = fightidmap.groupby(['fighterid', 'fighter_slug']).sum().reset_index().drop(columns='eventid')"
   ]
  },
  {
   "cell_type": "code",
   "execution_count": 71,
   "metadata": {},
   "outputs": [],
   "source": [
    "df = df.merge(fightidmap, how='left', on='fighter_slug')"
   ]
  },
  {
   "cell_type": "code",
   "execution_count": 73,
   "metadata": {},
   "outputs": [
    {
     "data": {
      "text/html": [
       "<div>\n",
       "<style scoped>\n",
       "    .dataframe tbody tr th:only-of-type {\n",
       "        vertical-align: middle;\n",
       "    }\n",
       "\n",
       "    .dataframe tbody tr th {\n",
       "        vertical-align: top;\n",
       "    }\n",
       "\n",
       "    .dataframe thead th {\n",
       "        text-align: right;\n",
       "    }\n",
       "</style>\n",
       "<table border=\"1\" class=\"dataframe\">\n",
       "  <thead>\n",
       "    <tr style=\"text-align: right;\">\n",
       "      <th></th>\n",
       "      <th>fighter_slug</th>\n",
       "      <th>reach</th>\n",
       "      <th>weight</th>\n",
       "      <th>height</th>\n",
       "      <th>fighterid</th>\n",
       "    </tr>\n",
       "  </thead>\n",
       "  <tbody>\n",
       "    <tr>\n",
       "      <th>0</th>\n",
       "      <td>dannyabbadi</td>\n",
       "      <td>NaN</td>\n",
       "      <td>185</td>\n",
       "      <td>71</td>\n",
       "      <td>NaN</td>\n",
       "    </tr>\n",
       "    <tr>\n",
       "      <th>1</th>\n",
       "      <td>tankabbott</td>\n",
       "      <td>NaN</td>\n",
       "      <td>250</td>\n",
       "      <td>72</td>\n",
       "      <td>NaN</td>\n",
       "    </tr>\n",
       "    <tr>\n",
       "      <th>2</th>\n",
       "      <td>shamilabdurakhimov</td>\n",
       "      <td>76</td>\n",
       "      <td>235</td>\n",
       "      <td>75</td>\n",
       "      <td>2424.0</td>\n",
       "    </tr>\n",
       "    <tr>\n",
       "      <th>3</th>\n",
       "      <td>daichiabe</td>\n",
       "      <td>71</td>\n",
       "      <td>170</td>\n",
       "      <td>71</td>\n",
       "      <td>2964.0</td>\n",
       "    </tr>\n",
       "    <tr>\n",
       "      <th>4</th>\n",
       "      <td>papyabedi</td>\n",
       "      <td>74</td>\n",
       "      <td>185</td>\n",
       "      <td>71</td>\n",
       "      <td>1878.0</td>\n",
       "    </tr>\n",
       "  </tbody>\n",
       "</table>\n",
       "</div>"
      ],
      "text/plain": [
       "         fighter_slug reach weight height  fighterid\n",
       "0         dannyabbadi   NaN    185     71        NaN\n",
       "1          tankabbott   NaN    250     72        NaN\n",
       "2  shamilabdurakhimov    76    235     75     2424.0\n",
       "3           daichiabe    71    170     71     2964.0\n",
       "4           papyabedi    74    185     71     1878.0"
      ]
     },
     "execution_count": 73,
     "metadata": {},
     "output_type": "execute_result"
    }
   ],
   "source": [
    "df.head()"
   ]
  },
  {
   "cell_type": "markdown",
   "metadata": {},
   "source": [
    "## Export Cleansed Fighter Page Info"
   ]
  },
  {
   "cell_type": "code",
   "execution_count": 74,
   "metadata": {},
   "outputs": [],
   "source": [
    "df.to_csv('../../02_Data/02_Processed_Data/fighter_page_info.csv')"
   ]
  },
  {
   "cell_type": "code",
   "execution_count": null,
   "metadata": {},
   "outputs": [],
   "source": []
  }
 ],
 "metadata": {
  "kernelspec": {
   "display_name": "Python 3",
   "language": "python",
   "name": "python3"
  },
  "language_info": {
   "codemirror_mode": {
    "name": "ipython",
    "version": 3
   },
   "file_extension": ".py",
   "mimetype": "text/x-python",
   "name": "python",
   "nbconvert_exporter": "python",
   "pygments_lexer": "ipython3",
   "version": "3.6.4"
  }
 },
 "nbformat": 4,
 "nbformat_minor": 2
}
