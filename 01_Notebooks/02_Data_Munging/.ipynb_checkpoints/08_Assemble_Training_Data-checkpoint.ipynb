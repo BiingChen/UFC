{
 "cells": [
  {
   "cell_type": "markdown",
   "metadata": {},
   "source": [
    "# 08 Assemble Training Data"
   ]
  },
  {
   "cell_type": "markdown",
   "metadata": {},
   "source": [
    "- The purpose of this notebook is to aggregate all of the processed data into a single training set\n",
    "- We will use the training stub as the basis for the dataframe and merge the other prepped data onto it\n",
    "- Data that will be appended to it:\n",
    "    - Static Fighter Stats (including info from fighter page info)\n",
    "    - Historical Fight Averages"
   ]
  },
  {
   "cell_type": "markdown",
   "metadata": {},
   "source": [
    "## Imports"
   ]
  },
  {
   "cell_type": "code",
   "execution_count": 1,
   "metadata": {},
   "outputs": [],
   "source": [
    "import pandas as pd\n",
    "import numpy as np\n",
    "from scipy import stats"
   ]
  },
  {
   "cell_type": "markdown",
   "metadata": {},
   "source": [
    "## Functions"
   ]
  },
  {
   "cell_type": "code",
   "execution_count": 2,
   "metadata": {},
   "outputs": [],
   "source": [
    "def check_nulls(df):    \n",
    "    return df.loc[:,df.isnull().sum()!=0].isnull().sum()"
   ]
  },
  {
   "cell_type": "markdown",
   "metadata": {},
   "source": [
    "## Pull in Training Stub"
   ]
  },
  {
   "cell_type": "code",
   "execution_count": 3,
   "metadata": {},
   "outputs": [],
   "source": [
    "train = pd.read_csv('../../02_Data/02_Processed_Data/train_stub.csv', index_col=0)"
   ]
  },
  {
   "cell_type": "markdown",
   "metadata": {},
   "source": [
    "## Get Fighter_Static_Stats"
   ]
  },
  {
   "cell_type": "code",
   "execution_count": 4,
   "metadata": {},
   "outputs": [],
   "source": [
    "fighter_static_stats = pd.read_csv('../../02_Data/02_Processed_Data/fighter_static_stats.csv', index_col=0)"
   ]
  },
  {
   "cell_type": "markdown",
   "metadata": {},
   "source": [
    "## Get Historical Fight Averages"
   ]
  },
  {
   "cell_type": "code",
   "execution_count": 5,
   "metadata": {},
   "outputs": [],
   "source": [
    "hist_avg = pd.read_csv('../../02_Data/02_Processed_Data/historical_avgs.csv', index_col=0)"
   ]
  },
  {
   "cell_type": "markdown",
   "metadata": {},
   "source": [
    "## Append static fighter stats to stub"
   ]
  },
  {
   "cell_type": "code",
   "execution_count": 6,
   "metadata": {},
   "outputs": [],
   "source": [
    "# Prep dataframe for merge for fighter 1\n",
    "f1_to_merge = fighter_static_stats.copy()\n",
    "f1_to_merge.columns = ['eventid']+['f1_'+ col for col in f1_to_merge.columns if 'eventid' not in col]\n",
    "\n",
    "# merge\n",
    "train = train.merge(f1_to_merge, how='left', on=['eventid','f1_fighterid'])"
   ]
  },
  {
   "cell_type": "code",
   "execution_count": 7,
   "metadata": {},
   "outputs": [],
   "source": [
    "# Prep dataframe for merge for fighter 1\n",
    "f2_to_merge = fighter_static_stats.copy()\n",
    "f2_to_merge.columns = ['eventid']+['f2_'+ col for col in f2_to_merge.columns if 'eventid' not in col]\n",
    "\n",
    "# merge\n",
    "train = train.merge(f2_to_merge, how='left', on=['eventid','f2_fighterid'])"
   ]
  },
  {
   "cell_type": "markdown",
   "metadata": {},
   "source": [
    "## Append historical fight averages to stub"
   ]
  },
  {
   "cell_type": "code",
   "execution_count": 8,
   "metadata": {},
   "outputs": [],
   "source": [
    "# Prep dataframe for merge for fighter 1\n",
    "hist_avg_f1 = hist_avg.copy()\n",
    "\n",
    "# First append 'F1_' for all fighter 1 data\n",
    "hist_avg_f1.columns = ['eventid','fightid','f1_fighterid','date'] + \\\n",
    "                    ['f1_' + col for col in hist_avg_f1.columns if col not in \\\n",
    "                    ['eventid','fightid','f1_fighterid','date']]\n",
    "\n",
    "# Merge F1 Expanding Means\n",
    "train = train.merge(hist_avg_f1, how='inner',left_on=['eventid','fightid','f1_fighterid'],\n",
    "                    right_on=['eventid','fightid','f1_fighterid'])\n",
    "\n",
    "#Setup \n",
    "hist_avg_f2 = hist_avg.drop(columns=['date']).copy()\n",
    "hist_avg_f2.columns = ['eventid','fightid','f2_fighterid'] + \\\n",
    "                    ['f2_' + col for col in hist_avg_f2.columns if col not in \\\n",
    "                    ['eventid','fightid','f1_fighterid']]\n",
    "\n",
    "# Merge for fighter 2\n",
    "train = train.merge(hist_avg_f2, how='inner',left_on=['eventid','fightid','f2_fighterid'], \n",
    "                    right_on=['eventid','fightid','f2_fighterid'])"
   ]
  },
  {
   "cell_type": "code",
   "execution_count": 9,
   "metadata": {},
   "outputs": [
    {
     "data": {
      "text/plain": [
       "f1_outcome    34\n",
       "dtype: int64"
      ]
     },
     "execution_count": 9,
     "metadata": {},
     "output_type": "execute_result"
    }
   ],
   "source": [
    "check_nulls(train)"
   ]
  },
  {
   "cell_type": "markdown",
   "metadata": {},
   "source": [
    "There are 34 rows without outcome.  They are all draws"
   ]
  },
  {
   "cell_type": "code",
   "execution_count": 10,
   "metadata": {},
   "outputs": [],
   "source": [
    "train.loc[train.f1_outcome.isnull(),'f1_outcome'] = 'Draw'"
   ]
  },
  {
   "cell_type": "code",
   "execution_count": 11,
   "metadata": {},
   "outputs": [
    {
     "data": {
      "text/plain": [
       "Win     1590\n",
       "Loss    1590\n",
       "Draw      34\n",
       "Name: f1_outcome, dtype: int64"
      ]
     },
     "execution_count": 11,
     "metadata": {},
     "output_type": "execute_result"
    }
   ],
   "source": [
    "train.f1_outcome.value_counts()"
   ]
  },
  {
   "cell_type": "markdown",
   "metadata": {},
   "source": [
    "## Export the training data set"
   ]
  },
  {
   "cell_type": "code",
   "execution_count": 12,
   "metadata": {},
   "outputs": [],
   "source": [
    "train.to_csv('../../02_Data/02_Processed_Data/train.csv')"
   ]
  }
 ],
 "metadata": {
  "kernelspec": {
   "display_name": "Python 3",
   "language": "python",
   "name": "python3"
  },
  "language_info": {
   "codemirror_mode": {
    "name": "ipython",
    "version": 3
   },
   "file_extension": ".py",
   "mimetype": "text/x-python",
   "name": "python",
   "nbconvert_exporter": "python",
   "pygments_lexer": "ipython3",
   "version": "3.6.4"
  }
 },
 "nbformat": 4,
 "nbformat_minor": 2
}
