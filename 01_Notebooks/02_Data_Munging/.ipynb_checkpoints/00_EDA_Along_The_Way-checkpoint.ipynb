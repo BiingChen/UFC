{
 "cells": [
  {
   "cell_type": "markdown",
   "metadata": {},
   "source": [
    "# Any random EDA/questions I tried to answer along the way"
   ]
  },
  {
   "cell_type": "markdown",
   "metadata": {},
   "source": [
    "## Imports"
   ]
  },
  {
   "cell_type": "code",
   "execution_count": 2,
   "metadata": {},
   "outputs": [],
   "source": [
    "import pandas as pd\n",
    "from matplotlib import pyplot as plt\n",
    "%matplotlib inline"
   ]
  },
  {
   "cell_type": "markdown",
   "metadata": {},
   "source": [
    "## What was the date range of the data?"
   ]
  },
  {
   "cell_type": "code",
   "execution_count": 3,
   "metadata": {},
   "outputs": [
    {
     "name": "stdout",
     "output_type": "stream",
     "text": [
      "../../02_Data/01_Raw_Scraped_Data/Events/events_df.csv\r\n"
     ]
    }
   ],
   "source": [
    "!ls ../../02_Data/01_Raw_Scraped_Data/Events/events_df.csv"
   ]
  },
  {
   "cell_type": "code",
   "execution_count": 4,
   "metadata": {},
   "outputs": [
    {
     "name": "stdout",
     "output_type": "stream",
     "text": [
      "../../02_Data/02_Processed_Data/V2_Fight_Details.csv\r\n"
     ]
    }
   ],
   "source": [
    "!ls ../../02_Data/02_Processed_Data/V2_Fight_Details.csv"
   ]
  },
  {
   "cell_type": "code",
   "execution_count": 5,
   "metadata": {},
   "outputs": [],
   "source": [
    "df = pd.read_csv('../../02_Data/02_Processed_Data/V2_Fight_Details.csv', index_col = 0)"
   ]
  },
  {
   "cell_type": "code",
   "execution_count": 6,
   "metadata": {},
   "outputs": [
    {
     "data": {
      "text/html": [
       "<div>\n",
       "<style scoped>\n",
       "    .dataframe tbody tr th:only-of-type {\n",
       "        vertical-align: middle;\n",
       "    }\n",
       "\n",
       "    .dataframe tbody tr th {\n",
       "        vertical-align: top;\n",
       "    }\n",
       "\n",
       "    .dataframe thead th {\n",
       "        text-align: right;\n",
       "    }\n",
       "</style>\n",
       "<table border=\"1\" class=\"dataframe\">\n",
       "  <thead>\n",
       "    <tr style=\"text-align: right;\">\n",
       "      <th></th>\n",
       "      <th>currentrnd</th>\n",
       "      <th>eventid</th>\n",
       "      <th>fightid</th>\n",
       "      <th>maxrnds</th>\n",
       "      <th>timestamp</th>\n",
       "      <th>f1_body_significant_strikes_attempts</th>\n",
       "      <th>f1_body_significant_strikes_landed</th>\n",
       "      <th>f1_body_total_strikes_attempts</th>\n",
       "      <th>f1_body_total_strikes_landed</th>\n",
       "      <th>f1_clinch_body_strikes_attempts</th>\n",
       "      <th>...</th>\n",
       "      <th>f2_knock_down_landed</th>\n",
       "      <th>f2_legs_significant_strikes_attempts</th>\n",
       "      <th>f2_legs_significant_strikes_landed</th>\n",
       "      <th>f2_legs_total_strikes_attempts</th>\n",
       "      <th>f2_legs_total_strikes_landed</th>\n",
       "      <th>f2_name</th>\n",
       "      <th>f2_significant_strikes_attempts</th>\n",
       "      <th>f2_significant_strikes_landed</th>\n",
       "      <th>f2_total_strikes_attempts</th>\n",
       "      <th>f2_total_strikes_landed</th>\n",
       "    </tr>\n",
       "  </thead>\n",
       "  <tbody>\n",
       "    <tr>\n",
       "      <th>0</th>\n",
       "      <td>1</td>\n",
       "      <td>704</td>\n",
       "      <td>5268</td>\n",
       "      <td>3</td>\n",
       "      <td>02:26:26 06/28/2016</td>\n",
       "      <td>1.0</td>\n",
       "      <td>0.0</td>\n",
       "      <td>1.0</td>\n",
       "      <td>0.0</td>\n",
       "      <td>0.0</td>\n",
       "      <td>...</td>\n",
       "      <td>1.0</td>\n",
       "      <td>1.0</td>\n",
       "      <td>1.0</td>\n",
       "      <td>1.0</td>\n",
       "      <td>1.0</td>\n",
       "      <td>Joe Duffy</td>\n",
       "      <td>40.0</td>\n",
       "      <td>15.0</td>\n",
       "      <td>40.0</td>\n",
       "      <td>15.0</td>\n",
       "    </tr>\n",
       "    <tr>\n",
       "      <th>1</th>\n",
       "      <td>5</td>\n",
       "      <td>704</td>\n",
       "      <td>5198</td>\n",
       "      <td>5</td>\n",
       "      <td>02:49:04 03/16/2015</td>\n",
       "      <td>37.0</td>\n",
       "      <td>27.0</td>\n",
       "      <td>56.0</td>\n",
       "      <td>45.0</td>\n",
       "      <td>5.0</td>\n",
       "      <td>...</td>\n",
       "      <td>0.0</td>\n",
       "      <td>5.0</td>\n",
       "      <td>5.0</td>\n",
       "      <td>5.0</td>\n",
       "      <td>5.0</td>\n",
       "      <td>Anthony Pettis</td>\n",
       "      <td>162.0</td>\n",
       "      <td>54.0</td>\n",
       "      <td>205.0</td>\n",
       "      <td>96.0</td>\n",
       "    </tr>\n",
       "    <tr>\n",
       "      <th>2</th>\n",
       "      <td>3</td>\n",
       "      <td>704</td>\n",
       "      <td>5199</td>\n",
       "      <td>3</td>\n",
       "      <td>02:49:03 03/16/2015</td>\n",
       "      <td>33.0</td>\n",
       "      <td>24.0</td>\n",
       "      <td>33.0</td>\n",
       "      <td>24.0</td>\n",
       "      <td>2.0</td>\n",
       "      <td>...</td>\n",
       "      <td>1.0</td>\n",
       "      <td>3.0</td>\n",
       "      <td>1.0</td>\n",
       "      <td>3.0</td>\n",
       "      <td>1.0</td>\n",
       "      <td>Roy Nelson</td>\n",
       "      <td>77.0</td>\n",
       "      <td>23.0</td>\n",
       "      <td>77.0</td>\n",
       "      <td>23.0</td>\n",
       "    </tr>\n",
       "    <tr>\n",
       "      <th>3</th>\n",
       "      <td>2</td>\n",
       "      <td>704</td>\n",
       "      <td>5249</td>\n",
       "      <td>3</td>\n",
       "      <td>02:49:08 03/16/2015</td>\n",
       "      <td>16.0</td>\n",
       "      <td>8.0</td>\n",
       "      <td>16.0</td>\n",
       "      <td>8.0</td>\n",
       "      <td>1.0</td>\n",
       "      <td>...</td>\n",
       "      <td>1.0</td>\n",
       "      <td>5.0</td>\n",
       "      <td>4.0</td>\n",
       "      <td>5.0</td>\n",
       "      <td>4.0</td>\n",
       "      <td>Ross Pearson</td>\n",
       "      <td>75.0</td>\n",
       "      <td>25.0</td>\n",
       "      <td>75.0</td>\n",
       "      <td>25.0</td>\n",
       "    </tr>\n",
       "    <tr>\n",
       "      <th>4</th>\n",
       "      <td>3</td>\n",
       "      <td>704</td>\n",
       "      <td>5245</td>\n",
       "      <td>3</td>\n",
       "      <td>02:49:06 03/16/2015</td>\n",
       "      <td>9.0</td>\n",
       "      <td>7.0</td>\n",
       "      <td>12.0</td>\n",
       "      <td>10.0</td>\n",
       "      <td>5.0</td>\n",
       "      <td>...</td>\n",
       "      <td>0.0</td>\n",
       "      <td>5.0</td>\n",
       "      <td>4.0</td>\n",
       "      <td>7.0</td>\n",
       "      <td>5.0</td>\n",
       "      <td>Johny Hendricks</td>\n",
       "      <td>67.0</td>\n",
       "      <td>36.0</td>\n",
       "      <td>124.0</td>\n",
       "      <td>85.0</td>\n",
       "    </tr>\n",
       "  </tbody>\n",
       "</table>\n",
       "<p>5 rows × 107 columns</p>\n",
       "</div>"
      ],
      "text/plain": [
       "   currentrnd  eventid  fightid  maxrnds            timestamp  \\\n",
       "0           1      704     5268        3  02:26:26 06/28/2016   \n",
       "1           5      704     5198        5  02:49:04 03/16/2015   \n",
       "2           3      704     5199        3  02:49:03 03/16/2015   \n",
       "3           2      704     5249        3  02:49:08 03/16/2015   \n",
       "4           3      704     5245        3  02:49:06 03/16/2015   \n",
       "\n",
       "   f1_body_significant_strikes_attempts  f1_body_significant_strikes_landed  \\\n",
       "0                                   1.0                                 0.0   \n",
       "1                                  37.0                                27.0   \n",
       "2                                  33.0                                24.0   \n",
       "3                                  16.0                                 8.0   \n",
       "4                                   9.0                                 7.0   \n",
       "\n",
       "   f1_body_total_strikes_attempts  f1_body_total_strikes_landed  \\\n",
       "0                             1.0                           0.0   \n",
       "1                            56.0                          45.0   \n",
       "2                            33.0                          24.0   \n",
       "3                            16.0                           8.0   \n",
       "4                            12.0                          10.0   \n",
       "\n",
       "   f1_clinch_body_strikes_attempts           ...             \\\n",
       "0                              0.0           ...              \n",
       "1                              5.0           ...              \n",
       "2                              2.0           ...              \n",
       "3                              1.0           ...              \n",
       "4                              5.0           ...              \n",
       "\n",
       "   f2_knock_down_landed  f2_legs_significant_strikes_attempts  \\\n",
       "0                   1.0                                   1.0   \n",
       "1                   0.0                                   5.0   \n",
       "2                   1.0                                   3.0   \n",
       "3                   1.0                                   5.0   \n",
       "4                   0.0                                   5.0   \n",
       "\n",
       "   f2_legs_significant_strikes_landed  f2_legs_total_strikes_attempts  \\\n",
       "0                                 1.0                             1.0   \n",
       "1                                 5.0                             5.0   \n",
       "2                                 1.0                             3.0   \n",
       "3                                 4.0                             5.0   \n",
       "4                                 4.0                             7.0   \n",
       "\n",
       "   f2_legs_total_strikes_landed          f2_name  \\\n",
       "0                           1.0        Joe Duffy   \n",
       "1                           5.0   Anthony Pettis   \n",
       "2                           1.0       Roy Nelson   \n",
       "3                           4.0     Ross Pearson   \n",
       "4                           5.0  Johny Hendricks   \n",
       "\n",
       "   f2_significant_strikes_attempts  f2_significant_strikes_landed  \\\n",
       "0                             40.0                           15.0   \n",
       "1                            162.0                           54.0   \n",
       "2                             77.0                           23.0   \n",
       "3                             75.0                           25.0   \n",
       "4                             67.0                           36.0   \n",
       "\n",
       "   f2_total_strikes_attempts  f2_total_strikes_landed  \n",
       "0                       40.0                     15.0  \n",
       "1                      205.0                     96.0  \n",
       "2                       77.0                     23.0  \n",
       "3                       75.0                     25.0  \n",
       "4                      124.0                     85.0  \n",
       "\n",
       "[5 rows x 107 columns]"
      ]
     },
     "execution_count": 6,
     "metadata": {},
     "output_type": "execute_result"
    }
   ],
   "source": [
    "df.head()"
   ]
  },
  {
   "cell_type": "code",
   "execution_count": 7,
   "metadata": {},
   "outputs": [
    {
     "data": {
      "text/plain": [
       "'2011-02-05'"
      ]
     },
     "execution_count": 7,
     "metadata": {},
     "output_type": "execute_result"
    }
   ],
   "source": [
    "events = pd.read_csv('../../02_Data/01_Raw_Scraped_Data/Events/events_df.csv', index_col=0)\n",
    "events.Date.min()"
   ]
  },
  {
   "cell_type": "markdown",
   "metadata": {},
   "source": [
    "## Distribution of event and fights data by year"
   ]
  },
  {
   "cell_type": "code",
   "execution_count": 8,
   "metadata": {},
   "outputs": [],
   "source": [
    "df = pd.read_csv('../../02_Data/02_Processed_Data/train_2.csv', index_col = 0)"
   ]
  },
  {
   "cell_type": "code",
   "execution_count": 9,
   "metadata": {},
   "outputs": [
    {
     "data": {
      "text/plain": [
       "dtype('O')"
      ]
     },
     "execution_count": 9,
     "metadata": {},
     "output_type": "execute_result"
    }
   ],
   "source": [
    "(df.date).dtypes"
   ]
  },
  {
   "cell_type": "code",
   "execution_count": 10,
   "metadata": {},
   "outputs": [],
   "source": [
    "df['year'] = df.date.str[:4]"
   ]
  },
  {
   "cell_type": "code",
   "execution_count": 11,
   "metadata": {},
   "outputs": [
    {
     "data": {
      "text/plain": [
       "year\n",
       "2013     44\n",
       "2014    562\n",
       "2015    752\n",
       "2016    772\n",
       "2017    716\n",
       "2018    368\n",
       "Name: fightid, dtype: int64"
      ]
     },
     "execution_count": 11,
     "metadata": {},
     "output_type": "execute_result"
    }
   ],
   "source": [
    "fights_by_year = df.groupby('year')['fightid'].count()\n",
    "fights_by_year"
   ]
  },
  {
   "cell_type": "code",
   "execution_count": 12,
   "metadata": {},
   "outputs": [
    {
     "data": {
      "text/plain": [
       "(array([ 44., 562., 752., 772., 716., 368.]),\n",
       " array([0.        , 0.83333333, 1.66666667, 2.5       , 3.33333333,\n",
       "        4.16666667, 5.        ]),\n",
       " <a list of 6 Patch objects>)"
      ]
     },
     "execution_count": 12,
     "metadata": {},
     "output_type": "execute_result"
    },
    {
     "data": {
      "image/png": "[encoded data removed]",
      "text/plain": [
       "<matplotlib.figure.Figure at 0x10a7f9080>"
      ]
     },
     "metadata": {},
     "output_type": "display_data"
    }
   ],
   "source": [
    "plt.hist(x = df['year'], bins=6 )"
   ]
  },
  {
   "cell_type": "code",
   "execution_count": null,
   "metadata": {},
   "outputs": [],
   "source": []
  }
 ],
 "metadata": {
  "kernelspec": {
   "display_name": "Python 3",
   "language": "python",
   "name": "python3"
  },
  "language_info": {
   "codemirror_mode": {
    "name": "ipython",
    "version": 3
   },
   "file_extension": ".py",
   "mimetype": "text/x-python",
   "name": "python",
   "nbconvert_exporter": "python",
   "pygments_lexer": "ipython3",
   "version": "3.6.4"
  }
 },
 "nbformat": 4,
 "nbformat_minor": 2
}
