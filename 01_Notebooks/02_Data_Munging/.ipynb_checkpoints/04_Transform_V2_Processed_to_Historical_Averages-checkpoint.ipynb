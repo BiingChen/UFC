{
 "cells": [
  {
   "cell_type": "markdown",
   "metadata": {},
   "source": [
    "# 03 Transform V2 Processed into Historical Averages"
   ]
  },
  {
   "cell_type": "markdown",
   "metadata": {},
   "source": [
    "## Imports"
   ]
  },
  {
   "cell_type": "code",
   "execution_count": 1,
   "metadata": {},
   "outputs": [],
   "source": [
    "import pandas as pd\n",
    "import re"
   ]
  },
  {
   "cell_type": "markdown",
   "metadata": {},
   "source": [
    "## Pull in V2 Processed DataFrame"
   ]
  },
  {
   "cell_type": "code",
   "execution_count": 2,
   "metadata": {},
   "outputs": [],
   "source": [
    "df = pd.read_csv('../../02_Data/02_Processed_Data/V2_Processed.csv', index_col=0)"
   ]
  },
  {
   "cell_type": "code",
   "execution_count": 3,
   "metadata": {},
   "outputs": [
    {
     "data": {
      "text/plain": [
       "(4774, 225)"
      ]
     },
     "execution_count": 3,
     "metadata": {},
     "output_type": "execute_result"
    }
   ],
   "source": [
    "df.shape"
   ]
  },
  {
   "cell_type": "code",
   "execution_count": 4,
   "metadata": {},
   "outputs": [],
   "source": [
    "def calculate_expanding_mean(df):\n",
    "    # Find the unique ID for every fighter\n",
    "    unique_ids = df.f1_fighterid.unique()\n",
    "    \n",
    "    cols_to_calc_em = df.select_dtypes(exclude='object').columns\n",
    "    cols_to_calc_em = [col for col in cols_to_calc_em if col not in ['eventid','fightid','currentrnd','maxrnds',\n",
    "                                                                     'f1_fighterid','f2_fighterid']]\n",
    "    \n",
    "    for count, unique_id in enumerate(unique_ids):\n",
    "        new_df = df[(df.f1_fighterid == unique_id)]\n",
    "        if count%50==0:\n",
    "            print(f\"{count} in {len(unique_ids)}\")\n",
    "        \n",
    "        \n",
    "        # Calculate Expanding Mean\n",
    "        df_stub = new_df.sort_values('date')[['eventid','fightid', 'f1_fighterid', 'date']].copy()\n",
    "        df_em_part = new_df.sort_values('date').expanding().mean().shift()[cols_to_calc_em]\n",
    "        df_em_part.columns = [col +'_avg' for col in df_em_part.columns]\n",
    "        df_em = pd.concat([df_stub,df_em_part], axis=1).copy()        \n",
    "        df_em = df_em.iloc[1:, :]\n",
    "        \n",
    "        try:\n",
    "            df_ems = pd.concat([df_ems, df_em], axis=0)\n",
    "\n",
    "        except NameError:\n",
    "            df_ems = df_em.copy() # If the dataframe doesn't exist yet, then copy it from df_em\n",
    "            \n",
    "        \n",
    "        \n",
    "    return df_ems"
   ]
  },
  {
   "cell_type": "code",
   "execution_count": 5,
   "metadata": {},
   "outputs": [
    {
     "name": "stdout",
     "output_type": "stream",
     "text": [
      "0 in 1091\n",
      "50 in 1091\n",
      "100 in 1091\n",
      "150 in 1091\n",
      "200 in 1091\n",
      "250 in 1091\n",
      "300 in 1091\n",
      "350 in 1091\n",
      "400 in 1091\n",
      "450 in 1091\n",
      "500 in 1091\n",
      "550 in 1091\n",
      "600 in 1091\n",
      "650 in 1091\n",
      "700 in 1091\n",
      "750 in 1091\n",
      "800 in 1091\n",
      "850 in 1091\n",
      "900 in 1091\n",
      "950 in 1091\n",
      "1000 in 1091\n",
      "1050 in 1091\n"
     ]
    }
   ],
   "source": [
    "historical_avg = calculate_expanding_mean(df)"
   ]
  },
  {
   "cell_type": "code",
   "execution_count": 6,
   "metadata": {},
   "outputs": [
    {
     "data": {
      "text/plain": [
       "(3683, 219)"
      ]
     },
     "execution_count": 6,
     "metadata": {},
     "output_type": "execute_result"
    }
   ],
   "source": [
    "historical_avg.shape"
   ]
  },
  {
   "cell_type": "markdown",
   "metadata": {},
   "source": [
    "## Export this and just first join back"
   ]
  },
  {
   "cell_type": "code",
   "execution_count": 7,
   "metadata": {},
   "outputs": [],
   "source": [
    "historical_avg.to_csv('../../02_Data/02_Processed_Data/historical_avgs.csv')"
   ]
  },
  {
   "cell_type": "code",
   "execution_count": null,
   "metadata": {},
   "outputs": [],
   "source": []
  }
 ],
 "metadata": {
  "kernelspec": {
   "display_name": "Python 3",
   "language": "python",
   "name": "python3"
  },
  "language_info": {
   "codemirror_mode": {
    "name": "ipython",
    "version": 3
   },
   "file_extension": ".py",
   "mimetype": "text/x-python",
   "name": "python",
   "nbconvert_exporter": "python",
   "pygments_lexer": "ipython3",
   "version": "3.6.4"
  }
 },
 "nbformat": 4,
 "nbformat_minor": 2
}
