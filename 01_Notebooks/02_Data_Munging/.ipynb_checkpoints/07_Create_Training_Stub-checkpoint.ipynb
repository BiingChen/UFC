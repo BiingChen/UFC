{
 "cells": [
  {
   "cell_type": "markdown",
   "metadata": {},
   "source": [
    "# 07 Create Training Stub"
   ]
  },
  {
   "cell_type": "markdown",
   "metadata": {},
   "source": [
    " - The training stub is the initial part of the dataframe that I will use to join all the other training data.  Each row represents a specific fight and the columns are the keys used to join in additional data, such as EventID - to grab additional event information, FightID - as a unique key for each fight, F1_FighterID and F2_FighterID - to grab fighter specific information\n",
    " - In this notebook, I also create the fighter \"slug\".  This acts as a key to join data scrapped from the UFC webpages as opposed to the data from the FightMetrics Jsons\n",
    " - I will use the data from the V1 Jsons as the \"base\" as it it contains the EventID, FightID, IDs for both fighters as well as the outcome for the fight\n"
   ]
  },
  {
   "cell_type": "markdown",
   "metadata": {},
   "source": [
    "## Imports"
   ]
  },
  {
   "cell_type": "code",
   "execution_count": 14,
   "metadata": {},
   "outputs": [],
   "source": [
    "import pandas as pd\n",
    "import numpy as np\n",
    "import re"
   ]
  },
  {
   "cell_type": "markdown",
   "metadata": {},
   "source": [
    "## Import V1_Fight_Fighters_FighterInfo and convert columns to lowercase"
   ]
  },
  {
   "cell_type": "code",
   "execution_count": 15,
   "metadata": {},
   "outputs": [],
   "source": [
    "V1_df = pd.read_csv('../../02_Data/02_Processed_Data/V1_DF_w_flipped.csv', index_col=0)\n",
    "V1_df = V1_df.reset_index().drop(columns='index')\n",
    "V1_df.columns = [col.lower() for col in V1_df.columns]"
   ]
  },
  {
   "cell_type": "markdown",
   "metadata": {},
   "source": [
    "## Create train dataframe from V1_df"
   ]
  },
  {
   "cell_type": "code",
   "execution_count": 16,
   "metadata": {},
   "outputs": [],
   "source": [
    "train_columns = ['eventid','fightid','f1_fullname','f2_fullname','f1_fighterid','f2_fighterid','f1_outcome']\n",
    "train = V1_df[train_columns].reset_index().drop(columns='index')\n"
   ]
  },
  {
   "cell_type": "markdown",
   "metadata": {},
   "source": [
    "## Create f1 and f2 slug columns to act as keys for joining the fighter info scraped from UFC website"
   ]
  },
  {
   "cell_type": "markdown",
   "metadata": {},
   "source": [
    "#### I was not able to find a direct link between the FighterIDs and the fighter slugs, so I converted the names to slugs and then created a map to fix the issues"
   ]
  },
  {
   "cell_type": "code",
   "execution_count": 17,
   "metadata": {},
   "outputs": [],
   "source": [
    "slug_map = {'kamaruusman':'kamarudeenusman', \n",
    "            'marcopoloreyes':'poloreyes',   \n",
    "            'marcioalexandrejr':'marcioalexandre',   \n",
    "            'claudiosilva':'claudiohenriquedasilva',   \n",
    "            'philhawes':'philliphawes',   \n",
    "            'rampagejackson':'quintonjackson',   \n",
    "            'nicomusoke':'nicholasmusoke',   \n",
    "            'paddyholohan':'patrickholohan',               \n",
    "            'migueltorres':'miguelangeltorres',   \n",
    "            'songkenan':'kenansong',   \n",
    "            'wuyanan':'yananwu',   \n",
    "            'williampatolino':'williammacario',   \n",
    "            'zhanglipeng':'lipengzhang',               \n",
    "            'jacaresouza':'ronaldosouza',   \n",
    "            'antoniorodrigonogueira':'minotauronogueira',   \n",
    "            'josemaria':'josemariatome',     \n",
    "            'alexeyoleinik':'oleksiyoliynyk',   \n",
    "            'timjohnson':'timothyjohnson',               \n",
    "            'rogerionogueira':'antoniorogerionogueira',   \n",
    "            'dmitriismoliakov':'dmitrysmolyakov',  \n",
    "            'humbertobrownmorrison':'humbertobrown',   \n",
    "            'joshuasampo':'joshsampo',   \n",
    "            'alekseioleinik':'oleksiyoliynyk',   \n",
    "            'bradleyscott':'bradscott',               \n",
    "            'juanmanuelpuig':'juanmanuelpuigcarreon',   \n",
    "            'ruonpotts':'ruanpotts', \n",
    "            'wendelloliveiramarques':'wendelloliveira',   \n",
    "            'rodolforubioperez':'rodolforubio',   \n",
    "            'michaloleksiejczuk':'michaeloleksiejczuk',   \n",
    "            'anthonywaldburger':'tjwaldburgerfighter',   \n",
    "            'antoniocarlosjr':'antoniocarlos',               \n",
    "            'wagnersilva':'wagnersilvagomes',   \n",
    "            'richardsonmorreira':'richardsonmoreira',  \n",
    "            'joegigliotti':'josephgigliotti',   \n",
    "            'deivesonfigueiredo':'deivesonalcantara',   \n",
    "            'carlsjohndethomas':'carlsjohndetomas',   \n",
    "            'alexandervolkanovski':'alexvolkanovski',   \n",
    "            'ningguangyou':'guangyouning',               \n",
    "            'joshuaburkman':'joshburkman',   \n",
    "            'pauloborrachinha':'paulohenriquecosta',              \n",
    "            'renatocarneiro':'renatomoicano',   \n",
    "            'daveygrant':'davidgrant',   \n",
    "            'peggymorgan':'margaretmorgan',   \n",
    "            'mikerodriguez':'michaelrodriguez',               \n",
    "            'henriquedasilva':'luizhenriquedasilva',   \n",
    "            'rafaelfeijao':'rafaelcavalcante',   \n",
    "            'landovannata':'landonvannata',   \n",
    "            'freddyserrano':'fredyserrano',   \n",
    "            'davidmitchell':'davidmitchellfighter',   \n",
    "            'marcioalexandrejunior':'marcioalexandre',               \n",
    "            'garrethmclellen':'garrethmclellan',   \n",
    "            'manvelgamburyan':'mannygamburyan',\n",
    "            'mairbecktaisumov':'mairbektaisumov',\n",
    "            'jussierdasilva':'jussierformiga',\n",
    "            'ramirohernandez':'ramirohernandezjr',\n",
    "            'tiagodossantosesilva':'',   \n",
    "            'ovincesaintpreux':'ovincestpreux',\n",
    "            'davidbranch':'davebranch',\n",
    "            'heatherjoclark':'heatherclark',\n",
    "            'marcosrogeriodelima':'marcusrogeriodelima',\n",
    "            'danielhooker':'danhooker',            \n",
    "            'alextorres':'alexandertorres',\n",
    "            'luisgomez':'luisraulgomez',\n",
    "            'antoniocarlosjunior':'antoniocarlos',\n",
    "            'leonardoaugustoleleco':'leonardoaugustoguimaraes',\n",
    "            'yanxiaonan':'xiaonanyan',\n",
    "            'ulkasasaki':'yutasasaki',\n",
    "            'huyaozong':'yaozonghu',\n",
    "            'jimyhettes':'jimhettes',\n",
    "            'robertwhiteford':'robwhiteford',\n",
    "            'costasphilippou':'constantinosphilippou',\n",
    "            'timothyelliott':'timelliott',\n",
    "            'tatianasuarez':'tatianasaurez',\n",
    "            'jingliangli':'lijingliang',\n",
    "            'jimmywallhead':'jimwallhead',\n",
    "            'emilmeek':'emilweber',\n",
    "            'khalilrountreejr':'khalilrountree',            \n",
    "            'jackmarshman':'jackharshman',\n",
    "            'paulocosta':'paulohenriquecosta',\n",
    "            'joeduffy':'josephduffy',\n",
    "            'michelquinones':'michaelquinones',            \n",
    "            'alessandroricci':'alesandroricci',\n",
    "            'joshstansbury':'joshuastansbury',\n",
    "            'robertmcdaniel':'bubbamcdaniel',\n",
    "            'saparbegsafarov':'saparbeksafarov',\n",
    "            'danielkelly':'dankelly',\n",
    "            'diegoferreira':'carlosdiegoferreira',\n",
    "            'godofredopepey':'godofredocastro',\n",
    "            'songyadong':'yadongsong',\n",
    "            'edimilsonsouza':'kevinsouza'}"
   ]
  },
  {
   "cell_type": "code",
   "execution_count": 18,
   "metadata": {},
   "outputs": [],
   "source": [
    "def convert_name_to_slug(name):\n",
    "    name = re.sub(' ','', name)\n",
    "    name = re.sub('\\.','', name)\n",
    "    name = re.sub(\"'\",\"\", name)\n",
    "    slug = re.sub('-','', name).lower()\n",
    "    return slug\n",
    "\n",
    "train['f1_slug'] = train.f1_fullname.map(convert_name_to_slug)\n",
    "train['f1_slug'].replace(slug_map, inplace=True)\n",
    "train['f2_slug'] = train.f2_fullname.map(convert_name_to_slug)\n",
    "train['f2_slug'].replace(slug_map, inplace=True)"
   ]
  },
  {
   "cell_type": "markdown",
   "metadata": {},
   "source": [
    "## There are 106 missing outcomes"
   ]
  },
  {
   "cell_type": "code",
   "execution_count": 19,
   "metadata": {},
   "outputs": [
    {
     "name": "stdout",
     "output_type": "stream",
     "text": [
      "(106, 9)\n"
     ]
    },
    {
     "data": {
      "text/html": [
       "<div>\n",
       "<style scoped>\n",
       "    .dataframe tbody tr th:only-of-type {\n",
       "        vertical-align: middle;\n",
       "    }\n",
       "\n",
       "    .dataframe tbody tr th {\n",
       "        vertical-align: top;\n",
       "    }\n",
       "\n",
       "    .dataframe thead th {\n",
       "        text-align: right;\n",
       "    }\n",
       "</style>\n",
       "<table border=\"1\" class=\"dataframe\">\n",
       "  <thead>\n",
       "    <tr style=\"text-align: right;\">\n",
       "      <th></th>\n",
       "      <th>eventid</th>\n",
       "      <th>fightid</th>\n",
       "      <th>f1_fullname</th>\n",
       "      <th>f2_fullname</th>\n",
       "      <th>f1_fighterid</th>\n",
       "      <th>f2_fighterid</th>\n",
       "      <th>f1_outcome</th>\n",
       "      <th>f1_slug</th>\n",
       "      <th>f2_slug</th>\n",
       "    </tr>\n",
       "  </thead>\n",
       "  <tbody>\n",
       "    <tr>\n",
       "      <th>0</th>\n",
       "      <td>644</td>\n",
       "      <td>4512</td>\n",
       "      <td>Antonio Silva</td>\n",
       "      <td>Mark Hunt</td>\n",
       "      <td>1431</td>\n",
       "      <td>735</td>\n",
       "      <td>NaN</td>\n",
       "      <td>antoniosilva</td>\n",
       "      <td>markhunt</td>\n",
       "    </tr>\n",
       "    <tr>\n",
       "      <th>17</th>\n",
       "      <td>701</td>\n",
       "      <td>5158</td>\n",
       "      <td>Levan Makashvili</td>\n",
       "      <td>Nik Lentz</td>\n",
       "      <td>2430</td>\n",
       "      <td>1137</td>\n",
       "      <td>NaN</td>\n",
       "      <td>levanmakashvili</td>\n",
       "      <td>niklentz</td>\n",
       "    </tr>\n",
       "    <tr>\n",
       "      <th>51</th>\n",
       "      <td>740</td>\n",
       "      <td>5759</td>\n",
       "      <td>Teruto Ishihara</td>\n",
       "      <td>Mizuto Hirota</td>\n",
       "      <td>2655</td>\n",
       "      <td>1177</td>\n",
       "      <td>NaN</td>\n",
       "      <td>terutoishihara</td>\n",
       "      <td>mizutohirota</td>\n",
       "    </tr>\n",
       "  </tbody>\n",
       "</table>\n",
       "</div>"
      ],
      "text/plain": [
       "    eventid  fightid       f1_fullname    f2_fullname  f1_fighterid  \\\n",
       "0       644     4512     Antonio Silva      Mark Hunt          1431   \n",
       "17      701     5158  Levan Makashvili      Nik Lentz          2430   \n",
       "51      740     5759   Teruto Ishihara  Mizuto Hirota          2655   \n",
       "\n",
       "    f2_fighterid f1_outcome          f1_slug       f2_slug  \n",
       "0            735        NaN     antoniosilva      markhunt  \n",
       "17          1137        NaN  levanmakashvili      niklentz  \n",
       "51          1177        NaN   terutoishihara  mizutohirota  "
      ]
     },
     "execution_count": 19,
     "metadata": {},
     "output_type": "execute_result"
    }
   ],
   "source": [
    "print(train[train.f1_outcome.isnull()].shape)\n",
    "train[train.f1_outcome.isnull()].head(3)"
   ]
  },
  {
   "cell_type": "markdown",
   "metadata": {},
   "source": [
    "## Fill in the missing outcomes after aggregating data"
   ]
  },
  {
   "cell_type": "code",
   "execution_count": 20,
   "metadata": {},
   "outputs": [],
   "source": [
    "def fill_in_outcome(df, fight_id, newval):\n",
    "    index = df[df.fightid == fight_id].index[0]\n",
    "    df.at[index,'f1_outcome'] = newval\n",
    "    return df"
   ]
  },
  {
   "cell_type": "code",
   "execution_count": 21,
   "metadata": {},
   "outputs": [],
   "source": [
    "#train = fill_in_outcome(train, 4512, \"Win\")"
   ]
  },
  {
   "cell_type": "markdown",
   "metadata": {},
   "source": [
    "## Export Train_stub for use later"
   ]
  },
  {
   "cell_type": "code",
   "execution_count": 22,
   "metadata": {},
   "outputs": [],
   "source": [
    "train.to_csv('../../02_Data/02_Processed_Data/train_stub.csv')"
   ]
  }
 ],
 "metadata": {
  "kernelspec": {
   "display_name": "Python 3",
   "language": "python",
   "name": "python3"
  },
  "language_info": {
   "codemirror_mode": {
    "name": "ipython",
    "version": 3
   },
   "file_extension": ".py",
   "mimetype": "text/x-python",
   "name": "python",
   "nbconvert_exporter": "python",
   "pygments_lexer": "ipython3",
   "version": "3.6.4"
  }
 },
 "nbformat": 4,
 "nbformat_minor": 2
}
