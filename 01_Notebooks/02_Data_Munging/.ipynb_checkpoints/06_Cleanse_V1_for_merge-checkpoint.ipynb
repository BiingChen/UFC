{
 "cells": [
  {
   "cell_type": "markdown",
   "metadata": {},
   "source": [
    "# 05 Cleanse V1 into Fighter Static Info"
   ]
  },
  {
   "cell_type": "markdown",
   "metadata": {},
   "source": [
    "## Imports"
   ]
  },
  {
   "cell_type": "code",
   "execution_count": 25,
   "metadata": {},
   "outputs": [],
   "source": [
    "import pandas as pd\n",
    "import numpy as np\n",
    "from scipy import stats"
   ]
  },
  {
   "cell_type": "markdown",
   "metadata": {},
   "source": [
    "## Import V1_DF_w_flipped and convert columns to lowercase"
   ]
  },
  {
   "cell_type": "code",
   "execution_count": 26,
   "metadata": {},
   "outputs": [],
   "source": [
    "V1_df = pd.read_csv('../../02_Data/02_Processed_Data/V1_DF_w_flipped.csv', index_col=0)\n",
    "V1_df = V1_df.reset_index().drop(columns='index')\n",
    "V1_df.columns = [col.lower() for col in V1_df.columns]"
   ]
  },
  {
   "cell_type": "code",
   "execution_count": 27,
   "metadata": {},
   "outputs": [],
   "source": [
    "# Build out the list of columns I want to pull from V1_df\n",
    "stats_columns = ['eventid','f1_fighterid', 'f1_height','f1_weight','f1_stance']\n",
    "\n",
    "# Create a dataframe fighter_stats\n",
    "fighter_static_stats = V1_df[stats_columns].copy()\n",
    "# Change Stance to boolean\n",
    "fighter_static_stats.f1_stance = fighter_static_stats.f1_stance.map(lambda x: 0 if x == 'Orthodox' else 1)\n",
    "fighter_static_stats.columns = ['eventid']+[col[3:] for col in fighter_static_stats.columns if 'eventid' != col]"
   ]
  },
  {
   "cell_type": "markdown",
   "metadata": {},
   "source": [
    "## Use fighter page info to join here"
   ]
  },
  {
   "cell_type": "code",
   "execution_count": 28,
   "metadata": {},
   "outputs": [],
   "source": [
    "fighter_page_info = pd.read_csv('../../02_Data/02_Processed_Data/fighter_page_info.csv', index_col=0)"
   ]
  },
  {
   "cell_type": "code",
   "execution_count": 29,
   "metadata": {},
   "outputs": [
    {
     "data": {
      "text/html": [
       "<div>\n",
       "<style scoped>\n",
       "    .dataframe tbody tr th:only-of-type {\n",
       "        vertical-align: middle;\n",
       "    }\n",
       "\n",
       "    .dataframe tbody tr th {\n",
       "        vertical-align: top;\n",
       "    }\n",
       "\n",
       "    .dataframe thead th {\n",
       "        text-align: right;\n",
       "    }\n",
       "</style>\n",
       "<table border=\"1\" class=\"dataframe\">\n",
       "  <thead>\n",
       "    <tr style=\"text-align: right;\">\n",
       "      <th></th>\n",
       "      <th>fighter_slug</th>\n",
       "      <th>reach</th>\n",
       "      <th>weight</th>\n",
       "      <th>height</th>\n",
       "      <th>fighterid</th>\n",
       "    </tr>\n",
       "  </thead>\n",
       "  <tbody>\n",
       "    <tr>\n",
       "      <th>0</th>\n",
       "      <td>dannyabbadi</td>\n",
       "      <td>NaN</td>\n",
       "      <td>185.0</td>\n",
       "      <td>71.0</td>\n",
       "      <td>NaN</td>\n",
       "    </tr>\n",
       "    <tr>\n",
       "      <th>1</th>\n",
       "      <td>tankabbott</td>\n",
       "      <td>NaN</td>\n",
       "      <td>250.0</td>\n",
       "      <td>72.0</td>\n",
       "      <td>NaN</td>\n",
       "    </tr>\n",
       "  </tbody>\n",
       "</table>\n",
       "</div>"
      ],
      "text/plain": [
       "  fighter_slug  reach  weight  height  fighterid\n",
       "0  dannyabbadi    NaN   185.0    71.0        NaN\n",
       "1   tankabbott    NaN   250.0    72.0        NaN"
      ]
     },
     "execution_count": 29,
     "metadata": {},
     "output_type": "execute_result"
    }
   ],
   "source": [
    "fighter_page_info.head(2)"
   ]
  },
  {
   "cell_type": "markdown",
   "metadata": {},
   "source": [
    "There are 220 weights with 0 value in the static fighter stats.  Use data from fighter page info to fill it in"
   ]
  },
  {
   "cell_type": "code",
   "execution_count": 30,
   "metadata": {},
   "outputs": [
    {
     "data": {
      "text/plain": [
       "(220, 5)"
      ]
     },
     "execution_count": 30,
     "metadata": {},
     "output_type": "execute_result"
    }
   ],
   "source": [
    "fighter_static_stats[fighter_static_stats.weight == 0].shape"
   ]
  },
  {
   "cell_type": "markdown",
   "metadata": {},
   "source": [
    "## Fill in 0 weights using fighter page info"
   ]
  },
  {
   "cell_type": "code",
   "execution_count": 31,
   "metadata": {},
   "outputs": [],
   "source": [
    "def get_fighter_page_info(fighter_id):\n",
    "    try:\n",
    "        value = fighter_page_info.loc[fighter_page_info.fighterid==fighter_id,'weight'].iloc[0]\n",
    "    except:\n",
    "        value = 0\n",
    "    \n",
    "    return value"
   ]
  },
  {
   "cell_type": "code",
   "execution_count": 32,
   "metadata": {},
   "outputs": [],
   "source": [
    "fighter_static_stats.loc[fighter_static_stats.weight == 0,'weight'] = \\\n",
    "fighter_static_stats[fighter_static_stats.weight == 0]['fighterid'].map(get_fighter_page_info)"
   ]
  },
  {
   "cell_type": "markdown",
   "metadata": {},
   "source": [
    "After filling, 1 fighter is still 0 weight.  He has a height of 70 inches.  Use the mode of fighters that are 70 inches tall to fill in the value"
   ]
  },
  {
   "cell_type": "code",
   "execution_count": 33,
   "metadata": {},
   "outputs": [
    {
     "data": {
      "text/html": [
       "<div>\n",
       "<style scoped>\n",
       "    .dataframe tbody tr th:only-of-type {\n",
       "        vertical-align: middle;\n",
       "    }\n",
       "\n",
       "    .dataframe tbody tr th {\n",
       "        vertical-align: top;\n",
       "    }\n",
       "\n",
       "    .dataframe thead th {\n",
       "        text-align: right;\n",
       "    }\n",
       "</style>\n",
       "<table border=\"1\" class=\"dataframe\">\n",
       "  <thead>\n",
       "    <tr style=\"text-align: right;\">\n",
       "      <th></th>\n",
       "      <th>eventid</th>\n",
       "      <th>fighterid</th>\n",
       "      <th>height</th>\n",
       "      <th>weight</th>\n",
       "      <th>stance</th>\n",
       "    </tr>\n",
       "  </thead>\n",
       "  <tbody>\n",
       "    <tr>\n",
       "      <th>550</th>\n",
       "      <td>628</td>\n",
       "      <td>1920</td>\n",
       "      <td>70</td>\n",
       "      <td>0.0</td>\n",
       "      <td>1</td>\n",
       "    </tr>\n",
       "  </tbody>\n",
       "</table>\n",
       "</div>"
      ],
      "text/plain": [
       "     eventid  fighterid  height  weight  stance\n",
       "550      628       1920      70     0.0       1"
      ]
     },
     "execution_count": 33,
     "metadata": {},
     "output_type": "execute_result"
    }
   ],
   "source": [
    "fighter_static_stats[fighter_static_stats.weight == 0]"
   ]
  },
  {
   "cell_type": "code",
   "execution_count": 34,
   "metadata": {},
   "outputs": [],
   "source": [
    "fighter_static_stats[fighter_static_stats.weight == 0] = \\\n",
    "fighter_static_stats[fighter_static_stats.height==70].weight.value_counts().keys()[0]"
   ]
  },
  {
   "cell_type": "markdown",
   "metadata": {},
   "source": [
    "No More 0 weights"
   ]
  },
  {
   "cell_type": "code",
   "execution_count": 35,
   "metadata": {},
   "outputs": [
    {
     "data": {
      "text/plain": [
       "(0, 5)"
      ]
     },
     "execution_count": 35,
     "metadata": {},
     "output_type": "execute_result"
    }
   ],
   "source": [
    "fighter_static_stats[fighter_static_stats.weight == 0].shape"
   ]
  },
  {
   "cell_type": "markdown",
   "metadata": {},
   "source": [
    "## Finally, merge reach from fighter page info onto static fighter stats\n",
    "- We won't need to merge fighter page info anymore"
   ]
  },
  {
   "cell_type": "code",
   "execution_count": 36,
   "metadata": {},
   "outputs": [
    {
     "data": {
      "text/html": [
       "<div>\n",
       "<style scoped>\n",
       "    .dataframe tbody tr th:only-of-type {\n",
       "        vertical-align: middle;\n",
       "    }\n",
       "\n",
       "    .dataframe tbody tr th {\n",
       "        vertical-align: top;\n",
       "    }\n",
       "\n",
       "    .dataframe thead th {\n",
       "        text-align: right;\n",
       "    }\n",
       "</style>\n",
       "<table border=\"1\" class=\"dataframe\">\n",
       "  <thead>\n",
       "    <tr style=\"text-align: right;\">\n",
       "      <th></th>\n",
       "      <th>fighter_slug</th>\n",
       "      <th>reach</th>\n",
       "      <th>weight</th>\n",
       "      <th>height</th>\n",
       "      <th>fighterid</th>\n",
       "    </tr>\n",
       "  </thead>\n",
       "  <tbody>\n",
       "    <tr>\n",
       "      <th>0</th>\n",
       "      <td>dannyabbadi</td>\n",
       "      <td>NaN</td>\n",
       "      <td>185.0</td>\n",
       "      <td>71.0</td>\n",
       "      <td>NaN</td>\n",
       "    </tr>\n",
       "    <tr>\n",
       "      <th>1</th>\n",
       "      <td>tankabbott</td>\n",
       "      <td>NaN</td>\n",
       "      <td>250.0</td>\n",
       "      <td>72.0</td>\n",
       "      <td>NaN</td>\n",
       "    </tr>\n",
       "    <tr>\n",
       "      <th>2</th>\n",
       "      <td>shamilabdurakhimov</td>\n",
       "      <td>76.0</td>\n",
       "      <td>235.0</td>\n",
       "      <td>75.0</td>\n",
       "      <td>2424.0</td>\n",
       "    </tr>\n",
       "    <tr>\n",
       "      <th>3</th>\n",
       "      <td>daichiabe</td>\n",
       "      <td>71.0</td>\n",
       "      <td>170.0</td>\n",
       "      <td>71.0</td>\n",
       "      <td>2964.0</td>\n",
       "    </tr>\n",
       "    <tr>\n",
       "      <th>4</th>\n",
       "      <td>papyabedi</td>\n",
       "      <td>74.0</td>\n",
       "      <td>185.0</td>\n",
       "      <td>71.0</td>\n",
       "      <td>1878.0</td>\n",
       "    </tr>\n",
       "  </tbody>\n",
       "</table>\n",
       "</div>"
      ],
      "text/plain": [
       "         fighter_slug  reach  weight  height  fighterid\n",
       "0         dannyabbadi    NaN   185.0    71.0        NaN\n",
       "1          tankabbott    NaN   250.0    72.0        NaN\n",
       "2  shamilabdurakhimov   76.0   235.0    75.0     2424.0\n",
       "3           daichiabe   71.0   170.0    71.0     2964.0\n",
       "4           papyabedi   74.0   185.0    71.0     1878.0"
      ]
     },
     "execution_count": 36,
     "metadata": {},
     "output_type": "execute_result"
    }
   ],
   "source": [
    "fighter_page_info.head()"
   ]
  },
  {
   "cell_type": "code",
   "execution_count": 37,
   "metadata": {},
   "outputs": [],
   "source": [
    "for_merge = fighter_page_info[['fighterid','reach']].dropna()"
   ]
  },
  {
   "cell_type": "code",
   "execution_count": 38,
   "metadata": {},
   "outputs": [],
   "source": [
    "fighter_static_stats = fighter_static_stats.merge(for_merge, how='left', on='fighterid')"
   ]
  },
  {
   "cell_type": "markdown",
   "metadata": {},
   "source": [
    "## 107 reach values are null.  Impute the reach using the height"
   ]
  },
  {
   "cell_type": "code",
   "execution_count": 39,
   "metadata": {},
   "outputs": [
    {
     "data": {
      "text/plain": [
       "eventid        0\n",
       "fighterid      0\n",
       "height         0\n",
       "weight         0\n",
       "stance         0\n",
       "reach        107\n",
       "dtype: int64"
      ]
     },
     "execution_count": 39,
     "metadata": {},
     "output_type": "execute_result"
    }
   ],
   "source": [
    "fighter_static_stats.isnull().sum()"
   ]
  },
  {
   "cell_type": "code",
   "execution_count": 40,
   "metadata": {},
   "outputs": [],
   "source": [
    "fighter_static_stats.loc[fighter_static_stats.reach.isnull(), 'reach'] = \\\n",
    "fighter_static_stats[fighter_static_stats.reach.isnull()].height"
   ]
  },
  {
   "cell_type": "markdown",
   "metadata": {},
   "source": [
    "## Calculate physical property ratios\n",
    "- reach to height ratio\n",
    "- reach to weight ratio\n",
    "- height to weight ratio"
   ]
  },
  {
   "cell_type": "code",
   "execution_count": 41,
   "metadata": {},
   "outputs": [],
   "source": [
    "fighter_static_stats['reach_height_ratio'] = fighter_static_stats.apply(lambda x: x['reach']/x['height'], axis=1)\n",
    "fighter_static_stats['reach_weight_ratio'] = fighter_static_stats.apply(lambda x: x['reach']/x['weight'], axis=1)\n",
    "fighter_static_stats['height_weight_ratio'] = fighter_static_stats.apply(lambda x: x['height']/x['weight'], axis=1)"
   ]
  },
  {
   "cell_type": "markdown",
   "metadata": {},
   "source": [
    "## Export fighter static stats - to be merged using eventid and fighterid"
   ]
  },
  {
   "cell_type": "code",
   "execution_count": 42,
   "metadata": {},
   "outputs": [],
   "source": [
    "fighter_static_stats.to_csv('../../02_Data/02_Processed_Data/fighter_static_stats.csv')"
   ]
  }
 ],
 "metadata": {
  "kernelspec": {
   "display_name": "Python 3",
   "language": "python",
   "name": "python3"
  },
  "language_info": {
   "codemirror_mode": {
    "name": "ipython",
    "version": 3
   },
   "file_extension": ".py",
   "mimetype": "text/x-python",
   "name": "python",
   "nbconvert_exporter": "python",
   "pygments_lexer": "ipython3",
   "version": "3.6.4"
  }
 },
 "nbformat": 4,
 "nbformat_minor": 2
}
