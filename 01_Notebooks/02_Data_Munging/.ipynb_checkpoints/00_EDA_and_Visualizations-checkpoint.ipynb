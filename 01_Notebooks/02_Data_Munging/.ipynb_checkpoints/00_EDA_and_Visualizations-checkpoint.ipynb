{
 "cells": [
  {
   "cell_type": "markdown",
   "metadata": {},
   "source": [
    "# 00 EDA and Visualizations"
   ]
  },
  {
   "cell_type": "markdown",
   "metadata": {},
   "source": [
    "## Imports"
   ]
  },
  {
   "cell_type": "code",
   "execution_count": 5,
   "metadata": {},
   "outputs": [],
   "source": [
    "import pandas as pd\n",
    "from matplotlib import pyplot\n",
    "import seaborn as sns\n",
    "%matplotlib inline"
   ]
  },
  {
   "cell_type": "markdown",
   "metadata": {},
   "source": [
    "## Import training data"
   ]
  },
  {
   "cell_type": "code",
   "execution_count": 6,
   "metadata": {},
   "outputs": [],
   "source": [
    "df = pd.read_csv('../../02_Data/02_Processed_Data/train.csv', index_col = 0)"
   ]
  },
  {
   "cell_type": "markdown",
   "metadata": {},
   "source": [
    "## First goal, look at win rate by reach ratio..."
   ]
  },
  {
   "cell_type": "markdown",
   "metadata": {},
   "source": [
    "## Let's look at reach differential in inches, not as a ratio"
   ]
  },
  {
   "cell_type": "code",
   "execution_count": 7,
   "metadata": {},
   "outputs": [],
   "source": [
    "def calc_fight_stat_differential(df, col_root):\n",
    "    f1 = 'f1_' + col_root\n",
    "    f2 = 'f2_' + col_root\n",
    "    diff = col_root + '_diff'\n",
    "    df[diff] = df.apply(lambda x: (x[f1] - x[f2])/(x[f1] + x[f2]) if (x[f1] + x[f2]) != 0 else 0, axis=1)\n",
    "    return df"
   ]
  },
  {
   "cell_type": "code",
   "execution_count": 8,
   "metadata": {},
   "outputs": [
    {
     "data": {
      "text/plain": [
       "0    75.0\n",
       "1    74.0\n",
       "2    74.0\n",
       "3    71.0\n",
       "4    73.0\n",
       "Name: f1_reach, dtype: float64"
      ]
     },
     "execution_count": 8,
     "metadata": {},
     "output_type": "execute_result"
    }
   ],
   "source": [
    "df.f1_reach.head()"
   ]
  },
  {
   "cell_type": "code",
   "execution_count": 9,
   "metadata": {},
   "outputs": [
    {
     "data": {
      "text/plain": [
       "0       74.0\n",
       "1       70.0\n",
       "2       69.0\n",
       "3       80.0\n",
       "4       70.0\n",
       "5       67.0\n",
       "6       63.0\n",
       "7       70.0\n",
       "8       72.0\n",
       "9       64.0\n",
       "10      68.0\n",
       "11      75.0\n",
       "12      71.0\n",
       "13      76.0\n",
       "14      74.0\n",
       "15      68.0\n",
       "16      72.0\n",
       "17      66.0\n",
       "18      77.0\n",
       "19      69.0\n",
       "20      75.0\n",
       "21      75.0\n",
       "22      70.0\n",
       "23      68.0\n",
       "24      71.0\n",
       "25      70.0\n",
       "26      69.0\n",
       "27      72.0\n",
       "28      78.0\n",
       "29      76.0\n",
       "        ... \n",
       "3184    72.0\n",
       "3185    67.0\n",
       "3186    77.0\n",
       "3187    76.0\n",
       "3188    72.0\n",
       "3189    77.0\n",
       "3190    67.0\n",
       "3191    80.0\n",
       "3192    66.0\n",
       "3193    67.0\n",
       "3194    73.0\n",
       "3195    65.0\n",
       "3196    69.0\n",
       "3197    73.0\n",
       "3198    74.0\n",
       "3199    71.0\n",
       "3200    71.0\n",
       "3201    72.0\n",
       "3202    72.0\n",
       "3203    77.0\n",
       "3204    78.0\n",
       "3205    69.0\n",
       "3206    70.0\n",
       "3207    67.0\n",
       "3208    63.0\n",
       "3209    73.0\n",
       "3210    64.0\n",
       "3211    76.0\n",
       "3212    74.0\n",
       "3213    74.0\n",
       "Name: f2_reach, Length: 3214, dtype: float64"
      ]
     },
     "execution_count": 9,
     "metadata": {},
     "output_type": "execute_result"
    }
   ],
   "source": [
    "df.f2_reach"
   ]
  },
  {
   "cell_type": "code",
   "execution_count": 10,
   "metadata": {},
   "outputs": [],
   "source": [
    "df['f1_reach_adv'] = df.apply(lambda x: x['f1_reach'] - x['f2_reach'], axis=1)\n",
    "df['f1_height_adv'] = df.apply(lambda x: x['f1_height'] - x['f2_height'], axis=1)"
   ]
  },
  {
   "cell_type": "code",
   "execution_count": 11,
   "metadata": {},
   "outputs": [
    {
     "data": {
      "text/plain": [
       "-12.0"
      ]
     },
     "execution_count": 11,
     "metadata": {},
     "output_type": "execute_result"
    }
   ],
   "source": [
    "df['f1_reach_adv'].min()"
   ]
  },
  {
   "cell_type": "code",
   "execution_count": 12,
   "metadata": {},
   "outputs": [],
   "source": [
    "df['outcome'] = df.f1_outcome.map(lambda x: 1 if x=='Win' else 0)"
   ]
  },
  {
   "cell_type": "code",
   "execution_count": 13,
   "metadata": {},
   "outputs": [
    {
     "data": {
      "text/plain": [
       "<matplotlib.axes._subplots.AxesSubplot at 0x111c669b0>"
      ]
     },
     "execution_count": 13,
     "metadata": {},
     "output_type": "execute_result"
    },
    {
     "data": {
      "image/png": "[encoded data removed]",
      "text/plain": [
       "<matplotlib.figure.Figure at 0x111c5ef98>"
      ]
     },
     "metadata": {},
     "output_type": "display_data"
    }
   ],
   "source": [
    "sns.boxplot(x='f1_outcome',y='f1_reach_adv', data=df)"
   ]
  },
  {
   "cell_type": "code",
   "execution_count": 14,
   "metadata": {},
   "outputs": [
    {
     "data": {
      "text/plain": [
       "<matplotlib.axes._subplots.AxesSubplot at 0x1a176c32e8>"
      ]
     },
     "execution_count": 14,
     "metadata": {},
     "output_type": "execute_result"
    },
    {
     "data": {
      "image/png": "[encoded data removed]",
      "text/plain": [
       "<matplotlib.figure.Figure at 0x10adb9cf8>"
      ]
     },
     "metadata": {},
     "output_type": "display_data"
    }
   ],
   "source": [
    "df.groupby('f1_reach_adv')['outcome'].mean().plot()"
   ]
  },
  {
   "cell_type": "code",
   "execution_count": 15,
   "metadata": {},
   "outputs": [
    {
     "data": {
      "text/plain": [
       "0       1.000000\n",
       "1       1.000000\n",
       "2       1.013699\n",
       "3       1.014286\n",
       "4       1.028169\n",
       "5       1.115942\n",
       "6       1.014925\n",
       "7       1.119403\n",
       "8       1.028986\n",
       "9       0.985075\n",
       "10      1.000000\n",
       "11      1.070423\n",
       "12      1.000000\n",
       "13      1.028169\n",
       "14      1.029412\n",
       "15      1.015385\n",
       "16      1.055556\n",
       "17      1.030769\n",
       "18      1.013158\n",
       "19      1.030303\n",
       "20      1.014286\n",
       "21      1.015152\n",
       "22      1.030769\n",
       "23      1.031250\n",
       "24      1.000000\n",
       "25      1.028571\n",
       "26      1.000000\n",
       "27      1.069444\n",
       "28      1.000000\n",
       "29      1.097222\n",
       "          ...   \n",
       "3184    1.044776\n",
       "3185    0.984375\n",
       "3186    1.068493\n",
       "3187    1.014085\n",
       "3188    1.000000\n",
       "3189    1.068493\n",
       "3190    1.059701\n",
       "3191    1.000000\n",
       "3192    0.969697\n",
       "3193    1.014706\n",
       "3194    1.056338\n",
       "3195    1.015625\n",
       "3196    1.000000\n",
       "3197    1.014286\n",
       "3198    1.055556\n",
       "3199    1.070423\n",
       "3200    1.028986\n",
       "3201    1.043478\n",
       "3202    1.041667\n",
       "3203    0.986667\n",
       "3204    1.027778\n",
       "3205    1.015385\n",
       "3206    1.014286\n",
       "3207    1.047619\n",
       "3208    1.030769\n",
       "3209    0.986111\n",
       "3210    1.015873\n",
       "3211    1.056338\n",
       "3212    1.040000\n",
       "3213    1.027778\n",
       "Name: f1_reach_height_ratio, Length: 3214, dtype: float64"
      ]
     },
     "execution_count": 15,
     "metadata": {},
     "output_type": "execute_result"
    }
   ],
   "source": [
    "df.f1_reach_height_ratio"
   ]
  },
  {
   "cell_type": "markdown",
   "metadata": {},
   "source": [
    "## How do I get the X into more \"buckets\""
   ]
  },
  {
   "cell_type": "code",
   "execution_count": 16,
   "metadata": {},
   "outputs": [
    {
     "data": {
      "text/plain": [
       "<matplotlib.axes._subplots.AxesSubplot at 0x1a1694e748>"
      ]
     },
     "execution_count": 16,
     "metadata": {},
     "output_type": "execute_result"
    },
    {
     "data": {
      "image/png": "[encoded data removed]",
      "text/plain": [
       "<matplotlib.figure.Figure at 0x1a169a2da0>"
      ]
     },
     "metadata": {},
     "output_type": "display_data"
    }
   ],
   "source": [
    "df.groupby('f1_reach_height_ratio')['outcome'].mean().plot()"
   ]
  },
  {
   "cell_type": "code",
   "execution_count": 17,
   "metadata": {},
   "outputs": [
    {
     "name": "stdout",
     "output_type": "stream",
     "text": [
      "eventid\n",
      "fightid\n",
      "f1_fullname\n",
      "f2_fullname\n",
      "f1_fighterid\n",
      "f2_fighterid\n",
      "f1_outcome\n",
      "f1_slug\n",
      "f2_slug\n",
      "f1_height\n",
      "f1_weight\n",
      "f1_stance\n",
      "f1_reach\n",
      "f1_reach_height_ratio\n",
      "f1_reach_weight_ratio\n",
      "f1_height_weight_ratio\n",
      "f2_height\n",
      "f2_weight\n",
      "f2_stance\n",
      "f2_reach\n",
      "f2_reach_height_ratio\n",
      "f2_reach_weight_ratio\n",
      "f2_height_weight_ratio\n",
      "date\n",
      "f1_f1_body_significant_strikes_attempts_avg\n",
      "f1_f1_body_significant_strikes_landed_avg\n",
      "f1_f1_body_total_strikes_attempts_avg\n",
      "f1_f1_body_total_strikes_landed_avg\n",
      "f1_f1_clinch_body_strikes_attempts_avg\n",
      "f1_f1_clinch_body_strikes_landed_avg\n",
      "f1_f1_clinch_head_strikes_attempts_avg\n",
      "f1_f1_clinch_head_strikes_landed_avg\n",
      "f1_f1_clinch_leg_strikes_attempts_avg\n",
      "f1_f1_clinch_leg_strikes_landed_avg\n",
      "f1_f1_clinch_significant_strikes_attempts_avg\n",
      "f1_f1_clinch_significant_strikes_landed_avg\n",
      "f1_f1_clinch_total_strikes_attempts_avg\n",
      "f1_f1_clinch_total_strikes_landed_avg\n",
      "f1_f1_distance_body_strikes_attempts_avg\n",
      "f1_f1_distance_body_strikes_landed_avg\n",
      "f1_f1_distance_head_strikes_attempts_avg\n",
      "f1_f1_distance_head_strikes_landed_avg\n",
      "f1_f1_distance_leg_strikes_attempts_avg\n",
      "f1_f1_distance_leg_strikes_landed_avg\n",
      "f1_f1_distance_strikes_attempts_avg\n",
      "f1_f1_distance_strikes_landed_avg\n",
      "f1_f1_grappling_standups_landed_avg\n",
      "f1_f1_grappling_submissions_attempts_avg\n",
      "f1_f1_grappling_takedowns_attempts_avg\n",
      "f1_f1_grappling_takedowns_landed_avg\n",
      "f1_f1_ground_body_strikes_attempts_avg\n",
      "f1_f1_ground_body_strikes_landed_avg\n",
      "f1_f1_ground_head_strikes_attempts_avg\n",
      "f1_f1_ground_head_strikes_landed_avg\n",
      "f1_f1_ground_leg_strikes_attempts_avg\n",
      "f1_f1_ground_leg_strikes_landed_avg\n",
      "f1_f1_ground_significant_strikes_attempts_avg\n",
      "f1_f1_ground_significant_strikes_landed_avg\n",
      "f1_f1_ground_total_strikes_attempts_avg\n",
      "f1_f1_ground_total_strikes_landed_avg\n",
      "f1_f1_head_significant_strikes_attempts_avg\n",
      "f1_f1_head_significant_strikes_landed_avg\n",
      "f1_f1_head_total_strikes_attempts_avg\n",
      "f1_f1_head_total_strikes_landed_avg\n",
      "f1_f1_knock_down_landed_avg\n",
      "f1_f1_legs_significant_strikes_attempts_avg\n",
      "f1_f1_legs_significant_strikes_landed_avg\n",
      "f1_f1_legs_total_strikes_attempts_avg\n",
      "f1_f1_legs_total_strikes_landed_avg\n",
      "f1_f1_significant_strikes_attempts_avg\n",
      "f1_f1_significant_strikes_landed_avg\n",
      "f1_f1_total_strikes_attempts_avg\n",
      "f1_f1_total_strikes_landed_avg\n",
      "f1_f2_body_significant_strikes_attempts_avg\n",
      "f1_f2_body_significant_strikes_landed_avg\n",
      "f1_f2_body_total_strikes_attempts_avg\n",
      "f1_f2_body_total_strikes_landed_avg\n",
      "f1_f2_clinch_body_strikes_attempts_avg\n",
      "f1_f2_clinch_body_strikes_landed_avg\n",
      "f1_f2_clinch_head_strikes_attempts_avg\n",
      "f1_f2_clinch_head_strikes_landed_avg\n",
      "f1_f2_clinch_leg_strikes_attempts_avg\n",
      "f1_f2_clinch_leg_strikes_landed_avg\n",
      "f1_f2_clinch_significant_strikes_attempts_avg\n",
      "f1_f2_clinch_significant_strikes_landed_avg\n",
      "f1_f2_clinch_total_strikes_attempts_avg\n",
      "f1_f2_clinch_total_strikes_landed_avg\n",
      "f1_f2_distance_body_strikes_attempts_avg\n",
      "f1_f2_distance_body_strikes_landed_avg\n",
      "f1_f2_distance_head_strikes_attempts_avg\n",
      "f1_f2_distance_head_strikes_landed_avg\n",
      "f1_f2_distance_leg_strikes_attempts_avg\n",
      "f1_f2_distance_leg_strikes_landed_avg\n",
      "f1_f2_distance_strikes_attempts_avg\n",
      "f1_f2_distance_strikes_landed_avg\n",
      "f1_f2_grappling_standups_landed_avg\n",
      "f1_f2_grappling_submissions_attempts_avg\n",
      "f1_f2_grappling_takedowns_attempts_avg\n",
      "f1_f2_grappling_takedowns_landed_avg\n",
      "f1_f2_ground_body_strikes_attempts_avg\n",
      "f1_f2_ground_body_strikes_landed_avg\n",
      "f1_f2_ground_head_strikes_attempts_avg\n",
      "f1_f2_ground_head_strikes_landed_avg\n",
      "f1_f2_ground_leg_strikes_attempts_avg\n",
      "f1_f2_ground_leg_strikes_landed_avg\n",
      "f1_f2_ground_significant_strikes_attempts_avg\n",
      "f1_f2_ground_significant_strikes_landed_avg\n",
      "f1_f2_ground_total_strikes_attempts_avg\n",
      "f1_f2_ground_total_strikes_landed_avg\n",
      "f1_f2_head_significant_strikes_attempts_avg\n",
      "f1_f2_head_significant_strikes_landed_avg\n",
      "f1_f2_head_total_strikes_attempts_avg\n",
      "f1_f2_head_total_strikes_landed_avg\n",
      "f1_f2_knock_down_landed_avg\n",
      "f1_f2_legs_significant_strikes_attempts_avg\n",
      "f1_f2_legs_significant_strikes_landed_avg\n",
      "f1_f2_legs_total_strikes_attempts_avg\n",
      "f1_f2_legs_total_strikes_landed_avg\n",
      "f1_f2_significant_strikes_attempts_avg\n",
      "f1_f2_significant_strikes_landed_avg\n",
      "f1_f2_total_strikes_attempts_avg\n",
      "f1_f2_total_strikes_landed_avg\n",
      "f1_f1_legs_total_strikes_percent_avg\n",
      "f1_f1_ground_leg_strikes_percent_avg\n",
      "f1_f1_grappling_takedowns_percent_avg\n",
      "f1_f1_body_significant_strikes_percent_avg\n",
      "f1_f1_ground_head_strikes_percent_avg\n",
      "f1_f2_ground_body_strikes_percent_avg\n",
      "f1_f1_body_total_strikes_percent_avg\n",
      "f1_f1_head_total_strikes_percent_avg\n",
      "f1_f2_ground_total_strikes_percent_avg\n",
      "f1_f1_head_significant_strikes_percent_avg\n",
      "f1_f2_total_strikes_percent_avg\n",
      "f1_f1_ground_total_strikes_percent_avg\n",
      "f1_f2_grappling_takedowns_percent_avg\n",
      "f1_f2_significant_strikes_percent_avg\n",
      "f1_f2_distance_body_strikes_percent_avg\n",
      "f1_f2_distance_head_strikes_percent_avg\n",
      "f1_f2_head_total_strikes_percent_avg\n",
      "f1_f2_legs_significant_strikes_percent_avg\n",
      "f1_f1_clinch_total_strikes_percent_avg\n",
      "f1_f1_ground_body_strikes_percent_avg\n",
      "f1_f1_ground_significant_strikes_percent_avg\n",
      "f1_f2_clinch_leg_strikes_percent_avg\n",
      "f1_f2_ground_significant_strikes_percent_avg\n",
      "f1_f2_distance_strikes_percent_avg\n",
      "f1_f2_head_significant_strikes_percent_avg\n",
      "f1_f2_legs_total_strikes_percent_avg\n",
      "f1_f1_legs_significant_strikes_percent_avg\n",
      "f1_f2_body_significant_strikes_percent_avg\n",
      "f1_f2_body_total_strikes_percent_avg\n",
      "f1_f2_clinch_head_strikes_percent_avg\n",
      "f1_f2_clinch_total_strikes_percent_avg\n",
      "f1_f1_total_strikes_percent_avg\n",
      "f1_f2_distance_leg_strikes_percent_avg\n",
      "f1_f1_significant_strikes_percent_avg\n",
      "f1_f2_ground_leg_strikes_percent_avg\n",
      "f1_f1_clinch_significant_strikes_percent_avg\n",
      "f1_f1_distance_body_strikes_percent_avg\n",
      "f1_f1_distance_leg_strikes_percent_avg\n",
      "f1_f2_clinch_significant_strikes_percent_avg\n",
      "f1_f2_ground_head_strikes_percent_avg\n",
      "f1_f1_clinch_leg_strikes_percent_avg\n",
      "f1_f1_distance_strikes_percent_avg\n",
      "f1_f1_clinch_head_strikes_percent_avg\n",
      "f1_f2_clinch_body_strikes_percent_avg\n",
      "f1_f1_distance_head_strikes_percent_avg\n",
      "f1_f1_clinch_body_strikes_percent_avg\n",
      "f1_clinch_significant_strikes_attempts_diff_avg\n",
      "f1_clinch_body_strikes_attempts_diff_avg\n",
      "f1_clinch_head_strikes_landed_diff_avg\n",
      "f1_body_significant_strikes_landed_diff_avg\n",
      "f1_head_total_strikes_landed_diff_avg\n",
      "f1_distance_strikes_attempts_diff_avg\n",
      "f1_clinch_significant_strikes_landed_diff_avg\n",
      "f1_ground_head_strikes_landed_diff_avg\n",
      "f1_body_total_strikes_landed_diff_avg\n",
      "f1_distance_body_strikes_attempts_diff_avg\n",
      "f1_body_significant_strikes_attempts_diff_avg\n",
      "f1_distance_body_strikes_landed_diff_avg\n",
      "f1_distance_head_strikes_attempts_diff_avg\n",
      "f1_ground_leg_strikes_attempts_diff_avg\n",
      "f1_clinch_head_strikes_attempts_diff_avg\n",
      "f1_distance_head_strikes_landed_diff_avg\n",
      "f1_head_significant_strikes_landed_diff_avg\n",
      "f1_distance_leg_strikes_landed_diff_avg\n",
      "f1_distance_strikes_landed_diff_avg\n",
      "f1_legs_total_strikes_landed_diff_avg\n",
      "f1_total_strikes_landed_diff_avg\n",
      "f1_distance_leg_strikes_attempts_diff_avg\n",
      "f1_legs_significant_strikes_landed_diff_avg\n",
      "f1_ground_total_strikes_attempts_diff_avg\n",
      "f1_ground_total_strikes_landed_diff_avg\n",
      "f1_clinch_body_strikes_landed_diff_avg\n",
      "f1_grappling_standups_landed_diff_avg\n",
      "f1_clinch_total_strikes_landed_diff_avg\n",
      "f1_clinch_total_strikes_attempts_diff_avg\n",
      "f1_clinch_leg_strikes_attempts_diff_avg\n",
      "f1_head_total_strikes_attempts_diff_avg\n",
      "f1_legs_total_strikes_attempts_diff_avg\n",
      "f1_head_significant_strikes_attempts_diff_avg\n",
      "f1_ground_body_strikes_landed_diff_avg\n",
      "f1_clinch_leg_strikes_landed_diff_avg\n",
      "f1_grappling_takedowns_attempts_diff_avg\n",
      "f1_grappling_takedowns_landed_diff_avg\n",
      "f1_body_total_strikes_attempts_diff_avg\n",
      "f1_significant_strikes_attempts_diff_avg\n",
      "f1_legs_significant_strikes_attempts_diff_avg\n",
      "f1_grappling_submissions_attempts_diff_avg\n",
      "f1_ground_significant_strikes_attempts_diff_avg\n",
      "f1_ground_head_strikes_attempts_diff_avg\n",
      "f1_significant_strikes_landed_diff_avg\n",
      "f1_ground_body_strikes_attempts_diff_avg\n",
      "f1_ground_significant_strikes_landed_diff_avg\n",
      "f1_total_strikes_attempts_diff_avg\n",
      "f1_ground_leg_strikes_landed_diff_avg\n",
      "f1_legs_total_strikes_percent_diff_avg\n",
      "f1_ground_leg_strikes_percent_diff_avg\n",
      "f1_grappling_takedowns_percent_diff_avg\n",
      "f1_body_significant_strikes_percent_diff_avg\n",
      "f1_ground_head_strikes_percent_diff_avg\n",
      "f1_body_total_strikes_percent_diff_avg\n",
      "f1_head_total_strikes_percent_diff_avg\n",
      "f1_head_significant_strikes_percent_diff_avg\n",
      "f1_ground_total_strikes_percent_diff_avg\n",
      "f1_clinch_total_strikes_percent_diff_avg\n",
      "f1_ground_body_strikes_percent_diff_avg\n",
      "f1_ground_significant_strikes_percent_diff_avg\n",
      "f1_legs_significant_strikes_percent_diff_avg\n",
      "f1_total_strikes_percent_diff_avg\n",
      "f1_significant_strikes_percent_diff_avg\n",
      "f1_clinch_significant_strikes_percent_diff_avg\n",
      "f1_distance_body_strikes_percent_diff_avg\n",
      "f1_distance_leg_strikes_percent_diff_avg\n",
      "f1_clinch_leg_strikes_percent_diff_avg\n",
      "f1_distance_strikes_percent_diff_avg\n",
      "f1_clinch_head_strikes_percent_diff_avg\n",
      "f1_distance_head_strikes_percent_diff_avg\n",
      "f1_clinch_body_strikes_percent_diff_avg\n",
      "f2_f1_body_significant_strikes_attempts_avg\n",
      "f2_f1_body_significant_strikes_landed_avg\n",
      "f2_f1_body_total_strikes_attempts_avg\n",
      "f2_f1_body_total_strikes_landed_avg\n",
      "f2_f1_clinch_body_strikes_attempts_avg\n",
      "f2_f1_clinch_body_strikes_landed_avg\n",
      "f2_f1_clinch_head_strikes_attempts_avg\n",
      "f2_f1_clinch_head_strikes_landed_avg\n",
      "f2_f1_clinch_leg_strikes_attempts_avg\n",
      "f2_f1_clinch_leg_strikes_landed_avg\n",
      "f2_f1_clinch_significant_strikes_attempts_avg\n",
      "f2_f1_clinch_significant_strikes_landed_avg\n",
      "f2_f1_clinch_total_strikes_attempts_avg\n",
      "f2_f1_clinch_total_strikes_landed_avg\n",
      "f2_f1_distance_body_strikes_attempts_avg\n",
      "f2_f1_distance_body_strikes_landed_avg\n",
      "f2_f1_distance_head_strikes_attempts_avg\n",
      "f2_f1_distance_head_strikes_landed_avg\n",
      "f2_f1_distance_leg_strikes_attempts_avg\n",
      "f2_f1_distance_leg_strikes_landed_avg\n",
      "f2_f1_distance_strikes_attempts_avg\n",
      "f2_f1_distance_strikes_landed_avg\n",
      "f2_f1_grappling_standups_landed_avg\n",
      "f2_f1_grappling_submissions_attempts_avg\n",
      "f2_f1_grappling_takedowns_attempts_avg\n",
      "f2_f1_grappling_takedowns_landed_avg\n",
      "f2_f1_ground_body_strikes_attempts_avg\n",
      "f2_f1_ground_body_strikes_landed_avg\n",
      "f2_f1_ground_head_strikes_attempts_avg\n",
      "f2_f1_ground_head_strikes_landed_avg\n",
      "f2_f1_ground_leg_strikes_attempts_avg\n",
      "f2_f1_ground_leg_strikes_landed_avg\n",
      "f2_f1_ground_significant_strikes_attempts_avg\n",
      "f2_f1_ground_significant_strikes_landed_avg\n",
      "f2_f1_ground_total_strikes_attempts_avg\n",
      "f2_f1_ground_total_strikes_landed_avg\n",
      "f2_f1_head_significant_strikes_attempts_avg\n",
      "f2_f1_head_significant_strikes_landed_avg\n",
      "f2_f1_head_total_strikes_attempts_avg\n",
      "f2_f1_head_total_strikes_landed_avg\n",
      "f2_f1_knock_down_landed_avg\n",
      "f2_f1_legs_significant_strikes_attempts_avg\n",
      "f2_f1_legs_significant_strikes_landed_avg\n",
      "f2_f1_legs_total_strikes_attempts_avg\n",
      "f2_f1_legs_total_strikes_landed_avg\n",
      "f2_f1_significant_strikes_attempts_avg\n",
      "f2_f1_significant_strikes_landed_avg\n",
      "f2_f1_total_strikes_attempts_avg\n",
      "f2_f1_total_strikes_landed_avg\n",
      "f2_f2_body_significant_strikes_attempts_avg\n",
      "f2_f2_body_significant_strikes_landed_avg\n",
      "f2_f2_body_total_strikes_attempts_avg\n",
      "f2_f2_body_total_strikes_landed_avg\n",
      "f2_f2_clinch_body_strikes_attempts_avg\n",
      "f2_f2_clinch_body_strikes_landed_avg\n",
      "f2_f2_clinch_head_strikes_attempts_avg\n",
      "f2_f2_clinch_head_strikes_landed_avg\n",
      "f2_f2_clinch_leg_strikes_attempts_avg\n",
      "f2_f2_clinch_leg_strikes_landed_avg\n",
      "f2_f2_clinch_significant_strikes_attempts_avg\n",
      "f2_f2_clinch_significant_strikes_landed_avg\n",
      "f2_f2_clinch_total_strikes_attempts_avg\n",
      "f2_f2_clinch_total_strikes_landed_avg\n",
      "f2_f2_distance_body_strikes_attempts_avg\n",
      "f2_f2_distance_body_strikes_landed_avg\n",
      "f2_f2_distance_head_strikes_attempts_avg\n",
      "f2_f2_distance_head_strikes_landed_avg\n",
      "f2_f2_distance_leg_strikes_attempts_avg\n",
      "f2_f2_distance_leg_strikes_landed_avg\n",
      "f2_f2_distance_strikes_attempts_avg\n",
      "f2_f2_distance_strikes_landed_avg\n",
      "f2_f2_grappling_standups_landed_avg\n",
      "f2_f2_grappling_submissions_attempts_avg\n",
      "f2_f2_grappling_takedowns_attempts_avg\n",
      "f2_f2_grappling_takedowns_landed_avg\n",
      "f2_f2_ground_body_strikes_attempts_avg\n",
      "f2_f2_ground_body_strikes_landed_avg\n",
      "f2_f2_ground_head_strikes_attempts_avg\n",
      "f2_f2_ground_head_strikes_landed_avg\n",
      "f2_f2_ground_leg_strikes_attempts_avg\n",
      "f2_f2_ground_leg_strikes_landed_avg\n",
      "f2_f2_ground_significant_strikes_attempts_avg\n",
      "f2_f2_ground_significant_strikes_landed_avg\n",
      "f2_f2_ground_total_strikes_attempts_avg\n",
      "f2_f2_ground_total_strikes_landed_avg\n",
      "f2_f2_head_significant_strikes_attempts_avg\n",
      "f2_f2_head_significant_strikes_landed_avg\n",
      "f2_f2_head_total_strikes_attempts_avg\n",
      "f2_f2_head_total_strikes_landed_avg\n",
      "f2_f2_knock_down_landed_avg\n",
      "f2_f2_legs_significant_strikes_attempts_avg\n",
      "f2_f2_legs_significant_strikes_landed_avg\n",
      "f2_f2_legs_total_strikes_attempts_avg\n",
      "f2_f2_legs_total_strikes_landed_avg\n",
      "f2_f2_significant_strikes_attempts_avg\n",
      "f2_f2_significant_strikes_landed_avg\n",
      "f2_f2_total_strikes_attempts_avg\n",
      "f2_f2_total_strikes_landed_avg\n",
      "f2_f1_legs_total_strikes_percent_avg\n",
      "f2_f1_ground_leg_strikes_percent_avg\n",
      "f2_f1_grappling_takedowns_percent_avg\n",
      "f2_f1_body_significant_strikes_percent_avg\n",
      "f2_f1_ground_head_strikes_percent_avg\n",
      "f2_f2_ground_body_strikes_percent_avg\n",
      "f2_f1_body_total_strikes_percent_avg\n",
      "f2_f1_head_total_strikes_percent_avg\n",
      "f2_f2_ground_total_strikes_percent_avg\n",
      "f2_f1_head_significant_strikes_percent_avg\n",
      "f2_f2_total_strikes_percent_avg\n",
      "f2_f1_ground_total_strikes_percent_avg\n",
      "f2_f2_grappling_takedowns_percent_avg\n",
      "f2_f2_significant_strikes_percent_avg\n",
      "f2_f2_distance_body_strikes_percent_avg\n",
      "f2_f2_distance_head_strikes_percent_avg\n",
      "f2_f2_head_total_strikes_percent_avg\n",
      "f2_f2_legs_significant_strikes_percent_avg\n",
      "f2_f1_clinch_total_strikes_percent_avg\n",
      "f2_f1_ground_body_strikes_percent_avg\n",
      "f2_f1_ground_significant_strikes_percent_avg\n",
      "f2_f2_clinch_leg_strikes_percent_avg\n",
      "f2_f2_ground_significant_strikes_percent_avg\n",
      "f2_f2_distance_strikes_percent_avg\n",
      "f2_f2_head_significant_strikes_percent_avg\n",
      "f2_f2_legs_total_strikes_percent_avg\n",
      "f2_f1_legs_significant_strikes_percent_avg\n",
      "f2_f2_body_significant_strikes_percent_avg\n",
      "f2_f2_body_total_strikes_percent_avg\n",
      "f2_f2_clinch_head_strikes_percent_avg\n",
      "f2_f2_clinch_total_strikes_percent_avg\n",
      "f2_f1_total_strikes_percent_avg\n",
      "f2_f2_distance_leg_strikes_percent_avg\n",
      "f2_f1_significant_strikes_percent_avg\n",
      "f2_f2_ground_leg_strikes_percent_avg\n",
      "f2_f1_clinch_significant_strikes_percent_avg\n",
      "f2_f1_distance_body_strikes_percent_avg\n",
      "f2_f1_distance_leg_strikes_percent_avg\n",
      "f2_f2_clinch_significant_strikes_percent_avg\n",
      "f2_f2_ground_head_strikes_percent_avg\n",
      "f2_f1_clinch_leg_strikes_percent_avg\n",
      "f2_f1_distance_strikes_percent_avg\n",
      "f2_f1_clinch_head_strikes_percent_avg\n",
      "f2_f2_clinch_body_strikes_percent_avg\n",
      "f2_f1_distance_head_strikes_percent_avg\n",
      "f2_f1_clinch_body_strikes_percent_avg\n",
      "f2_clinch_significant_strikes_attempts_diff_avg\n",
      "f2_clinch_body_strikes_attempts_diff_avg\n",
      "f2_clinch_head_strikes_landed_diff_avg\n",
      "f2_body_significant_strikes_landed_diff_avg\n",
      "f2_head_total_strikes_landed_diff_avg\n",
      "f2_distance_strikes_attempts_diff_avg\n",
      "f2_clinch_significant_strikes_landed_diff_avg\n",
      "f2_ground_head_strikes_landed_diff_avg\n",
      "f2_body_total_strikes_landed_diff_avg\n",
      "f2_distance_body_strikes_attempts_diff_avg\n",
      "f2_body_significant_strikes_attempts_diff_avg\n",
      "f2_distance_body_strikes_landed_diff_avg\n",
      "f2_distance_head_strikes_attempts_diff_avg\n",
      "f2_ground_leg_strikes_attempts_diff_avg\n",
      "f2_clinch_head_strikes_attempts_diff_avg\n",
      "f2_distance_head_strikes_landed_diff_avg\n",
      "f2_head_significant_strikes_landed_diff_avg\n",
      "f2_distance_leg_strikes_landed_diff_avg\n",
      "f2_distance_strikes_landed_diff_avg\n",
      "f2_legs_total_strikes_landed_diff_avg\n",
      "f2_total_strikes_landed_diff_avg\n",
      "f2_distance_leg_strikes_attempts_diff_avg\n",
      "f2_legs_significant_strikes_landed_diff_avg\n",
      "f2_ground_total_strikes_attempts_diff_avg\n",
      "f2_ground_total_strikes_landed_diff_avg\n",
      "f2_clinch_body_strikes_landed_diff_avg\n",
      "f2_grappling_standups_landed_diff_avg\n",
      "f2_clinch_total_strikes_landed_diff_avg\n",
      "f2_clinch_total_strikes_attempts_diff_avg\n",
      "f2_clinch_leg_strikes_attempts_diff_avg\n",
      "f2_head_total_strikes_attempts_diff_avg\n",
      "f2_legs_total_strikes_attempts_diff_avg\n",
      "f2_head_significant_strikes_attempts_diff_avg\n",
      "f2_ground_body_strikes_landed_diff_avg\n",
      "f2_clinch_leg_strikes_landed_diff_avg\n",
      "f2_grappling_takedowns_attempts_diff_avg\n",
      "f2_grappling_takedowns_landed_diff_avg\n",
      "f2_body_total_strikes_attempts_diff_avg\n",
      "f2_significant_strikes_attempts_diff_avg\n",
      "f2_legs_significant_strikes_attempts_diff_avg\n",
      "f2_grappling_submissions_attempts_diff_avg\n",
      "f2_ground_significant_strikes_attempts_diff_avg\n",
      "f2_ground_head_strikes_attempts_diff_avg\n",
      "f2_significant_strikes_landed_diff_avg\n",
      "f2_ground_body_strikes_attempts_diff_avg\n",
      "f2_ground_significant_strikes_landed_diff_avg\n",
      "f2_total_strikes_attempts_diff_avg\n",
      "f2_ground_leg_strikes_landed_diff_avg\n",
      "f2_legs_total_strikes_percent_diff_avg\n",
      "f2_ground_leg_strikes_percent_diff_avg\n",
      "f2_grappling_takedowns_percent_diff_avg\n",
      "f2_body_significant_strikes_percent_diff_avg\n",
      "f2_ground_head_strikes_percent_diff_avg\n",
      "f2_body_total_strikes_percent_diff_avg\n",
      "f2_head_total_strikes_percent_diff_avg\n",
      "f2_head_significant_strikes_percent_diff_avg\n",
      "f2_ground_total_strikes_percent_diff_avg\n",
      "f2_clinch_total_strikes_percent_diff_avg\n",
      "f2_ground_body_strikes_percent_diff_avg\n",
      "f2_ground_significant_strikes_percent_diff_avg\n",
      "f2_legs_significant_strikes_percent_diff_avg\n",
      "f2_total_strikes_percent_diff_avg\n",
      "f2_significant_strikes_percent_diff_avg\n",
      "f2_clinch_significant_strikes_percent_diff_avg\n",
      "f2_distance_body_strikes_percent_diff_avg\n",
      "f2_distance_leg_strikes_percent_diff_avg\n",
      "f2_clinch_leg_strikes_percent_diff_avg\n",
      "f2_distance_strikes_percent_diff_avg\n",
      "f2_clinch_head_strikes_percent_diff_avg\n",
      "f2_distance_head_strikes_percent_diff_avg\n",
      "f2_clinch_body_strikes_percent_diff_avg\n",
      "f1_reach_adv\n",
      "f1_height_adv\n",
      "outcome\n"
     ]
    }
   ],
   "source": [
    "for col in df.columns:\n",
    "    print(col)"
   ]
  },
  {
   "cell_type": "markdown",
   "metadata": {},
   "source": [
    "- K-Best top 20, then plot those?\n",
    "- PCA\n",
    "- Correlation\n",
    "- Modeling: \n",
    "    - do naive models and write why i think good or bad\n",
    "    - diff notebook for each model and why chose parameters"
   ]
  },
  {
   "cell_type": "code",
   "execution_count": 31,
   "metadata": {},
   "outputs": [
    {
     "data": {
      "text/plain": [
       "array([0.10063126, 0.0978931 , 0.08916617, 0.08767133, 0.08671253,\n",
       "       0.08313929, 0.08254877, 0.08030512, 0.07966171, 0.07802027])"
      ]
     },
     "execution_count": 31,
     "metadata": {},
     "output_type": "execute_result"
    }
   ],
   "source": [
    "data.values"
   ]
  },
  {
   "cell_type": "code",
   "execution_count": 35,
   "metadata": {},
   "outputs": [],
   "source": [
    "from matplotlib import pyplot as plt"
   ]
  },
  {
   "cell_type": "code",
   "execution_count": 41,
   "metadata": {},
   "outputs": [
    {
     "data": {
      "text/plain": [
       "<matplotlib.axes._subplots.AxesSubplot at 0x1a225e9630>"
      ]
     },
     "execution_count": 41,
     "metadata": {},
     "output_type": "execute_result"
    },
    {
     "data": {
      "image/png": "[encoded data removed]",
      "text/plain": [
       "<matplotlib.figure.Figure at 0x1a13f22748>"
      ]
     },
     "metadata": {},
     "output_type": "display_data"
    }
   ],
   "source": [
    "data = df.corr()['outcome'].sort_values(ascending=False)[1:11]\n",
    "data.append(df.corr()['outcome'].sort_values(ascending=False)[-10:])\n",
    "plt.xticks(rotation=90)\n",
    "sns.set_palette('mako')\n",
    "sns.barplot(x=data.index, y=data.values)\n"
   ]
  },
  {
   "cell_type": "code",
   "execution_count": 28,
   "metadata": {},
   "outputs": [
    {
     "data": {
      "text/plain": [
       "<matplotlib.axes._subplots.AxesSubplot at 0x1a16838908>"
      ]
     },
     "execution_count": 28,
     "metadata": {},
     "output_type": "execute_result"
    },
    {
     "data": {
      "image/png": "[encoded data removed]",
      "text/plain": [
       "<matplotlib.figure.Figure at 0x1a167590f0>"
      ]
     },
     "metadata": {},
     "output_type": "display_data"
    }
   ],
   "source": [
    "df.corr()['outcome'].sort_values(ascending=False)[1:11].plot('bar')"
   ]
  },
  {
   "cell_type": "code",
   "execution_count": 19,
   "metadata": {},
   "outputs": [],
   "source": [
    "cols_I_want = ['f1_fullname','f2_fullname','f1_fighterid','f2_fighterid','f1_height','f1_weight',\n",
    "               'f1_stance','f1_reach','f1_reach_height_ratio','f1_reach_weight_ratio','f1_height_weight_ratio',\n",
    "               'f2_height','f2_weight','f2_stance','f2_reach','f2_reach_height_ratio','f2_reach_weight_ratio',\n",
    "               'f2_height_weight_ratio','f1_reach_adv','f1_height_adv','outcome']\n",
    "dd = df[cols_I_want].copy()"
   ]
  },
  {
   "cell_type": "code",
   "execution_count": null,
   "metadata": {},
   "outputs": [],
   "source": []
  },
  {
   "cell_type": "code",
   "execution_count": 20,
   "metadata": {},
   "outputs": [
    {
     "data": {
      "text/plain": [
       "<matplotlib.axes._subplots.AxesSubplot at 0x1a169c0518>"
      ]
     },
     "execution_count": 20,
     "metadata": {},
     "output_type": "execute_result"
    },
    {
     "data": {
      "image/png": "[encoded data removed]",
      "text/plain": [
       "<matplotlib.figure.Figure at 0x1a1697b6a0>"
      ]
     },
     "metadata": {},
     "output_type": "display_data"
    }
   ],
   "source": [
    "temp = dd.groupby('f2_stance')['outcome'].mean()\n",
    "temp.plot(kind='bar')"
   ]
  },
  {
   "cell_type": "code",
   "execution_count": 21,
   "metadata": {},
   "outputs": [
    {
     "data": {
      "text/plain": [
       "<matplotlib.axes._subplots.AxesSubplot at 0x1a176ab208>"
      ]
     },
     "execution_count": 21,
     "metadata": {},
     "output_type": "execute_result"
    },
    {
     "data": {
      "image/png": "[encoded data removed]",
      "text/plain": [
       "<matplotlib.figure.Figure at 0x1a168cc588>"
      ]
     },
     "metadata": {},
     "output_type": "display_data"
    }
   ],
   "source": [
    "dd['f1_height_weight_ratio_bins'] = pd.cut(df.f1_height_weight_ratio, 6)\n",
    "dd.groupby('f1_height_weight_ratio_bins')['outcome'].mean().plot('bar')"
   ]
  },
  {
   "cell_type": "code",
   "execution_count": 22,
   "metadata": {},
   "outputs": [
    {
     "data": {
      "text/plain": [
       "<matplotlib.axes._subplots.AxesSubplot at 0x1a16876828>"
      ]
     },
     "execution_count": 22,
     "metadata": {},
     "output_type": "execute_result"
    },
    {
     "data": {
      "image/png": "[encoded data removed]",
      "text/plain": [
       "<matplotlib.figure.Figure at 0x1a168ad5f8>"
      ]
     },
     "metadata": {},
     "output_type": "display_data"
    }
   ],
   "source": [
    "dd['f1_reach_height_ratio_bins'] = pd.cut(df.f1_reach_height_ratio, 6)\n",
    "dd.groupby('f1_reach_height_ratio_bins')['outcome'].mean().plot('bar')"
   ]
  },
  {
   "cell_type": "code",
   "execution_count": 23,
   "metadata": {},
   "outputs": [
    {
     "data": {
      "text/plain": [
       "<matplotlib.axes._subplots.AxesSubplot at 0x1a167cfa90>"
      ]
     },
     "execution_count": 23,
     "metadata": {},
     "output_type": "execute_result"
    },
    {
     "data": {
      "image/png": "[encoded data removed]",
      "text/plain": [
       "<matplotlib.figure.Figure at 0x1a16885208>"
      ]
     },
     "metadata": {},
     "output_type": "display_data"
    }
   ],
   "source": [
    "dd['f1_reach_adv_bins'] = pd.cut(df.f1_reach_adv, 6)\n",
    "dd.groupby('f1_reach_adv_bins')['outcome'].mean().plot()"
   ]
  },
  {
   "cell_type": "code",
   "execution_count": 62,
   "metadata": {},
   "outputs": [
    {
     "data": {
      "text/plain": [
       "<matplotlib.axes._subplots.AxesSubplot at 0x113d20278>"
      ]
     },
     "execution_count": 62,
     "metadata": {},
     "output_type": "execute_result"
    },
    {
     "data": {
      "image/png": "[encoded data removed]",
      "text/plain": [
       "<matplotlib.figure.Figure at 0x113a0d438>"
      ]
     },
     "metadata": {},
     "output_type": "display_data"
    }
   ],
   "source": [
    "#Question - how to look at height advantage but hold reach advantage \"constant\"?\n",
    "dd['f1_height_adv_bins'] = pd.cut(df.f1_height_adv, 6)\n",
    "dd.groupby('f1_height_adv_bins')['outcome'].mean().plot('bar')"
   ]
  },
  {
   "cell_type": "code",
   "execution_count": null,
   "metadata": {},
   "outputs": [],
   "source": [
    "# How about striking advantage?  "
   ]
  }
 ],
 "metadata": {
  "kernelspec": {
   "display_name": "Python 3",
   "language": "python",
   "name": "python3"
  },
  "language_info": {
   "codemirror_mode": {
    "name": "ipython",
    "version": 3
   },
   "file_extension": ".py",
   "mimetype": "text/x-python",
   "name": "python",
   "nbconvert_exporter": "python",
   "pygments_lexer": "ipython3",
   "version": "3.6.4"
  }
 },
 "nbformat": 4,
 "nbformat_minor": 2
}
