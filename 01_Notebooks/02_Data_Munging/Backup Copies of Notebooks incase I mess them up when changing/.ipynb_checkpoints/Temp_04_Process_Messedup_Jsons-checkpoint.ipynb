{
 "cells": [
  {
   "cell_type": "markdown",
   "metadata": {},
   "source": [
    "# Process Messed Up Jsons"
   ]
  },
  {
   "cell_type": "code",
   "execution_count": 31,
   "metadata": {},
   "outputs": [],
   "source": [
    "import os\n",
    "import json\n",
    "import re\n",
    "import pandas as pd"
   ]
  },
  {
   "cell_type": "code",
   "execution_count": 32,
   "metadata": {},
   "outputs": [],
   "source": [
    "def Other_Process_One_V2_Fight_Details(jsn):\n",
    "    # Split the data into lists for easier management\n",
    "    list_f1_strikes = jsn['FMLiveFeed']['FightCard']['Fight'][2]['FightStats'][0]['Fighter'][0]['Strikes']\n",
    "    list_f1_grappling = jsn['FMLiveFeed']['FightCard']['Fight'][2]['FightStats'][0]['Fighter'][1]['Grappling']\n",
    "    list_f1_tip = jsn['FMLiveFeed']['FightCard']['Fight'][2]['FightStats'][0]['Fighter'][2]['TIP']\n",
    "    list_f2_strikes = jsn['FMLiveFeed']['FightCard']['Fight'][2]['FightStats'][1]['Fighter'][0]['Strikes']\n",
    "    list_f2_grappling = jsn['FMLiveFeed']['FightCard']['Fight'][2]['FightStats'][1]['Fighter'][1]['Grappling']\n",
    "    list_f2_tip = jsn['FMLiveFeed']['FightCard']['Fight'][2]['FightStats'][1]['Fighter'][2]['TIP']  \n",
    "\n",
    "    # Create new clean dictionary\n",
    "    clean_dict = {}\n",
    "\n",
    "    # Process each dataset\n",
    "    clean_dict = parse_list_strikes_tip(clean_dict, list_f1_strikes, 'F1')\n",
    "    clean_dict = parse_list_grappling(clean_dict, list_f1_grappling, 'F1')\n",
    "    clean_dict = parse_list_strikes_tip(clean_dict, list_f1_tip, 'F1')\n",
    "    clean_dict = parse_list_strikes_tip(clean_dict, list_f2_strikes, 'F2')\n",
    "    clean_dict = parse_list_grappling(clean_dict, list_f2_grappling, 'F2')\n",
    "    clean_dict = parse_list_strikes_tip(clean_dict, list_f2_tip, 'F2')\n",
    "    clean_dict = get_other_keys(clean_dict, jsn)\n",
    "    clean_dict = add_IDs_and_names(clean_dict, jsn)\n",
    "    \n",
    "    return clean_dict"
   ]
  },
  {
   "cell_type": "code",
   "execution_count": 33,
   "metadata": {},
   "outputs": [],
   "source": [
    "def parse_list_grappling(clean_dict, list_dicts, fighter_string): \n",
    "    for one_dict in list_dicts:\n",
    "        \n",
    "        # Ignore any dictionary for kicks and punches (since always null)\n",
    "        if 'kick' in one_dict['Name'].lower() or 'punch' in one_dict['Name'].lower():\n",
    "            continue\n",
    "\n",
    "        # Put the values into the new dictionary\n",
    "        if 'Attempts' in one_dict:\n",
    "            attempts_key = f\"{fighter_string}_Grappling_{re.sub(' ','_',one_dict['Name'].strip())}_Attempts\"\n",
    "            clean_dict[attempts_key] = try_int(one_dict['Attempts'])\n",
    "\n",
    "        if 'Landed' in one_dict:\n",
    "            landed_key = f\"{fighter_string}_Grappling_{re.sub(' ','_',one_dict['Name'].strip())}_Landed\"\n",
    "            clean_dict[landed_key] = try_int(one_dict['Landed'])\n",
    "\n",
    "        if 'Success' in one_dict:\n",
    "            landed_key = f\"{fighter_string}_Grappling_{re.sub(' ','_',one_dict['Name'].strip())}_Landed\"\n",
    "            clean_dict[landed_key] = try_int(one_dict['Success'])  \n",
    "        \n",
    "        if 'Time' in one_dict:\n",
    "            tip_key = f\"{fighter_string}_TIP_{re.sub(' ','_',one_dict['Name'].strip())}\"\n",
    "            clean_dict[tip_key] = one_dict['Time']\n",
    "            \n",
    "    return clean_dict"
   ]
  },
  {
   "cell_type": "code",
   "execution_count": 48,
   "metadata": {},
   "outputs": [
    {
     "ename": "SyntaxError",
     "evalue": "invalid syntax (<ipython-input-48-fb5053bb2d98>, line 11)",
     "output_type": "error",
     "traceback": [
      "\u001b[0;36m  File \u001b[0;32m\"<ipython-input-48-fb5053bb2d98>\"\u001b[0;36m, line \u001b[0;32m11\u001b[0m\n\u001b[0;31m    try val = int(one_dict['Attempts']) except val = one_dict['Attempts']\u001b[0m\n\u001b[0m          ^\u001b[0m\n\u001b[0;31mSyntaxError\u001b[0m\u001b[0;31m:\u001b[0m invalid syntax\n"
     ]
    }
   ],
   "source": [
    "def parse_list_strikes_tip(clean_dict, list_dicts, fighter_string): \n",
    "    for one_dict in list_dicts:\n",
    "        \n",
    "        # Ignore any dictionary for kicks and punches (since always null)\n",
    "        if 'kick' in one_dict['Name'].lower() or 'punch' in one_dict['Name'].lower():\n",
    "            continue\n",
    "\n",
    "        # Put the values into the new dictionary\n",
    "        if 'Attempts' in one_dict:\n",
    "            attempts_key = f\"{fighter_string}_{re.sub(' ','_',one_dict['Name'].strip())}_Attempts\"\n",
    "            try: \n",
    "                val = int(one_dict['Attempts']) \n",
    "            except: \n",
    "                val = one_dict['Attempts']\n",
    "            clean_dict[attempts_key] = one_dict['Attempts']\n",
    "\n",
    "        if 'Landed' in one_dict:\n",
    "            landed_key = f\"{fighter_string}_{re.sub(' ','_',one_dict['Name'].strip())}_Landed\"\n",
    "            clean_dict[landed_key] = one_dict['Landed']\n",
    "\n",
    "        if 'Success' in one_dict:\n",
    "            landed_key = f\"{fighter_string}_{re.sub(' ','_',one_dict['Name'].strip())}_Landed\"\n",
    "            clean_dict[landed_key] = one_dict['Success']  \n",
    "        \n",
    "        if 'Time' in one_dict:\n",
    "            tip_key = f\"{fighter_string}_TIP_{re.sub(' ','_',one_dict['Name'].strip())}\"\n",
    "            clean_dict[tip_key] = one_dict['Time']\n",
    "            \n",
    "    return clean_dict"
   ]
  },
  {
   "cell_type": "code",
   "execution_count": 35,
   "metadata": {},
   "outputs": [],
   "source": [
    "def get_other_keys(clean_dict, jsn): \n",
    "    Other_Columns_Map = {'FMLiveFeed_FightCard_Accolade':'Accolade',\n",
    "     'FMLiveFeed_FightCard_CurRound':'CurrentRnd',\n",
    "     'Missing1':'CurrentRndTime',\n",
    "     'FMLiveFeed_EventID':'EventID',\n",
    "     'FMLiveFeed_FightCard_FightID':'FightID',\n",
    "     'FMLiveFeed_FightCard_TotalNumOfRounds':'MaxRnds',\n",
    "     'FMLiveFeed_FightCard_Referee':'Referee',\n",
    "     'FMLiveFeed_FightCard_Status':'Status',\n",
    "     'Timestamp':'Timestamp',\n",
    "     'FMLiveFeed_FightCard_WeightClass':'WeightClass'}\n",
    "\n",
    "    # Flatten the file \n",
    "    flat_jsn = flatten_json(jsn)\n",
    "    \n",
    "    # delete unwanted keys\n",
    "    keys_to_delete = []\n",
    "    for key in flat_jsn.keys():\n",
    "        if 'RoundStats' in key or 'FightStats' in key or 'Fighters' in key:\n",
    "            keys_to_delete.append(key)\n",
    "    for key in keys_to_delete:\n",
    "        del flat_jsn[key]\n",
    "        \n",
    "     # Append to clean_dict\n",
    "    for key, value in flat_jsn.items():\n",
    "        if key in Other_Columns_Map:\n",
    "            clean_dict[Other_Columns_Map[key]] = value   \n",
    "    \n",
    "    return clean_dict"
   ]
  },
  {
   "cell_type": "code",
   "execution_count": 36,
   "metadata": {},
   "outputs": [],
   "source": [
    "def add_IDs_and_names(clean_dict, jsn):\n",
    "    name_dict = {}\n",
    "    for f_dict in jsn['FMLiveFeed']['FightCard']['Fight'][0]['Fighters']:\n",
    "        name_dict[f_dict['FighterID']] = f_dict['Name']\n",
    "        \n",
    "    f1_fighterID = jsn['FMLiveFeed']['FightCard']['Fight'][2]['FightStats'][0]['FighterID']\n",
    "    f2_fighterID = jsn['FMLiveFeed']['FightCard']['Fight'][2]['FightStats'][1]['FighterID']\n",
    "    \n",
    "    #Add FighterIDs and Names to dictionary\n",
    "    clean_dict['F1_FighterID'] = f1_fighterID\n",
    "    clean_dict['F2_FighterID'] = f2_fighterID\n",
    "    clean_dict['F1_Name'] = name_dict[f1_fighterID]\n",
    "    clean_dict['F2_Name'] = name_dict[f2_fighterID]\n",
    "    \n",
    "    return clean_dict"
   ]
  },
  {
   "cell_type": "code",
   "execution_count": 49,
   "metadata": {},
   "outputs": [],
   "source": [
    "def try_int(value):\n",
    "    try:\n",
    "        return int(value)\n",
    "         \n",
    "    except:\n",
    "        return value"
   ]
  },
  {
   "cell_type": "code",
   "execution_count": 50,
   "metadata": {},
   "outputs": [
    {
     "data": {
      "text/plain": [
       "9"
      ]
     },
     "execution_count": 50,
     "metadata": {},
     "output_type": "execute_result"
    }
   ],
   "source": [
    "try_int('9')"
   ]
  },
  {
   "cell_type": "code",
   "execution_count": 51,
   "metadata": {},
   "outputs": [
    {
     "data": {
      "text/plain": [
       "'9dif'"
      ]
     },
     "execution_count": 51,
     "metadata": {},
     "output_type": "execute_result"
    }
   ],
   "source": [
    "try_int('9dif')"
   ]
  },
  {
   "cell_type": "code",
   "execution_count": 37,
   "metadata": {},
   "outputs": [],
   "source": [
    "def flatten_json(y):\n",
    "    out = {}\n",
    "\n",
    "    def flatten(x, name=''):\n",
    "        if type(x) is dict:\n",
    "            for a in x:\n",
    "                flatten(x[a], name + a + '_')\n",
    "        elif type(x) is list:\n",
    "            i = 0\n",
    "            for a in x:\n",
    "                flatten(a, name + str(i) + '_')\n",
    "                i += 1\n",
    "        else:\n",
    "            out[name[:-1]] = x\n",
    "\n",
    "    flatten(y)\n",
    "    return out"
   ]
  },
  {
   "cell_type": "markdown",
   "metadata": {},
   "source": [
    "## Quick test with 1 JSON"
   ]
  },
  {
   "cell_type": "code",
   "execution_count": 38,
   "metadata": {},
   "outputs": [],
   "source": [
    "filepath = '../../02_Data/01_Raw_Scraped_Data/V2_Jsons/event_759/fight_5930.json'\n",
    "with open(filepath) as f:\n",
    "    jsn = json.load(f)"
   ]
  },
  {
   "cell_type": "code",
   "execution_count": 41,
   "metadata": {},
   "outputs": [],
   "source": [
    "clean_dict = Other_Process_One_V2_Fight_Details(jsn)"
   ]
  },
  {
   "cell_type": "code",
   "execution_count": 44,
   "metadata": {
    "collapsed": true
   },
   "outputs": [
    {
     "data": {
      "text/plain": [
       "{'Accolade': '',\n",
       " 'CurrentRnd': '2',\n",
       " 'EventID': '759',\n",
       " 'F1_Body_Significant_Strikes_Attempts': '20',\n",
       " 'F1_Body_Significant_Strikes_Landed': '17',\n",
       " 'F1_Body_Total_Strikes_Attempts': '20',\n",
       " 'F1_Body_Total_Strikes_Landed': '17',\n",
       " 'F1_Clinch_Body_Strikes_Attempts': '5',\n",
       " 'F1_Clinch_Body_Strikes_Landed': '5',\n",
       " 'F1_Clinch_Head_Strikes_Attempts': '11',\n",
       " 'F1_Clinch_Head_Strikes_Landed': '8',\n",
       " 'F1_Clinch_Leg_Strikes_Attempts': '0',\n",
       " 'F1_Clinch_Leg_Strikes_Landed': '0',\n",
       " 'F1_Clinch_Significant_Strikes_Attempts': '16',\n",
       " 'F1_Clinch_Significant_Strikes_Landed': '13',\n",
       " 'F1_Clinch_Total_Strikes_Attempts': '20',\n",
       " 'F1_Clinch_Total_Strikes_Landed': '17',\n",
       " 'F1_Distance_Body_Strikes_Attempts': '15',\n",
       " 'F1_Distance_Body_Strikes_Landed': '12',\n",
       " 'F1_Distance_Head_Strikes_Attempts': '69',\n",
       " 'F1_Distance_Head_Strikes_Landed': '21',\n",
       " 'F1_Distance_Leg_Strikes_Attempts': '9',\n",
       " 'F1_Distance_Leg_Strikes_Landed': '6',\n",
       " 'F1_Distance_Strikes_Attempts': '93',\n",
       " 'F1_Distance_Strikes_Landed': '39',\n",
       " 'F1_FighterID': '2266',\n",
       " 'F1_Grappling_Reversals_Landed': '0',\n",
       " 'F1_Grappling_Standups_Landed': '1',\n",
       " 'F1_Grappling_Submissions_Attempts': '0',\n",
       " 'F1_Grappling_Takedowns_Attempts': '5',\n",
       " 'F1_Grappling_Takedowns_Landed': '1',\n",
       " 'F1_Ground_Body_Strikes_Attempts': '0',\n",
       " 'F1_Ground_Body_Strikes_Landed': '0',\n",
       " 'F1_Ground_Head_Strikes_Attempts': '1',\n",
       " 'F1_Ground_Head_Strikes_Landed': '0',\n",
       " 'F1_Ground_Leg_Strikes_Attempts': '0',\n",
       " 'F1_Ground_Leg_Strikes_Landed': '0',\n",
       " 'F1_Ground_Significant_Strikes_Attempts': '1',\n",
       " 'F1_Ground_Significant_Strikes_Landed': '0',\n",
       " 'F1_Ground_Total_Strikes_Attempts': '2',\n",
       " 'F1_Ground_Total_Strikes_Landed': '0',\n",
       " 'F1_Head_Significant_Strikes_Attempts': '81',\n",
       " 'F1_Head_Significant_Strikes_Landed': '29',\n",
       " 'F1_Head_Total_Strikes_Attempts': '85',\n",
       " 'F1_Head_Total_Strikes_Landed': '32',\n",
       " 'F1_Knock_down_Landed': '1',\n",
       " 'F1_Legs_Significant_Strikes_Attempts': '9',\n",
       " 'F1_Legs_Significant_Strikes_Landed': '6',\n",
       " 'F1_Legs_Total_Strikes_Attempts': '10',\n",
       " 'F1_Legs_Total_Strikes_Landed': '7',\n",
       " 'F1_Name': 'Rob Font',\n",
       " 'F1_Significant_Strikes_Attempts': '110',\n",
       " 'F1_Significant_Strikes_Landed': '52',\n",
       " 'F1_TIP_Back_Control_Time': '',\n",
       " 'F1_TIP_Clinch_Time': '',\n",
       " 'F1_TIP_Control_Time': '',\n",
       " 'F1_TIP_Distance_Time': '',\n",
       " 'F1_TIP_Ground_Control_Time': '',\n",
       " 'F1_TIP_Ground_Time': '',\n",
       " 'F1_TIP_Guard_Control_Time': '',\n",
       " 'F1_TIP_Half_Guard_Control_Time': '',\n",
       " 'F1_TIP_Misc._Ground_Control_Time': '',\n",
       " 'F1_TIP_Mount_Control_Time': '',\n",
       " 'F1_TIP_Neutral_Time': '',\n",
       " 'F1_TIP_Side_Control_Time': '',\n",
       " 'F1_TIP_Standing_Time': '',\n",
       " 'F1_Total_Strikes_Attempts': '115',\n",
       " 'F1_Total_Strikes_Landed': '56',\n",
       " 'F2_Body_Significant_Strikes_Attempts': '4',\n",
       " 'F2_Body_Significant_Strikes_Landed': '2',\n",
       " 'F2_Body_Total_Strikes_Attempts': '4',\n",
       " 'F2_Body_Total_Strikes_Landed': '2',\n",
       " 'F2_Clinch_Body_Strikes_Attempts': '2',\n",
       " 'F2_Clinch_Body_Strikes_Landed': '1',\n",
       " 'F2_Clinch_Head_Strikes_Attempts': '6',\n",
       " 'F2_Clinch_Head_Strikes_Landed': '5',\n",
       " 'F2_Clinch_Leg_Strikes_Attempts': '0',\n",
       " 'F2_Clinch_Leg_Strikes_Landed': '0',\n",
       " 'F2_Clinch_Significant_Strikes_Attempts': '8',\n",
       " 'F2_Clinch_Significant_Strikes_Landed': '6',\n",
       " 'F2_Clinch_Total_Strikes_Attempts': '12',\n",
       " 'F2_Clinch_Total_Strikes_Landed': '10',\n",
       " 'F2_Distance_Body_Strikes_Attempts': '2',\n",
       " 'F2_Distance_Body_Strikes_Landed': '1',\n",
       " 'F2_Distance_Head_Strikes_Attempts': '58',\n",
       " 'F2_Distance_Head_Strikes_Landed': '5',\n",
       " 'F2_Distance_Leg_Strikes_Attempts': '3',\n",
       " 'F2_Distance_Leg_Strikes_Landed': '3',\n",
       " 'F2_Distance_Strikes_Attempts': '63',\n",
       " 'F2_Distance_Strikes_Landed': '9',\n",
       " 'F2_FighterID': '2738',\n",
       " 'F2_Grappling_Reversals_Landed': '0',\n",
       " 'F2_Grappling_Standups_Landed': '1',\n",
       " 'F2_Grappling_Submissions_Attempts': '0',\n",
       " 'F2_Grappling_Takedowns_Attempts': '1',\n",
       " 'F2_Grappling_Takedowns_Landed': '1',\n",
       " 'F2_Ground_Body_Strikes_Attempts': '0',\n",
       " 'F2_Ground_Body_Strikes_Landed': '0',\n",
       " 'F2_Ground_Head_Strikes_Attempts': '0',\n",
       " 'F2_Ground_Head_Strikes_Landed': '0',\n",
       " 'F2_Ground_Leg_Strikes_Attempts': '0',\n",
       " 'F2_Ground_Leg_Strikes_Landed': '0',\n",
       " 'F2_Ground_Significant_Strikes_Attempts': '0',\n",
       " 'F2_Ground_Significant_Strikes_Landed': '0',\n",
       " 'F2_Ground_Total_Strikes_Attempts': '0',\n",
       " 'F2_Ground_Total_Strikes_Landed': '0',\n",
       " 'F2_Head_Significant_Strikes_Attempts': '64',\n",
       " 'F2_Head_Significant_Strikes_Landed': '10',\n",
       " 'F2_Head_Total_Strikes_Attempts': '68',\n",
       " 'F2_Head_Total_Strikes_Landed': '14',\n",
       " 'F2_Knock_down_Landed': '0',\n",
       " 'F2_Legs_Significant_Strikes_Attempts': '3',\n",
       " 'F2_Legs_Significant_Strikes_Landed': '3',\n",
       " 'F2_Legs_Total_Strikes_Attempts': '3',\n",
       " 'F2_Legs_Total_Strikes_Landed': '3',\n",
       " 'F2_Name': 'Joey Gomez',\n",
       " 'F2_Significant_Strikes_Attempts': '71',\n",
       " 'F2_Significant_Strikes_Landed': '15',\n",
       " 'F2_TIP_Back_Control_Time': '',\n",
       " 'F2_TIP_Clinch_Time': '',\n",
       " 'F2_TIP_Control_Time': '',\n",
       " 'F2_TIP_Distance_Time': '',\n",
       " 'F2_TIP_Ground_Control_Time': '',\n",
       " 'F2_TIP_Ground_Time': '',\n",
       " 'F2_TIP_Guard_Control_Time': '',\n",
       " 'F2_TIP_Half_Guard_Control_Time': '',\n",
       " 'F2_TIP_Misc._Ground_Control_Time': '',\n",
       " 'F2_TIP_Mount_Control_Time': '',\n",
       " 'F2_TIP_Neutral_Time': '',\n",
       " 'F2_TIP_Side_Control_Time': '',\n",
       " 'F2_TIP_Standing_Time': '',\n",
       " 'F2_Total_Strikes_Attempts': '75',\n",
       " 'F2_Total_Strikes_Landed': '19',\n",
       " 'FightID': '5930',\n",
       " 'MaxRnds': '3',\n",
       " 'Referee': 'Herb Dean',\n",
       " 'Status': 'official',\n",
       " 'Timestamp': '07:02:07 09/10/2016',\n",
       " 'WeightClass': 'Bantamweight'}"
      ]
     },
     "execution_count": 44,
     "metadata": {},
     "output_type": "execute_result"
    }
   ],
   "source": [
    "clean_dict"
   ]
  },
  {
   "cell_type": "code",
   "execution_count": 45,
   "metadata": {},
   "outputs": [],
   "source": [
    "df = pd.DataFrame([clean_dict])"
   ]
  },
  {
   "cell_type": "code",
   "execution_count": 47,
   "metadata": {},
   "outputs": [
    {
     "data": {
      "text/plain": [
       "Accolade                                  object\n",
       "CurrentRnd                                object\n",
       "EventID                                   object\n",
       "F1_Body_Significant_Strikes_Attempts      object\n",
       "F1_Body_Significant_Strikes_Landed        object\n",
       "F1_Body_Total_Strikes_Attempts            object\n",
       "F1_Body_Total_Strikes_Landed              object\n",
       "F1_Clinch_Body_Strikes_Attempts           object\n",
       "F1_Clinch_Body_Strikes_Landed             object\n",
       "F1_Clinch_Head_Strikes_Attempts           object\n",
       "F1_Clinch_Head_Strikes_Landed             object\n",
       "F1_Clinch_Leg_Strikes_Attempts            object\n",
       "F1_Clinch_Leg_Strikes_Landed              object\n",
       "F1_Clinch_Significant_Strikes_Attempts    object\n",
       "F1_Clinch_Significant_Strikes_Landed      object\n",
       "F1_Clinch_Total_Strikes_Attempts          object\n",
       "F1_Clinch_Total_Strikes_Landed            object\n",
       "F1_Distance_Body_Strikes_Attempts         object\n",
       "F1_Distance_Body_Strikes_Landed           object\n",
       "F1_Distance_Head_Strikes_Attempts         object\n",
       "F1_Distance_Head_Strikes_Landed           object\n",
       "F1_Distance_Leg_Strikes_Attempts          object\n",
       "F1_Distance_Leg_Strikes_Landed            object\n",
       "F1_Distance_Strikes_Attempts              object\n",
       "F1_Distance_Strikes_Landed                object\n",
       "F1_FighterID                              object\n",
       "F1_Grappling_Reversals_Landed             object\n",
       "F1_Grappling_Standups_Landed              object\n",
       "F1_Grappling_Submissions_Attempts         object\n",
       "F1_Grappling_Takedowns_Attempts           object\n",
       "                                           ...  \n",
       "F2_Head_Total_Strikes_Landed              object\n",
       "F2_Knock_down_Landed                      object\n",
       "F2_Legs_Significant_Strikes_Attempts      object\n",
       "F2_Legs_Significant_Strikes_Landed        object\n",
       "F2_Legs_Total_Strikes_Attempts            object\n",
       "F2_Legs_Total_Strikes_Landed              object\n",
       "F2_Name                                   object\n",
       "F2_Significant_Strikes_Attempts           object\n",
       "F2_Significant_Strikes_Landed             object\n",
       "F2_TIP_Back_Control_Time                  object\n",
       "F2_TIP_Clinch_Time                        object\n",
       "F2_TIP_Control_Time                       object\n",
       "F2_TIP_Distance_Time                      object\n",
       "F2_TIP_Ground_Control_Time                object\n",
       "F2_TIP_Ground_Time                        object\n",
       "F2_TIP_Guard_Control_Time                 object\n",
       "F2_TIP_Half_Guard_Control_Time            object\n",
       "F2_TIP_Misc._Ground_Control_Time          object\n",
       "F2_TIP_Mount_Control_Time                 object\n",
       "F2_TIP_Neutral_Time                       object\n",
       "F2_TIP_Side_Control_Time                  object\n",
       "F2_TIP_Standing_Time                      object\n",
       "F2_Total_Strikes_Attempts                 object\n",
       "F2_Total_Strikes_Landed                   object\n",
       "FightID                                   object\n",
       "MaxRnds                                   object\n",
       "Referee                                   object\n",
       "Status                                    object\n",
       "Timestamp                                 object\n",
       "WeightClass                               object\n",
       "Length: 139, dtype: object"
      ]
     },
     "execution_count": 47,
     "metadata": {},
     "output_type": "execute_result"
    }
   ],
   "source": [
    "df.dtypes"
   ]
  },
  {
   "cell_type": "code",
   "execution_count": null,
   "metadata": {},
   "outputs": [],
   "source": [
    "if thing in some_list: some_list.remove(thing)"
   ]
  }
 ],
 "metadata": {
  "kernelspec": {
   "display_name": "Python 3",
   "language": "python",
   "name": "python3"
  },
  "language_info": {
   "codemirror_mode": {
    "name": "ipython",
    "version": 3
   },
   "file_extension": ".py",
   "mimetype": "text/x-python",
   "name": "python",
   "nbconvert_exporter": "python",
   "pygments_lexer": "ipython3",
   "version": "3.6.4"
  }
 },
 "nbformat": 4,
 "nbformat_minor": 2
}
