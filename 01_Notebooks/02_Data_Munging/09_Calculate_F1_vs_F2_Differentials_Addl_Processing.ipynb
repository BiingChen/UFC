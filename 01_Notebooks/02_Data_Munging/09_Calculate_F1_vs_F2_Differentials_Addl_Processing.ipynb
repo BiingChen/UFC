{
 "cells": [
  {
   "cell_type": "markdown",
   "metadata": {},
   "source": [
    "# 09 Calculate F1 vs. F2 Differentials and Addl Processing\n",
    "- Calculate the F1 and F2 differentials\n",
    "- Add other feature engineering here\n",
    "- Train test split here"
   ]
  },
  {
   "cell_type": "markdown",
   "metadata": {},
   "source": [
    "## Imports"
   ]
  },
  {
   "cell_type": "code",
   "execution_count": 36,
   "metadata": {},
   "outputs": [],
   "source": [
    "import pandas as pd\n",
    "import pickle"
   ]
  },
  {
   "cell_type": "code",
   "execution_count": 23,
   "metadata": {},
   "outputs": [],
   "source": [
    "df = pd.read_csv('../../02_Data/02_Processed_Data/train.csv', index_col=0)"
   ]
  },
  {
   "cell_type": "code",
   "execution_count": 24,
   "metadata": {},
   "outputs": [],
   "source": [
    "f1_columns = [col for col in df.columns[9:] if col[:2]=='f1']\n",
    "f2_columns = [col for col in df.columns[9:] if col[:2]=='f2']"
   ]
  },
  {
   "cell_type": "code",
   "execution_count": 25,
   "metadata": {},
   "outputs": [],
   "source": [
    "def Perform_calc_fight_stat_differential(df):\n",
    "    f1_columns = [col for col in df.columns[9:] if col[:2]=='f1']\n",
    "    for_calc_columns = [col[3:] for col in f1_columns] # Remove the F1_ part\n",
    "    num_columns_before = df.shape[1]\n",
    "    columns_before = df.columns\n",
    "    print(f'num columns before: {num_columns_before}')\n",
    "    for key, col in enumerate(for_calc_columns):\n",
    "        df = calc_fight_stat_differential(df, col)\n",
    "        if key%100==0:\n",
    "            print(key)\n",
    "    num_columns_after = df.shape[1]\n",
    "    columns_after = df.columns\n",
    "    print(f\"# Columns Added: {num_columns_after-num_columns_before}\")\n",
    "    print(f'num columns after: {num_columns_after}')\n",
    "    new_columns = list(set(columns_after) - set(columns_before))\n",
    "    return df, new_columns"
   ]
  },
  {
   "cell_type": "code",
   "execution_count": 26,
   "metadata": {},
   "outputs": [],
   "source": [
    "def calc_fight_stat_differential(df, col_root):\n",
    "    f1 = 'f1_' + col_root\n",
    "    f2 = 'f2_' + col_root\n",
    "    diff = col_root + '_diff'\n",
    "    df[diff] = df.apply(lambda x: (x[f1] - x[f2])/(x[f1] + x[f2]) if (x[f1] + x[f2]) != 0 else 0, axis=1)\n",
    "    return df\n",
    "\n",
    "# calc_fight_stat_differential(df, col_root)"
   ]
  },
  {
   "cell_type": "code",
   "execution_count": 27,
   "metadata": {},
   "outputs": [
    {
     "name": "stdout",
     "output_type": "stream",
     "text": [
      "num columns before: 454\n",
      "0\n",
      "100\n",
      "200\n",
      "# Columns Added: 222\n",
      "num columns after: 676\n"
     ]
    }
   ],
   "source": [
    "df, new_diff = Perform_calc_fight_stat_differential(df)"
   ]
  },
  {
   "cell_type": "code",
   "execution_count": 28,
   "metadata": {},
   "outputs": [
    {
     "data": {
      "text/html": [
       "<div>\n",
       "<style scoped>\n",
       "    .dataframe tbody tr th:only-of-type {\n",
       "        vertical-align: middle;\n",
       "    }\n",
       "\n",
       "    .dataframe tbody tr th {\n",
       "        vertical-align: top;\n",
       "    }\n",
       "\n",
       "    .dataframe thead th {\n",
       "        text-align: right;\n",
       "    }\n",
       "</style>\n",
       "<table border=\"1\" class=\"dataframe\">\n",
       "  <thead>\n",
       "    <tr style=\"text-align: right;\">\n",
       "      <th></th>\n",
       "      <th>eventid</th>\n",
       "      <th>fightid</th>\n",
       "      <th>f1_fullname</th>\n",
       "      <th>f2_fullname</th>\n",
       "      <th>f1_fighterid</th>\n",
       "      <th>f2_fighterid</th>\n",
       "      <th>f1_outcome</th>\n",
       "      <th>f1_slug</th>\n",
       "      <th>f2_slug</th>\n",
       "      <th>f1_height</th>\n",
       "      <th>...</th>\n",
       "      <th>total_strikes_percent_diff_avg_diff</th>\n",
       "      <th>significant_strikes_percent_diff_avg_diff</th>\n",
       "      <th>clinch_significant_strikes_percent_diff_avg_diff</th>\n",
       "      <th>distance_body_strikes_percent_diff_avg_diff</th>\n",
       "      <th>distance_leg_strikes_percent_diff_avg_diff</th>\n",
       "      <th>clinch_leg_strikes_percent_diff_avg_diff</th>\n",
       "      <th>distance_strikes_percent_diff_avg_diff</th>\n",
       "      <th>clinch_head_strikes_percent_diff_avg_diff</th>\n",
       "      <th>distance_head_strikes_percent_diff_avg_diff</th>\n",
       "      <th>clinch_body_strikes_percent_diff_avg_diff</th>\n",
       "    </tr>\n",
       "  </thead>\n",
       "  <tbody>\n",
       "    <tr>\n",
       "      <th>0</th>\n",
       "      <td>644</td>\n",
       "      <td>4531</td>\n",
       "      <td>Anthony Perosh</td>\n",
       "      <td>Ryan Bader</td>\n",
       "      <td>175</td>\n",
       "      <td>503</td>\n",
       "      <td>Loss</td>\n",
       "      <td>anthonyperosh</td>\n",
       "      <td>ryanbader</td>\n",
       "      <td>75.0</td>\n",
       "      <td>...</td>\n",
       "      <td>0.25000</td>\n",
       "      <td>0.145610</td>\n",
       "      <td>-1.000000</td>\n",
       "      <td>0.000000</td>\n",
       "      <td>0.0</td>\n",
       "      <td>-1.0</td>\n",
       "      <td>-1.000000</td>\n",
       "      <td>-1.000000</td>\n",
       "      <td>-1.000000</td>\n",
       "      <td>-1.0</td>\n",
       "    </tr>\n",
       "    <tr>\n",
       "      <th>1</th>\n",
       "      <td>701</td>\n",
       "      <td>5191</td>\n",
       "      <td>Brandon Thatch</td>\n",
       "      <td>Benson Henderson</td>\n",
       "      <td>1331</td>\n",
       "      <td>1066</td>\n",
       "      <td>Loss</td>\n",
       "      <td>brandonthatch</td>\n",
       "      <td>bensonhenderson</td>\n",
       "      <td>74.0</td>\n",
       "      <td>...</td>\n",
       "      <td>0.80896</td>\n",
       "      <td>0.668268</td>\n",
       "      <td>-0.147123</td>\n",
       "      <td>1.712221</td>\n",
       "      <td>-1.0</td>\n",
       "      <td>-1.0</td>\n",
       "      <td>0.938695</td>\n",
       "      <td>1.222222</td>\n",
       "      <td>1.945235</td>\n",
       "      <td>-1.0</td>\n",
       "    </tr>\n",
       "  </tbody>\n",
       "</table>\n",
       "<p>2 rows × 676 columns</p>\n",
       "</div>"
      ],
      "text/plain": [
       "   eventid  fightid     f1_fullname       f2_fullname  f1_fighterid  \\\n",
       "0      644     4531  Anthony Perosh        Ryan Bader           175   \n",
       "1      701     5191  Brandon Thatch  Benson Henderson          1331   \n",
       "\n",
       "   f2_fighterid f1_outcome        f1_slug          f2_slug  f1_height  \\\n",
       "0           503       Loss  anthonyperosh        ryanbader       75.0   \n",
       "1          1066       Loss  brandonthatch  bensonhenderson       74.0   \n",
       "\n",
       "                     ...                      \\\n",
       "0                    ...                       \n",
       "1                    ...                       \n",
       "\n",
       "   total_strikes_percent_diff_avg_diff  \\\n",
       "0                              0.25000   \n",
       "1                              0.80896   \n",
       "\n",
       "   significant_strikes_percent_diff_avg_diff  \\\n",
       "0                                   0.145610   \n",
       "1                                   0.668268   \n",
       "\n",
       "   clinch_significant_strikes_percent_diff_avg_diff  \\\n",
       "0                                         -1.000000   \n",
       "1                                         -0.147123   \n",
       "\n",
       "   distance_body_strikes_percent_diff_avg_diff  \\\n",
       "0                                     0.000000   \n",
       "1                                     1.712221   \n",
       "\n",
       "   distance_leg_strikes_percent_diff_avg_diff  \\\n",
       "0                                         0.0   \n",
       "1                                        -1.0   \n",
       "\n",
       "   clinch_leg_strikes_percent_diff_avg_diff  \\\n",
       "0                                      -1.0   \n",
       "1                                      -1.0   \n",
       "\n",
       "   distance_strikes_percent_diff_avg_diff  \\\n",
       "0                               -1.000000   \n",
       "1                                0.938695   \n",
       "\n",
       "   clinch_head_strikes_percent_diff_avg_diff  \\\n",
       "0                                  -1.000000   \n",
       "1                                   1.222222   \n",
       "\n",
       "   distance_head_strikes_percent_diff_avg_diff  \\\n",
       "0                                    -1.000000   \n",
       "1                                     1.945235   \n",
       "\n",
       "   clinch_body_strikes_percent_diff_avg_diff  \n",
       "0                                       -1.0  \n",
       "1                                       -1.0  \n",
       "\n",
       "[2 rows x 676 columns]"
      ]
     },
     "execution_count": 28,
     "metadata": {},
     "output_type": "execute_result"
    }
   ],
   "source": [
    "df.head(2)"
   ]
  },
  {
   "cell_type": "markdown",
   "metadata": {},
   "source": [
    "## Convert outcomes to a boolean"
   ]
  },
  {
   "cell_type": "code",
   "execution_count": 29,
   "metadata": {},
   "outputs": [],
   "source": [
    "df['outcome'] = df.f1_outcome.map(lambda x: 1 if x=='Win' else 0)"
   ]
  },
  {
   "cell_type": "markdown",
   "metadata": {},
   "source": [
    "## Add reach and height advantage"
   ]
  },
  {
   "cell_type": "code",
   "execution_count": 30,
   "metadata": {},
   "outputs": [],
   "source": [
    "df['f1_reach_adv'] = df.apply(lambda x: x['f1_reach'] - x['f2_reach'], axis=1)\n",
    "df['f1_height_adv'] = df.apply(lambda x: x['f1_height'] - x['f2_height'], axis=1)"
   ]
  },
  {
   "cell_type": "markdown",
   "metadata": {},
   "source": [
    "## Train test split"
   ]
  },
  {
   "cell_type": "code",
   "execution_count": 31,
   "metadata": {},
   "outputs": [],
   "source": [
    "unique_ids = list(set(df.f1_fighterid))\n",
    "test_full = df[0:0]\n",
    "train_full = df[0:0]\n",
    "\n",
    "\n",
    "for fighter_id in unique_ids:\n",
    "    sub_df = df[df.f1_fighterid == fighter_id].sort_values('date', ascending=False)\n",
    "#     print(sub_df.shape[0])\n",
    "#     print(fighter_id)\n",
    "    if sub_df.shape[0] > 6:\n",
    "        test_records = sub_df[:2]\n",
    "        train_records = sub_df[2:]\n",
    "        test_full = pd.concat([test_full, test_records], axis=0)\n",
    "        train_full = pd.concat([train_full, train_records], axis=0)\n",
    "    elif sub_df.shape[0] > 3:\n",
    "        test_records = sub_df[:1]\n",
    "        train_records = sub_df[1:]\n",
    "        test_full = pd.concat([test_full, test_records], axis=0)\n",
    "        train_full = pd.concat([train_full, train_records], axis=0)\n",
    "    else:\n",
    "        train_records = sub_df\n",
    "        train_full = pd.concat([train_full, train_records], axis=0)"
   ]
  },
  {
   "cell_type": "markdown",
   "metadata": {},
   "source": [
    "# Split out X and Y"
   ]
  },
  {
   "cell_type": "code",
   "execution_count": 32,
   "metadata": {},
   "outputs": [],
   "source": [
    "label = 'outcome'\n",
    "features = [col for col in train_full.columns if col != label]\n",
    "y_train = train_full[label]\n",
    "X_train = train_full[features]\n",
    "\n",
    "# Drop non-number features\n",
    "X_train = X_train.select_dtypes(exclude='object')\n",
    "# Drop non-feature columns\n",
    "X_train = X_train.drop(columns=['eventid','fightid','f1_fighterid','f2_fighterid'])"
   ]
  },
  {
   "cell_type": "code",
   "execution_count": 33,
   "metadata": {},
   "outputs": [],
   "source": [
    "label = 'outcome'\n",
    "features = [col for col in test_full.columns if col != label]\n",
    "y_test = test_full[label]\n",
    "X_test = test_full[features]\n",
    "\n",
    "# Drop non-number features\n",
    "X_test = X_test.select_dtypes(exclude='object')\n",
    "# Drop non-feature columns\n",
    "X_test = X_test.drop(columns=['eventid','fightid','f1_fighterid','f2_fighterid'])"
   ]
  },
  {
   "cell_type": "code",
   "execution_count": 34,
   "metadata": {},
   "outputs": [
    {
     "data": {
      "text/plain": [
       "((2704, 668), (510, 668))"
      ]
     },
     "execution_count": 34,
     "metadata": {},
     "output_type": "execute_result"
    }
   ],
   "source": [
    "X_train.shape, X_test.shape"
   ]
  },
  {
   "cell_type": "markdown",
   "metadata": {},
   "source": [
    "## Export the Training and Test Data"
   ]
  },
  {
   "cell_type": "code",
   "execution_count": 37,
   "metadata": {},
   "outputs": [],
   "source": [
    "with open('../../02_Data/02_Processed_Data/X_train.pkl', 'wb') as f:\n",
    "    pickle.dump(X_train, f)\n",
    "\n",
    "with open('../../02_Data/02_Processed_Data/y_train.pkl', 'wb') as f:\n",
    "    pickle.dump(y_train, f)\n",
    "\n",
    "with open('../../02_Data/02_Processed_Data/X_test.pkl', 'wb') as f:\n",
    "    pickle.dump(X_test, f)\n",
    "\n",
    "with open('../../02_Data/02_Processed_Data/y_test.pkl', 'wb') as f:\n",
    "    pickle.dump(y_test, f)"
   ]
  },
  {
   "cell_type": "markdown",
   "metadata": {},
   "source": [
    "## Export Train_2"
   ]
  },
  {
   "cell_type": "code",
   "execution_count": 38,
   "metadata": {},
   "outputs": [],
   "source": [
    "df.to_csv('../../02_Data/02_Processed_Data/train_2.csv')"
   ]
  }
 ],
 "metadata": {
  "kernelspec": {
   "display_name": "Python 3",
   "language": "python",
   "name": "python3"
  },
  "language_info": {
   "codemirror_mode": {
    "name": "ipython",
    "version": 3
   },
   "file_extension": ".py",
   "mimetype": "text/x-python",
   "name": "python",
   "nbconvert_exporter": "python",
   "pygments_lexer": "ipython3",
   "version": "3.6.4"
  }
 },
 "nbformat": 4,
 "nbformat_minor": 2
}
