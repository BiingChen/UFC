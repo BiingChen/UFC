{
 "cells": [
  {
   "cell_type": "markdown",
   "metadata": {},
   "source": [
    "### 01 Process V1 Jsons to V1_Event_Fight_Fighter_Fighterinfo"
   ]
  },
  {
   "cell_type": "markdown",
   "metadata": {},
   "source": [
    "The purpose of this notebook is to convert the V1 Jsons into a dataframe"
   ]
  },
  {
   "cell_type": "markdown",
   "metadata": {},
   "source": [
    "## Imports"
   ]
  },
  {
   "cell_type": "code",
   "execution_count": 14,
   "metadata": {},
   "outputs": [],
   "source": [
    "import os\n",
    "import json\n",
    "import pandas as pd"
   ]
  },
  {
   "cell_type": "markdown",
   "metadata": {},
   "source": [
    "## Functions"
   ]
  },
  {
   "cell_type": "code",
   "execution_count": 31,
   "metadata": {},
   "outputs": [],
   "source": [
    "def Process_v1_jsons_fighter_fights(rootdir):\n",
    "    list_fighter_fights_dicts = []\n",
    "    for subdir, dirs, files in os.walk(rootdir):\n",
    "        for file in files:\n",
    "            filepath = subdir + os.sep + file\n",
    "            with open(filepath) as f:\n",
    "                jsn = json.load(f)\n",
    "\n",
    "            sub_list_fighter_fights_dict = create_fighter_fights_list_of_dict(jsn)\n",
    "            list_fighter_fights_dicts.extend(sub_list_fighter_fights_dict)\n",
    "    return list_fighter_fights_dicts"
   ]
  },
  {
   "cell_type": "code",
   "execution_count": 16,
   "metadata": {},
   "outputs": [],
   "source": [
    "def create_fighter_fights_list_of_dict(jsn):\n",
    "    list_of_fighter_fights_dict = []\n",
    "    list_of_fights = jsn['FMLiveFeed']['Fights']\n",
    "    for fight in list_of_fights:\n",
    "        fighter_fights_dict = create_fighter_fights_dictionary(jsn, fight)\n",
    "        list_of_fighter_fights_dict.append(fighter_fights_dict)\n",
    "        \n",
    "    return list_of_fighter_fights_dict"
   ]
  },
  {
   "cell_type": "code",
   "execution_count": 17,
   "metadata": {},
   "outputs": [],
   "source": [
    "def create_fighter_fights_dictionary(jsn, fight):\n",
    "    fighter_fights_dict = {}\n",
    "\n",
    "    # Fight Info\n",
    "    EventID = try_to_int(jsn['FMLiveFeed']['EventID'])\n",
    "    FightID = try_to_int(fight['FightID'])\n",
    "    PossibleRds = try_to_int(fight['PossibleRds'])\n",
    "    EndingRoundNum = try_to_int(fight['EndingRoundNum'])\n",
    "    Method = fight['Method']\n",
    "    \n",
    "\n",
    "    # Fighter 1 Fight Info\n",
    "    fighter = fight['Fighters'][0]\n",
    "    F1_FighterID = try_to_int(fighter['FighterID'])\n",
    "    F1_Color = fighter['Color']\n",
    "    F1_FullName = fighter['FullName']\n",
    "    F1_DOB = fighter['DOB']\n",
    "    F1_Height = try_to_int(fighter['Height'])\n",
    "    F1_Weight = fighter['Weight']\n",
    "    F1_Stance = fighter['Stance']\n",
    "    F1_Outcome = fighter['Outcome']\n",
    "    F1_Born_Country = fighter['Born']['Country']\n",
    "    F1_Born_State = fighter['Born']['State']\n",
    "    F1_Born_City = fighter['Born']['City']\n",
    "    F1_Fights_Out_Country = fighter['FightsOutOf']['Country']\n",
    "    F1_Fights_Out_State = fighter['FightsOutOf']['State']\n",
    "    F1_Fights_Out_City = fighter['FightsOutOf']['City']\n",
    "    F1_TotFights = try_to_int(fighter['Record']['TotFights'])\n",
    "    F1_Win = try_to_int(fighter['Record']['Win'])\n",
    "    F1_Loss = try_to_int(fighter['Record']['Loss'])\n",
    "    F1_Draw = try_to_int(fighter['Record']['Draw'])\n",
    "    F1_NC = try_to_int(fighter['Record']['NC'])\n",
    "\n",
    "    # Fighter 2 Fight Info\n",
    "    fighter = fight['Fighters'][1]\n",
    "    F2_FighterID = try_to_int(fighter['FighterID'])\n",
    "    F2_Color = fighter['Color']\n",
    "    F2_FullName = fighter['FullName']\n",
    "    F2_DOB = fighter['DOB']\n",
    "    F2_Height = try_to_int(fighter['Height'])\n",
    "    F2_Weight = fighter['Weight']\n",
    "    F2_Stance = fighter['Stance']\n",
    "    F2_Outcome = fighter['Outcome']\n",
    "    F2_Born_Country = fighter['Born']['Country']\n",
    "    F2_Born_State = fighter['Born']['State']\n",
    "    F2_Born_City = fighter['Born']['City']\n",
    "    F2_Fights_Out_Country = fighter['FightsOutOf']['Country']\n",
    "    F2_Fights_Out_State = fighter['FightsOutOf']['State']\n",
    "    F2_Fights_Out_City = fighter['FightsOutOf']['City']\n",
    "    F2_TotFights = try_to_int(fighter['Record']['TotFights'])\n",
    "    F2_Win = try_to_int(fighter['Record']['Win'])\n",
    "    F2_Loss = try_to_int(fighter['Record']['Loss'])\n",
    "    F2_Draw = try_to_int(fighter['Record']['Draw'])\n",
    "    F2_NC = try_to_int(fighter['Record']['NC'])\n",
    "    \n",
    "    #Add everything to a dictionary \n",
    "    fighter_fights_dict['EventID'] = EventID\n",
    "    fighter_fights_dict['FightID'] = FightID\n",
    "    fighter_fights_dict['PossibleRds'] = PossibleRds\n",
    "    fighter_fights_dict['EndingRoundNum'] = EndingRoundNum\n",
    "    fighter_fights_dict['Method'] = Method\n",
    "    \n",
    "    fighter_fights_dict['F1_FighterID'] = F1_FighterID\n",
    "    fighter_fights_dict['F1_Color'] = F1_Color\n",
    "    fighter_fights_dict['F1_FullName'] = F1_FullName\n",
    "    fighter_fights_dict['F1_DOB'] = F1_DOB\n",
    "    fighter_fights_dict['F1_Height'] = F1_Height\n",
    "    fighter_fights_dict['F1_Weight'] = F1_Weight\n",
    "    fighter_fights_dict['F1_Stance'] = F1_Stance\n",
    "    fighter_fights_dict['F1_Outcome'] = F1_Outcome\n",
    "    fighter_fights_dict['F1_Born_Country'] = F1_Born_Country\n",
    "    fighter_fights_dict['F1_Born_State'] = F1_Born_State\n",
    "    fighter_fights_dict['F1_Born_City'] = F1_Born_City\n",
    "    fighter_fights_dict['F1_Fights_Out_Country'] = F1_Fights_Out_Country\n",
    "    fighter_fights_dict['F1_Fights_Out_State'] = F1_Fights_Out_State\n",
    "    fighter_fights_dict['F1_Fights_Out_City'] = F1_Fights_Out_City\n",
    "    fighter_fights_dict['F1_TotFights'] = F1_TotFights\n",
    "    fighter_fights_dict['F1_Win'] = F1_Win\n",
    "    fighter_fights_dict['F1_Loss'] = F1_Loss\n",
    "    fighter_fights_dict['F1_Draw'] = F1_Draw\n",
    "    fighter_fights_dict['F1_Win'] = F1_Win\n",
    "    fighter_fights_dict['F1_NC'] = F1_NC\n",
    "\n",
    "    fighter_fights_dict['F2_FighterID'] = F2_FighterID\n",
    "    fighter_fights_dict['F2_Color'] = F2_Color\n",
    "    fighter_fights_dict['F2_FullName'] = F2_FullName\n",
    "    fighter_fights_dict['F2_DOB'] = F2_DOB\n",
    "    fighter_fights_dict['F2_Height'] = F2_Height\n",
    "    fighter_fights_dict['F2_Weight'] = F2_Weight\n",
    "    fighter_fights_dict['F2_Stance'] = F2_Stance\n",
    "    fighter_fights_dict['F2_Outcome'] = F2_Outcome\n",
    "    fighter_fights_dict['F2_Born_Country'] = F2_Born_Country\n",
    "    fighter_fights_dict['F2_Born_State'] = F2_Born_State\n",
    "    fighter_fights_dict['F2_Born_City'] = F2_Born_City\n",
    "    fighter_fights_dict['F2_Fights_Out_Country'] = F2_Fights_Out_Country\n",
    "    fighter_fights_dict['F2_Fights_Out_State'] = F2_Fights_Out_State\n",
    "    fighter_fights_dict['F2_Fights_Out_City'] = F2_Fights_Out_City\n",
    "    fighter_fights_dict['F2_TotFights'] = F2_TotFights\n",
    "    fighter_fights_dict['F2_Win'] = F2_Win\n",
    "    fighter_fights_dict['F2_Loss'] = F2_Loss\n",
    "    fighter_fights_dict['F2_Draw'] = F2_Draw\n",
    "    fighter_fights_dict['F2_Win'] = F2_Win\n",
    "    fighter_fights_dict['F2_NC'] = F2_NC\n",
    "    \n",
    "    return fighter_fights_dict"
   ]
  },
  {
   "cell_type": "code",
   "execution_count": 18,
   "metadata": {},
   "outputs": [],
   "source": [
    "def try_to_int(field):\n",
    "    if field is not None:\n",
    "        return int(field)"
   ]
  },
  {
   "cell_type": "markdown",
   "metadata": {},
   "source": [
    "## Run the Functions"
   ]
  },
  {
   "cell_type": "code",
   "execution_count": 38,
   "metadata": {},
   "outputs": [],
   "source": [
    "rootdir = '../../02_Data/01_Raw_Scraped_Data/V1_Jsons/'\n",
    "list_figher_fights_dict = Process_v1_jsons_fighter_fights(rootdir)\n",
    "df = pd.DataFrame(list_figher_fights_dict)"
   ]
  },
  {
   "cell_type": "code",
   "execution_count": 70,
   "metadata": {},
   "outputs": [
    {
     "data": {
      "text/html": [
       "<div>\n",
       "<style scoped>\n",
       "    .dataframe tbody tr th:only-of-type {\n",
       "        vertical-align: middle;\n",
       "    }\n",
       "\n",
       "    .dataframe tbody tr th {\n",
       "        vertical-align: top;\n",
       "    }\n",
       "\n",
       "    .dataframe thead th {\n",
       "        text-align: right;\n",
       "    }\n",
       "</style>\n",
       "<table border=\"1\" class=\"dataframe\">\n",
       "  <thead>\n",
       "    <tr style=\"text-align: right;\">\n",
       "      <th></th>\n",
       "      <th>EventID</th>\n",
       "      <th>FightID</th>\n",
       "      <th>Method</th>\n",
       "      <th>PossibleRds</th>\n",
       "      <th>EndingRoundNum</th>\n",
       "      <th>F1_FullName</th>\n",
       "      <th>F2_FullName</th>\n",
       "      <th>F1_Outcome</th>\n",
       "      <th>F2_Outcome</th>\n",
       "      <th>F1_Born_City</th>\n",
       "      <th>...</th>\n",
       "      <th>F2_Fights_Out_City</th>\n",
       "      <th>F2_Fights_Out_Country</th>\n",
       "      <th>F2_Fights_Out_State</th>\n",
       "      <th>F2_Height</th>\n",
       "      <th>F2_Loss</th>\n",
       "      <th>F2_NC</th>\n",
       "      <th>F2_Stance</th>\n",
       "      <th>F2_TotFights</th>\n",
       "      <th>F2_Weight</th>\n",
       "      <th>F2_Win</th>\n",
       "    </tr>\n",
       "  </thead>\n",
       "  <tbody>\n",
       "    <tr>\n",
       "      <th>0</th>\n",
       "      <td>644</td>\n",
       "      <td>4512</td>\n",
       "      <td></td>\n",
       "      <td>5</td>\n",
       "      <td>5.0</td>\n",
       "      <td>Antonio Silva</td>\n",
       "      <td>Mark Hunt</td>\n",
       "      <td></td>\n",
       "      <td></td>\n",
       "      <td>Brasilia</td>\n",
       "      <td>...</td>\n",
       "      <td>Auckland</td>\n",
       "      <td>New Zealand</td>\n",
       "      <td></td>\n",
       "      <td>70</td>\n",
       "      <td>8</td>\n",
       "      <td>0</td>\n",
       "      <td>Orthodox</td>\n",
       "      <td>18</td>\n",
       "      <td>265</td>\n",
       "      <td>9</td>\n",
       "    </tr>\n",
       "    <tr>\n",
       "      <th>1</th>\n",
       "      <td>644</td>\n",
       "      <td>4468</td>\n",
       "      <td>KO/TKO</td>\n",
       "      <td>3</td>\n",
       "      <td>1.0</td>\n",
       "      <td>James Te-Huna</td>\n",
       "      <td>Mauricio Rua</td>\n",
       "      <td>Loss</td>\n",
       "      <td>Win</td>\n",
       "      <td>Darfield</td>\n",
       "      <td>...</td>\n",
       "      <td>Curitiba</td>\n",
       "      <td>Brazil</td>\n",
       "      <td>Parana</td>\n",
       "      <td>73</td>\n",
       "      <td>8</td>\n",
       "      <td>0</td>\n",
       "      <td>Orthodox</td>\n",
       "      <td>30</td>\n",
       "      <td>205</td>\n",
       "      <td>22</td>\n",
       "    </tr>\n",
       "  </tbody>\n",
       "</table>\n",
       "<p>2 rows × 43 columns</p>\n",
       "</div>"
      ],
      "text/plain": [
       "   EventID  FightID  Method  PossibleRds  EndingRoundNum    F1_FullName  \\\n",
       "0      644     4512                    5             5.0  Antonio Silva   \n",
       "1      644     4468  KO/TKO            3             1.0  James Te-Huna   \n",
       "\n",
       "    F2_FullName F1_Outcome F2_Outcome F1_Born_City   ...   F2_Fights_Out_City  \\\n",
       "0     Mark Hunt                           Brasilia   ...             Auckland   \n",
       "1  Mauricio Rua       Loss        Win     Darfield   ...             Curitiba   \n",
       "\n",
       "  F2_Fights_Out_Country F2_Fights_Out_State F2_Height  F2_Loss  F2_NC  \\\n",
       "0           New Zealand                            70        8      0   \n",
       "1                Brazil              Parana        73        8      0   \n",
       "\n",
       "  F2_Stance F2_TotFights F2_Weight  F2_Win  \n",
       "0  Orthodox           18       265       9  \n",
       "1  Orthodox           30       205      22  \n",
       "\n",
       "[2 rows x 43 columns]"
      ]
     },
     "execution_count": 70,
     "metadata": {},
     "output_type": "execute_result"
    }
   ],
   "source": [
    "df.head(2)"
   ]
  },
  {
   "cell_type": "markdown",
   "metadata": {},
   "source": [
    "## Setup Column Order: [Other Columns] [F1 Columns] [F2 Columns]"
   ]
  },
  {
   "cell_type": "code",
   "execution_count": 67,
   "metadata": {},
   "outputs": [],
   "source": [
    "F1_Columns = [col for col in df.columns if 'F1' in col]\n",
    "F2_Columns = [col for col in df.columns if 'F2' in col]\n",
    "Other_Columns = [col for col in df.columns if not 'F2' in col and not 'F1' in col]\n",
    "Other_Columns = ['EventID', 'FightID', 'Method', 'PossibleRds','EndingRoundNum']\n",
    "\n",
    "F1_Columns.pop(F1_Columns.index('F1_Outcome'))\n",
    "F1_Columns.pop(F1_Columns.index('F1_FullName'))\n",
    "F2_Columns.pop(F2_Columns.index('F2_Outcome'))\n",
    "F2_Columns.pop(F2_Columns.index('F2_FullName'))\n",
    "\n",
    "Ordered_Columns = Other_Columns + ['F1_FullName','F2_FullName','F1_Outcome','F2_Outcome'] + F1_Columns + F2_Columns"
   ]
  },
  {
   "cell_type": "code",
   "execution_count": 69,
   "metadata": {},
   "outputs": [],
   "source": [
    "df = df[Ordered_Columns]"
   ]
  },
  {
   "cell_type": "markdown",
   "metadata": {},
   "source": [
    "## Duplicate and flip the data **"
   ]
  },
  {
   "cell_type": "code",
   "execution_count": 79,
   "metadata": {},
   "outputs": [],
   "source": [
    "# Setup Columns Again\n",
    "F1_Columns = [col for col in df.columns if 'F1' in col]\n",
    "F2_Columns = [col for col in df.columns if 'F2' in col]\n",
    "Other_Columns = [col for col in df.columns if not 'F2' in col and not 'F1' in col]\n",
    "Other_Columns = ['EventID', 'FightID', 'Method', 'PossibleRds','EndingRoundNum']\n",
    "\n",
    "Ordered_Columns = Other_Columns + F1_Columns + F2_Columns\n",
    "Flipped_Columns = Other_Columns + F2_Columns + F1_Columns\n",
    "\n",
    "# Put Columns in Order\n",
    "df = df[Ordered_Columns]\n",
    "\n",
    "# Create Flipped df\n",
    "flipped_df = df[Flipped_Columns]\n",
    "flipped_df.columns = Ordered_Columns\n",
    "\n",
    "# Concatenate df and flipped_df\n",
    "df_with_flipped = pd.concat([df, flipped_df])\n",
    "\n",
    "# Put the columns back in the other order\n",
    "F1_Columns = [col for col in df_with_flipped.columns if 'F1' in col]\n",
    "F2_Columns = [col for col in df_with_flipped.columns if 'F2' in col]\n",
    "Other_Columns = [col for col in df_with_flipped.columns if not 'F2' in col and not 'F1' in col]\n",
    "Other_Columns = ['EventID', 'FightID', 'Method', 'PossibleRds','EndingRoundNum']\n",
    "\n",
    "F1_Columns.pop(F1_Columns.index('F1_Outcome'))\n",
    "F1_Columns.pop(F1_Columns.index('F1_FullName'))\n",
    "F2_Columns.pop(F2_Columns.index('F2_Outcome'))\n",
    "F2_Columns.pop(F2_Columns.index('F2_FullName'))\n",
    "\n",
    "Ordered_Columns = Other_Columns + ['F1_FullName','F2_FullName','F1_Outcome','F2_Outcome'] + F1_Columns + F2_Columns\n",
    "\n",
    "df_with_flipped = df_with_flipped[Ordered_Columns]"
   ]
  },
  {
   "cell_type": "code",
   "execution_count": null,
   "metadata": {},
   "outputs": [],
   "source": []
  },
  {
   "cell_type": "markdown",
   "metadata": {},
   "source": [
    "## Export To CSV"
   ]
  },
  {
   "cell_type": "code",
   "execution_count": 89,
   "metadata": {},
   "outputs": [],
   "source": [
    "df.to_csv('../../02_Data/02_Processed_Data/V1_Fight_Fighters_FighterInfo.csv')\n",
    "df_with_flipped.to_csv('../../02_Data/02_Processed_Data/V1_Fight_Fighters_FighterInfo_w_flipped.csv')\n"
   ]
  },
  {
   "cell_type": "code",
   "execution_count": 1,
   "metadata": {},
   "outputs": [
    {
     "name": "stdout",
     "output_type": "stream",
     "text": [
      "V1_DF.csv                       fighter_page_info.csv\r\n",
      "V1_DF_w_flipped.csv             fighter_static_stats.csv\r\n",
      "V2_Fight_Details.csv            train.csv\r\n",
      "V2_Fight_Details_Munged0711.csv train_stub.csv\r\n",
      "df_ems.csv\r\n"
     ]
    }
   ],
   "source": [
    "!ls ../../02_Data/02_Processed_Data/"
   ]
  }
 ],
 "metadata": {
  "kernelspec": {
   "display_name": "Python 3",
   "language": "python",
   "name": "python3"
  },
  "language_info": {
   "codemirror_mode": {
    "name": "ipython",
    "version": 3
   },
   "file_extension": ".py",
   "mimetype": "text/x-python",
   "name": "python",
   "nbconvert_exporter": "python",
   "pygments_lexer": "ipython3",
   "version": "3.6.4"
  }
 },
 "nbformat": 4,
 "nbformat_minor": 2
}
