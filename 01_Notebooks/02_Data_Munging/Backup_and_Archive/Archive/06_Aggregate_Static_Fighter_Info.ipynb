{
 "cells": [
  {
   "cell_type": "markdown",
   "metadata": {},
   "source": [
    "# 06 Aggregate Static Fighter Info\n",
    "- Purpose of this notebook: \n",
    "    - Aggregate the static fighter data from V1 and the ufc fighter page info\n",
    "    - Cleanse any leftover missing values"
   ]
  },
  {
   "cell_type": "markdown",
   "metadata": {},
   "source": [
    "## Imports"
   ]
  },
  {
   "cell_type": "code",
   "execution_count": 3,
   "metadata": {},
   "outputs": [],
   "source": [
    "import pandas as pd"
   ]
  },
  {
   "cell_type": "markdown",
   "metadata": {},
   "source": [
    "## Grab both dataframes"
   ]
  },
  {
   "cell_type": "code",
   "execution_count": 4,
   "metadata": {},
   "outputs": [],
   "source": [
    "fighter_page_info = pd.read_csv('../../02_Data/02_Processed_Data/fighter_page_info.csv', index_col=0)\n",
    "df = pd.read_csv('../../02_Data/02_Processed_Data/fighter_page_info.csv', index_col=0)"
   ]
  },
  {
   "cell_type": "code",
   "execution_count": 5,
   "metadata": {},
   "outputs": [],
   "source": [
    "static_fighter_stats = pd.read_csv('../../02_Data/02_Processed_Data/fighter_static_stats.csv', index_col =0)"
   ]
  },
  {
   "cell_type": "markdown",
   "metadata": {},
   "source": [
    "## Let's see whats missing in both dataframes"
   ]
  },
  {
   "cell_type": "code",
   "execution_count": 19,
   "metadata": {},
   "outputs": [],
   "source": [
    "def check_nulls(df):    \n",
    "    return df.loc[:,df.isnull().sum()!=0].isnull().sum()"
   ]
  },
  {
   "cell_type": "code",
   "execution_count": 25,
   "metadata": {},
   "outputs": [
    {
     "data": {
      "text/html": [
       "<div>\n",
       "<style scoped>\n",
       "    .dataframe tbody tr th:only-of-type {\n",
       "        vertical-align: middle;\n",
       "    }\n",
       "\n",
       "    .dataframe tbody tr th {\n",
       "        vertical-align: top;\n",
       "    }\n",
       "\n",
       "    .dataframe thead th {\n",
       "        text-align: right;\n",
       "    }\n",
       "</style>\n",
       "<table border=\"1\" class=\"dataframe\">\n",
       "  <thead>\n",
       "    <tr style=\"text-align: right;\">\n",
       "      <th></th>\n",
       "      <th>fighter_slug</th>\n",
       "      <th>reach</th>\n",
       "      <th>weight</th>\n",
       "      <th>height</th>\n",
       "      <th>leg_reach</th>\n",
       "    </tr>\n",
       "  </thead>\n",
       "  <tbody>\n",
       "    <tr>\n",
       "      <th>0</th>\n",
       "      <td>dannyabbadi</td>\n",
       "      <td>NaN</td>\n",
       "      <td>185.0</td>\n",
       "      <td>71.0</td>\n",
       "      <td>NaN</td>\n",
       "    </tr>\n",
       "    <tr>\n",
       "      <th>1</th>\n",
       "      <td>tankabbott</td>\n",
       "      <td>NaN</td>\n",
       "      <td>250.0</td>\n",
       "      <td>72.0</td>\n",
       "      <td>NaN</td>\n",
       "    </tr>\n",
       "  </tbody>\n",
       "</table>\n",
       "</div>"
      ],
      "text/plain": [
       "  fighter_slug  reach  weight  height  leg_reach\n",
       "0  dannyabbadi    NaN   185.0    71.0        NaN\n",
       "1   tankabbott    NaN   250.0    72.0        NaN"
      ]
     },
     "execution_count": 25,
     "metadata": {},
     "output_type": "execute_result"
    }
   ],
   "source": [
    "fighter_page_info.head(2)"
   ]
  },
  {
   "cell_type": "code",
   "execution_count": 21,
   "metadata": {},
   "outputs": [
    {
     "data": {
      "text/plain": [
       "(1100, 4)"
      ]
     },
     "execution_count": 21,
     "metadata": {},
     "output_type": "execute_result"
    }
   ],
   "source": [
    "static_fighter_stats.shape"
   ]
  },
  {
   "cell_type": "code",
   "execution_count": 22,
   "metadata": {},
   "outputs": [
    {
     "data": {
      "text/plain": [
       "reach        1087\n",
       "weight        344\n",
       "height        357\n",
       "leg_reach    1431\n",
       "dtype: int64"
      ]
     },
     "execution_count": 22,
     "metadata": {},
     "output_type": "execute_result"
    }
   ],
   "source": [
    "check_nulls(fighter_page_info)"
   ]
  },
  {
   "cell_type": "markdown",
   "metadata": {},
   "source": [
    "## Join to the training sub to see what actually matters"
   ]
  },
  {
   "cell_type": "code",
   "execution_count": 23,
   "metadata": {},
   "outputs": [],
   "source": [
    "train = pd.read_csv('../../02_Data/02_Processed_Data/train_stub.csv', index_col=0)"
   ]
  },
  {
   "cell_type": "code",
   "execution_count": 24,
   "metadata": {},
   "outputs": [
    {
     "data": {
      "text/html": [
       "<div>\n",
       "<style scoped>\n",
       "    .dataframe tbody tr th:only-of-type {\n",
       "        vertical-align: middle;\n",
       "    }\n",
       "\n",
       "    .dataframe tbody tr th {\n",
       "        vertical-align: top;\n",
       "    }\n",
       "\n",
       "    .dataframe thead th {\n",
       "        text-align: right;\n",
       "    }\n",
       "</style>\n",
       "<table border=\"1\" class=\"dataframe\">\n",
       "  <thead>\n",
       "    <tr style=\"text-align: right;\">\n",
       "      <th></th>\n",
       "      <th>eventid</th>\n",
       "      <th>fightid</th>\n",
       "      <th>f1_fullname</th>\n",
       "      <th>f2_fullname</th>\n",
       "      <th>f1_fighterid</th>\n",
       "      <th>f2_fighterid</th>\n",
       "      <th>f1_outcome</th>\n",
       "      <th>f1_slug</th>\n",
       "      <th>f2_slug</th>\n",
       "    </tr>\n",
       "  </thead>\n",
       "  <tbody>\n",
       "    <tr>\n",
       "      <th>0</th>\n",
       "      <td>644</td>\n",
       "      <td>4512</td>\n",
       "      <td>Antonio Silva</td>\n",
       "      <td>Mark Hunt</td>\n",
       "      <td>1431</td>\n",
       "      <td>735</td>\n",
       "      <td>Win</td>\n",
       "      <td>antoniosilva</td>\n",
       "      <td>markhunt</td>\n",
       "    </tr>\n",
       "    <tr>\n",
       "      <th>1</th>\n",
       "      <td>644</td>\n",
       "      <td>4468</td>\n",
       "      <td>James Te-Huna</td>\n",
       "      <td>Mauricio Rua</td>\n",
       "      <td>1476</td>\n",
       "      <td>457</td>\n",
       "      <td>Loss</td>\n",
       "      <td>jamestehuna</td>\n",
       "      <td>mauriciorua</td>\n",
       "    </tr>\n",
       "  </tbody>\n",
       "</table>\n",
       "</div>"
      ],
      "text/plain": [
       "   eventid  fightid    f1_fullname   f2_fullname  f1_fighterid  f2_fighterid  \\\n",
       "0      644     4512  Antonio Silva     Mark Hunt          1431           735   \n",
       "1      644     4468  James Te-Huna  Mauricio Rua          1476           457   \n",
       "\n",
       "  f1_outcome       f1_slug      f2_slug  \n",
       "0        Win  antoniosilva     markhunt  \n",
       "1       Loss   jamestehuna  mauriciorua  "
      ]
     },
     "execution_count": 24,
     "metadata": {},
     "output_type": "execute_result"
    }
   ],
   "source": [
    "train.head(2)"
   ]
  },
  {
   "cell_type": "code",
   "execution_count": 26,
   "metadata": {},
   "outputs": [
    {
     "data": {
      "text/html": [
       "<div>\n",
       "<style scoped>\n",
       "    .dataframe tbody tr th:only-of-type {\n",
       "        vertical-align: middle;\n",
       "    }\n",
       "\n",
       "    .dataframe tbody tr th {\n",
       "        vertical-align: top;\n",
       "    }\n",
       "\n",
       "    .dataframe thead th {\n",
       "        text-align: right;\n",
       "    }\n",
       "</style>\n",
       "<table border=\"1\" class=\"dataframe\">\n",
       "  <thead>\n",
       "    <tr style=\"text-align: right;\">\n",
       "      <th></th>\n",
       "      <th>fighter_slug</th>\n",
       "      <th>reach</th>\n",
       "      <th>weight</th>\n",
       "      <th>height</th>\n",
       "      <th>leg_reach</th>\n",
       "    </tr>\n",
       "  </thead>\n",
       "  <tbody>\n",
       "    <tr>\n",
       "      <th>0</th>\n",
       "      <td>dannyabbadi</td>\n",
       "      <td>NaN</td>\n",
       "      <td>185.0</td>\n",
       "      <td>71.0</td>\n",
       "      <td>NaN</td>\n",
       "    </tr>\n",
       "    <tr>\n",
       "      <th>1</th>\n",
       "      <td>tankabbott</td>\n",
       "      <td>NaN</td>\n",
       "      <td>250.0</td>\n",
       "      <td>72.0</td>\n",
       "      <td>NaN</td>\n",
       "    </tr>\n",
       "  </tbody>\n",
       "</table>\n",
       "</div>"
      ],
      "text/plain": [
       "  fighter_slug  reach  weight  height  leg_reach\n",
       "0  dannyabbadi    NaN   185.0    71.0        NaN\n",
       "1   tankabbott    NaN   250.0    72.0        NaN"
      ]
     },
     "execution_count": 26,
     "metadata": {},
     "output_type": "execute_result"
    }
   ],
   "source": [
    "fighter_page_info.head(2)"
   ]
  },
  {
   "cell_type": "code",
   "execution_count": null,
   "metadata": {},
   "outputs": [],
   "source": []
  },
  {
   "cell_type": "code",
   "execution_count": 49,
   "metadata": {},
   "outputs": [],
   "source": [
    "# First Prep DataFrame by updating columns\n",
    "\n",
    "fpi_f1 = fighter_page_info.copy()\n",
    "fpi_f1.columns = ['f1_'+col for col in fpi_f1.columns]\n",
    "df = train.merge(fpi_f1, how='left', left_on=\"f1_slug\", right_on=\"f1_fighter_slug\")\n",
    "df = df.drop(columns='f1_fighter_slug')\n",
    "\n",
    "fpi_f2 = fighter_page_info.copy()\n",
    "fpi_f2.columns = ['f2_'+col for col in fpi_f2.columns]\n",
    "df = df.merge(fpi_f2, how='left', left_on=\"f2_slug\", right_on=\"f2_fighter_slug\")\n",
    "df = df.drop(columns='f2_fighter_slug')\n"
   ]
  },
  {
   "cell_type": "code",
   "execution_count": null,
   "metadata": {},
   "outputs": [],
   "source": []
  },
  {
   "cell_type": "code",
   "execution_count": 50,
   "metadata": {},
   "outputs": [
    {
     "data": {
      "text/html": [
       "<div>\n",
       "<style scoped>\n",
       "    .dataframe tbody tr th:only-of-type {\n",
       "        vertical-align: middle;\n",
       "    }\n",
       "\n",
       "    .dataframe tbody tr th {\n",
       "        vertical-align: top;\n",
       "    }\n",
       "\n",
       "    .dataframe thead th {\n",
       "        text-align: right;\n",
       "    }\n",
       "</style>\n",
       "<table border=\"1\" class=\"dataframe\">\n",
       "  <thead>\n",
       "    <tr style=\"text-align: right;\">\n",
       "      <th></th>\n",
       "      <th>eventid</th>\n",
       "      <th>fightid</th>\n",
       "      <th>f1_fullname</th>\n",
       "      <th>f2_fullname</th>\n",
       "      <th>f1_fighterid</th>\n",
       "      <th>f2_fighterid</th>\n",
       "      <th>f1_outcome</th>\n",
       "      <th>f1_slug</th>\n",
       "      <th>f2_slug</th>\n",
       "      <th>f1_reach</th>\n",
       "      <th>f1_weight</th>\n",
       "      <th>f1_height</th>\n",
       "      <th>f1_leg_reach</th>\n",
       "      <th>f2_reach</th>\n",
       "      <th>f2_weight</th>\n",
       "      <th>f2_height</th>\n",
       "      <th>f2_leg_reach</th>\n",
       "    </tr>\n",
       "  </thead>\n",
       "  <tbody>\n",
       "    <tr>\n",
       "      <th>0</th>\n",
       "      <td>644</td>\n",
       "      <td>4512</td>\n",
       "      <td>Antonio Silva</td>\n",
       "      <td>Mark Hunt</td>\n",
       "      <td>1431</td>\n",
       "      <td>735</td>\n",
       "      <td>Win</td>\n",
       "      <td>antoniosilva</td>\n",
       "      <td>markhunt</td>\n",
       "      <td>80.0</td>\n",
       "      <td>264.0</td>\n",
       "      <td>76.0</td>\n",
       "      <td>43.0</td>\n",
       "      <td>72.0</td>\n",
       "      <td>265.0</td>\n",
       "      <td>70.0</td>\n",
       "      <td>43.0</td>\n",
       "    </tr>\n",
       "    <tr>\n",
       "      <th>1</th>\n",
       "      <td>644</td>\n",
       "      <td>4468</td>\n",
       "      <td>James Te-Huna</td>\n",
       "      <td>Mauricio Rua</td>\n",
       "      <td>1476</td>\n",
       "      <td>457</td>\n",
       "      <td>Loss</td>\n",
       "      <td>jamestehuna</td>\n",
       "      <td>mauriciorua</td>\n",
       "      <td>75.0</td>\n",
       "      <td>185.0</td>\n",
       "      <td>74.0</td>\n",
       "      <td>44.0</td>\n",
       "      <td>76.0</td>\n",
       "      <td>205.0</td>\n",
       "      <td>73.0</td>\n",
       "      <td>40.0</td>\n",
       "    </tr>\n",
       "    <tr>\n",
       "      <th>2</th>\n",
       "      <td>644</td>\n",
       "      <td>4531</td>\n",
       "      <td>Anthony Perosh</td>\n",
       "      <td>Ryan Bader</td>\n",
       "      <td>175</td>\n",
       "      <td>503</td>\n",
       "      <td>Loss</td>\n",
       "      <td>anthonyperosh</td>\n",
       "      <td>ryanbader</td>\n",
       "      <td>75.0</td>\n",
       "      <td>205.0</td>\n",
       "      <td>75.0</td>\n",
       "      <td>44.0</td>\n",
       "      <td>74.0</td>\n",
       "      <td>205.0</td>\n",
       "      <td>74.0</td>\n",
       "      <td>44.0</td>\n",
       "    </tr>\n",
       "    <tr>\n",
       "      <th>3</th>\n",
       "      <td>644</td>\n",
       "      <td>4515</td>\n",
       "      <td>Soa Palelei</td>\n",
       "      <td>Pat Barry</td>\n",
       "      <td>306</td>\n",
       "      <td>382</td>\n",
       "      <td>Win</td>\n",
       "      <td>soapalelei</td>\n",
       "      <td>patbarry</td>\n",
       "      <td>81.0</td>\n",
       "      <td>265.0</td>\n",
       "      <td>76.0</td>\n",
       "      <td>NaN</td>\n",
       "      <td>74.0</td>\n",
       "      <td>235.0</td>\n",
       "      <td>71.0</td>\n",
       "      <td>NaN</td>\n",
       "    </tr>\n",
       "    <tr>\n",
       "      <th>4</th>\n",
       "      <td>644</td>\n",
       "      <td>4518</td>\n",
       "      <td>Clint Hester</td>\n",
       "      <td>Dylan Andrews</td>\n",
       "      <td>2061</td>\n",
       "      <td>2062</td>\n",
       "      <td>Win</td>\n",
       "      <td>clinthester</td>\n",
       "      <td>dylanandrews</td>\n",
       "      <td>77.0</td>\n",
       "      <td>205.0</td>\n",
       "      <td>74.0</td>\n",
       "      <td>NaN</td>\n",
       "      <td>74.0</td>\n",
       "      <td>185.0</td>\n",
       "      <td>73.0</td>\n",
       "      <td>NaN</td>\n",
       "    </tr>\n",
       "  </tbody>\n",
       "</table>\n",
       "</div>"
      ],
      "text/plain": [
       "   eventid  fightid     f1_fullname    f2_fullname  f1_fighterid  \\\n",
       "0      644     4512   Antonio Silva      Mark Hunt          1431   \n",
       "1      644     4468   James Te-Huna   Mauricio Rua          1476   \n",
       "2      644     4531  Anthony Perosh     Ryan Bader           175   \n",
       "3      644     4515     Soa Palelei      Pat Barry           306   \n",
       "4      644     4518    Clint Hester  Dylan Andrews          2061   \n",
       "\n",
       "   f2_fighterid f1_outcome        f1_slug       f2_slug  f1_reach  f1_weight  \\\n",
       "0           735        Win   antoniosilva      markhunt      80.0      264.0   \n",
       "1           457       Loss    jamestehuna   mauriciorua      75.0      185.0   \n",
       "2           503       Loss  anthonyperosh     ryanbader      75.0      205.0   \n",
       "3           382        Win     soapalelei      patbarry      81.0      265.0   \n",
       "4          2062        Win    clinthester  dylanandrews      77.0      205.0   \n",
       "\n",
       "   f1_height  f1_leg_reach  f2_reach  f2_weight  f2_height  f2_leg_reach  \n",
       "0       76.0          43.0      72.0      265.0       70.0          43.0  \n",
       "1       74.0          44.0      76.0      205.0       73.0          40.0  \n",
       "2       75.0          44.0      74.0      205.0       74.0          44.0  \n",
       "3       76.0           NaN      74.0      235.0       71.0           NaN  \n",
       "4       74.0           NaN      74.0      185.0       73.0           NaN  "
      ]
     },
     "execution_count": 50,
     "metadata": {},
     "output_type": "execute_result"
    }
   ],
   "source": [
    "df.head()"
   ]
  },
  {
   "cell_type": "code",
   "execution_count": 51,
   "metadata": {},
   "outputs": [
    {
     "data": {
      "text/plain": [
       "f1_outcome      105\n",
       "f1_slug           1\n",
       "f2_slug           1\n",
       "f1_reach        108\n",
       "f1_weight         2\n",
       "f1_height         7\n",
       "f1_leg_reach    812\n",
       "f2_reach        108\n",
       "f2_weight         2\n",
       "f2_height         7\n",
       "f2_leg_reach    812\n",
       "dtype: int64"
      ]
     },
     "execution_count": 51,
     "metadata": {},
     "output_type": "execute_result"
    }
   ],
   "source": [
    "check_nulls(df)"
   ]
  },
  {
   "cell_type": "code",
   "execution_count": 52,
   "metadata": {},
   "outputs": [
    {
     "data": {
      "text/plain": [
       "(4830, 17)"
      ]
     },
     "execution_count": 52,
     "metadata": {},
     "output_type": "execute_result"
    }
   ],
   "source": [
    "df.shape"
   ]
  }
 ],
 "metadata": {
  "kernelspec": {
   "display_name": "Python 3",
   "language": "python",
   "name": "python3"
  },
  "language_info": {
   "codemirror_mode": {
    "name": "ipython",
    "version": 3
   },
   "file_extension": ".py",
   "mimetype": "text/x-python",
   "name": "python",
   "nbconvert_exporter": "python",
   "pygments_lexer": "ipython3",
   "version": "3.6.4"
  }
 },
 "nbformat": 4,
 "nbformat_minor": 2
}
