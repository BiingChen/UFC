{
 "cells": [
  {
   "cell_type": "markdown",
   "metadata": {},
   "source": [
    "# 02 Process V2 Json to V2_DF"
   ]
  },
  {
   "cell_type": "markdown",
   "metadata": {},
   "source": [
    "### The purpose of this notebook is to process the V2 Jsons to a V2 DF\n",
    "- The Jsons are in 2 different formats.  I created 2 separate functions to process each one and put into the same list of dictionaries"
   ]
  },
  {
   "cell_type": "markdown",
   "metadata": {},
   "source": [
    "## Imports"
   ]
  },
  {
   "cell_type": "code",
   "execution_count": 3,
   "metadata": {},
   "outputs": [],
   "source": [
    "import os\n",
    "import json\n",
    "import pandas as pd\n",
    "import re\n",
    "import numpy as np"
   ]
  },
  {
   "cell_type": "code",
   "execution_count": 4,
   "metadata": {},
   "outputs": [],
   "source": [
    "pd.options.display.max_rows = 70"
   ]
  },
  {
   "cell_type": "markdown",
   "metadata": {},
   "source": [
    "## Functions"
   ]
  },
  {
   "cell_type": "code",
   "execution_count": 5,
   "metadata": {},
   "outputs": [],
   "source": [
    "def Process_All_V2_Fight_Details(rootdir):\n",
    "    list_V2_fight_dicts = []\n",
    "    counter = 1\n",
    "    for subdir, directory, files in os.walk(rootdir):\n",
    "        for file in files:\n",
    "            filepath = subdir + os.sep + file\n",
    "            with open(filepath) as f:\n",
    "                jsn = json.load(f)\n",
    "            v2_fight_dict = Process_One_V2_Fight_Details(jsn)\n",
    "            if len(v2_fight_dict) > 30:\n",
    "                list_V2_fight_dicts.append(v2_fight_dict)\n",
    "            else:\n",
    "                #print(f\"Encounter short json:  {len(v2_fight_dict)}, {file}\")\n",
    "                v2_fight_dict = Other_Process_One_V2_Fight_Details(jsn)\n",
    "                list_V2_fight_dicts.append(v2_fight_dict)\n",
    "\n",
    "            if counter%100==0:\n",
    "                print(f\"{counter}: {file}\")\n",
    "            \n",
    "            counter +=1\n",
    "            \n",
    "        if counter > 300000:\n",
    "            break\n",
    "            \n",
    "    return list_V2_fight_dicts"
   ]
  },
  {
   "cell_type": "code",
   "execution_count": 7,
   "metadata": {},
   "outputs": [],
   "source": [
    "def Process_One_V2_Fight_Details(jsn):\n",
    "#   Takes a json file representing 1 fight, returns a processed dictionary\n",
    "    df = pd.io.json.json_normalize(jsn)\n",
    "    \n",
    "    # Mask Event Round columns to avoid dropping them\n",
    "    df = df.rename(columns = {'FMLiveFeed.CurrentRound':'FMLiveFeed.CurrentRnd',\n",
    "                              'FMLiveFeed.CurrentRoundTime': 'FMLiveFeed.CurrentRndTime',\n",
    "                              'FMLiveFeed.MaxRounds':'FMLiveFeed.MaxRnds'})\n",
    "\n",
    "    list_words_to_drop = ['punch','kick','roundstats','type']\n",
    "    list_columns_to_keep = remove_columns(df.columns, list_words_to_drop)\n",
    "    df = df[list_columns_to_keep]\n",
    "\n",
    "    # Clean up column names\n",
    "    df.columns = cleanse_column_names(df.columns)\n",
    "    \n",
    "    # Create Dictionary\n",
    "    final_dict = df.T.to_dict()[0]\n",
    "    \n",
    "    # Convert all keys to lowercase\n",
    "    final_dict = {k.lower():v for k, v in final_dict.items()}\n",
    "\n",
    "    return final_dict"
   ]
  },
  {
   "cell_type": "code",
   "execution_count": 8,
   "metadata": {},
   "outputs": [],
   "source": [
    "def remove_columns(list_columns, list_words_to_drop):\n",
    "#   Take in list of columns and list of words to drop.  Return list of columns with columns dropped\n",
    "    list_columns_to_keep = []\n",
    "    for column in list_columns:\n",
    "        if not any(drop_word in column.lower() for drop_word in list_words_to_drop):\n",
    "            list_columns_to_keep.append(column) \n",
    "    return list_columns_to_keep"
   ]
  },
  {
   "cell_type": "code",
   "execution_count": 9,
   "metadata": {},
   "outputs": [],
   "source": [
    "def cleanse_column_names(list_columns_to_keep):\n",
    "#   Take in \"dirty\" list of column names, return \"clean\" list of column names\n",
    "    list_clean_column_names = [cleanse_column_name(column) for column in list_columns_to_keep]\n",
    "    return list_clean_column_names"
   ]
  },
  {
   "cell_type": "code",
   "execution_count": 10,
   "metadata": {},
   "outputs": [],
   "source": [
    "def cleanse_column_name(column):\n",
    "#   takes in column name.  Returns cleaned up column name\n",
    "    column = re.sub(' ','_', column) # Get rid of spaces\n",
    "    column = re.sub('FMLiveFeed.','', column) # Get rid of FMLiveFeed\n",
    "    column = re.sub('.Blue.','.F1.', column) # Get rid of Blue\n",
    "    column = re.sub('.Red.','.F2.', column) # Get rid of Red\n",
    "    column = re.sub('FightStats.','', column) # Get rid of FightStats\n",
    "    column = re.sub('\\.Strikes\\.','.', column) # Get rid of Strikes\n",
    "    column = re.sub('Fighters\\.','', column) # Get rid of Strikes  \n",
    "    column = re.sub('\\.','_', column) # periods to underscores\n",
    "    column = re.sub('Leg_Total_Strikes','Legs_Total_Strikes', column ) # Fix column naming error for V2a\n",
    "    return column"
   ]
  },
  {
   "cell_type": "code",
   "execution_count": 11,
   "metadata": {},
   "outputs": [],
   "source": [
    "def Other_Process_One_V2_Fight_Details(jsn):\n",
    "    # Split the data into lists for easier management\n",
    "    list_f1_strikes = jsn['FMLiveFeed']['FightCard']['Fight'][2]['FightStats'][0]['Fighter'][0]['Strikes']\n",
    "    list_f1_grappling = jsn['FMLiveFeed']['FightCard']['Fight'][2]['FightStats'][0]['Fighter'][1]['Grappling']\n",
    "    list_f1_tip = jsn['FMLiveFeed']['FightCard']['Fight'][2]['FightStats'][0]['Fighter'][2]['TIP']\n",
    "    list_f2_strikes = jsn['FMLiveFeed']['FightCard']['Fight'][2]['FightStats'][1]['Fighter'][0]['Strikes']\n",
    "    list_f2_grappling = jsn['FMLiveFeed']['FightCard']['Fight'][2]['FightStats'][1]['Fighter'][1]['Grappling']\n",
    "    list_f2_tip = jsn['FMLiveFeed']['FightCard']['Fight'][2]['FightStats'][1]['Fighter'][2]['TIP']  \n",
    "\n",
    "    # Create new clean dictionary\n",
    "    clean_dict = {}\n",
    "\n",
    "    # Process each dataset\n",
    "    clean_dict = parse_list_strikes_tip(clean_dict, list_f1_strikes, 'F1')\n",
    "    clean_dict = parse_list_grappling(clean_dict, list_f1_grappling, 'F1')\n",
    "    clean_dict = parse_list_strikes_tip(clean_dict, list_f1_tip, 'F1')\n",
    "    clean_dict = parse_list_strikes_tip(clean_dict, list_f2_strikes, 'F2')\n",
    "    clean_dict = parse_list_grappling(clean_dict, list_f2_grappling, 'F2')\n",
    "    clean_dict = parse_list_strikes_tip(clean_dict, list_f2_tip, 'F2')\n",
    "    clean_dict = get_other_keys(clean_dict, jsn)\n",
    "    clean_dict = add_IDs_and_names(clean_dict, jsn)\n",
    "    \n",
    "    # Convert all keys to lowercase\n",
    "    clean_dict = {k.lower():v for k, v in clean_dict.items()}\n",
    "    \n",
    "    return clean_dict"
   ]
  },
  {
   "cell_type": "code",
   "execution_count": 12,
   "metadata": {},
   "outputs": [],
   "source": [
    "def parse_list_grappling(clean_dict, list_dicts, fighter_string): \n",
    "    for one_dict in list_dicts:\n",
    "        \n",
    "        # Ignore any dictionary for kicks and punches (since always null)\n",
    "        if 'kick' in one_dict['Name'].lower() or 'punch' in one_dict['Name'].lower():\n",
    "            continue\n",
    "\n",
    "        # Put the values into the new dictionary\n",
    "        if 'Attempts' in one_dict:\n",
    "            attempts_key = f\"{fighter_string}_Grappling_{re.sub(' ','_',one_dict['Name'].strip())}_Attempts\"\n",
    "            clean_dict[attempts_key] = try_int(one_dict['Attempts'])\n",
    "\n",
    "        if 'Landed' in one_dict:\n",
    "            landed_key = f\"{fighter_string}_Grappling_{re.sub(' ','_',one_dict['Name'].strip())}_Landed\"\n",
    "            clean_dict[landed_key] = try_int(one_dict['Landed'])\n",
    "\n",
    "        if 'Success' in one_dict:\n",
    "            landed_key = f\"{fighter_string}_Grappling_{re.sub(' ','_',one_dict['Name'].strip())}_Landed\"\n",
    "            clean_dict[landed_key] = try_int(one_dict['Success'])  \n",
    "            \n",
    "    return clean_dict"
   ]
  },
  {
   "cell_type": "code",
   "execution_count": 13,
   "metadata": {},
   "outputs": [],
   "source": [
    "def parse_list_strikes_tip(clean_dict, list_dicts, fighter_string): \n",
    "    for one_dict in list_dicts:\n",
    "        \n",
    "        # Ignore any dictionary for kicks and punches (since always null)\n",
    "        if 'kick' in one_dict['Name'].lower() or 'punch' in one_dict['Name'].lower():\n",
    "            continue\n",
    "\n",
    "        # Put the values into the new dictionary\n",
    "        if 'Attempts' in one_dict:\n",
    "            attempts_key = f\"{fighter_string}_{re.sub(' ','_',one_dict['Name'].strip())}_Attempts\"\n",
    "            clean_dict[attempts_key] = try_int(one_dict['Attempts'])\n",
    "\n",
    "        if 'Landed' in one_dict:\n",
    "            landed_key = f\"{fighter_string}_{re.sub(' ','_',one_dict['Name'].strip())}_Landed\"\n",
    "            clean_dict[landed_key] = try_int(one_dict['Landed'])\n",
    "\n",
    "        if 'Success' in one_dict:\n",
    "            landed_key = f\"{fighter_string}_{re.sub(' ','_',one_dict['Name'].strip())}_Landed\"\n",
    "            clean_dict[landed_key] = try_int(one_dict['Success'])  \n",
    "        \n",
    "        if 'Time' in one_dict:\n",
    "            tip_key = f\"{fighter_string}_TIP_{re.sub(' ','_',one_dict['Name'].strip())}\"\n",
    "            tip_key = re.sub('\\.','_',tip_key)\n",
    "            clean_dict[tip_key] = one_dict['Time']\n",
    "            \n",
    "    return clean_dict"
   ]
  },
  {
   "cell_type": "code",
   "execution_count": 14,
   "metadata": {},
   "outputs": [],
   "source": [
    "def get_other_keys(clean_dict, jsn): \n",
    "    Other_Columns_Map = {'FMLiveFeed_FightCard_Accolade':'Accolade',\n",
    "     'FMLiveFeed_FightCard_CurRound':'CurrentRnd',\n",
    "     'Missing1':'CurrentRndTime',\n",
    "     'FMLiveFeed_EventID':'EventID',\n",
    "     'FMLiveFeed_FightCard_FightID':'FightID',\n",
    "     'FMLiveFeed_FightCard_TotalNumOfRounds':'MaxRnds',\n",
    "     'FMLiveFeed_FightCard_Referee':'Referee',\n",
    "     'FMLiveFeed_FightCard_Status':'Status',\n",
    "     'Timestamp':'Timestamp',\n",
    "     'FMLiveFeed_FightCard_WeightClass':'WeightClass'}\n",
    "\n",
    "    # Flatten the file \n",
    "    flat_jsn = flatten_json(jsn)\n",
    "    \n",
    "    # delete unwanted keys\n",
    "    keys_to_delete = []\n",
    "    for key in flat_jsn.keys():\n",
    "        if 'RoundStats' in key or 'FightStats' in key or 'Fighters' in key:\n",
    "            keys_to_delete.append(key)\n",
    "    for key in keys_to_delete:\n",
    "        del flat_jsn[key]\n",
    "        \n",
    "     # Append to clean_dict\n",
    "    for key, value in flat_jsn.items():\n",
    "        if key in Other_Columns_Map:\n",
    "            clean_dict[Other_Columns_Map[key]] = value   \n",
    "    \n",
    "    return clean_dict"
   ]
  },
  {
   "cell_type": "code",
   "execution_count": 15,
   "metadata": {},
   "outputs": [],
   "source": [
    "def add_IDs_and_names(clean_dict, jsn):\n",
    "    name_dict = {}\n",
    "    for f_dict in jsn['FMLiveFeed']['FightCard']['Fight'][0]['Fighters']:\n",
    "        name_dict[f_dict['FighterID']] = f_dict['Name']\n",
    "        \n",
    "    f1_fighterID = jsn['FMLiveFeed']['FightCard']['Fight'][2]['FightStats'][0]['FighterID']\n",
    "    f2_fighterID = jsn['FMLiveFeed']['FightCard']['Fight'][2]['FightStats'][1]['FighterID']\n",
    "    \n",
    "    #Add FighterIDs and Names to dictionary\n",
    "    clean_dict['F1_FighterID'] = f1_fighterID\n",
    "    clean_dict['F2_FighterID'] = f2_fighterID\n",
    "    clean_dict['F1_Name'] = name_dict[f1_fighterID]\n",
    "    clean_dict['F2_Name'] = name_dict[f2_fighterID]\n",
    "    \n",
    "    return clean_dict"
   ]
  },
  {
   "cell_type": "code",
   "execution_count": 16,
   "metadata": {},
   "outputs": [],
   "source": [
    "def flatten_json(y):\n",
    "    out = {}\n",
    "\n",
    "    def flatten(x, name=''):\n",
    "        if type(x) is dict:\n",
    "            for a in x:\n",
    "                flatten(x[a], name + a + '_')\n",
    "        elif type(x) is list:\n",
    "            i = 0\n",
    "            for a in x:\n",
    "                flatten(a, name + str(i) + '_')\n",
    "                i += 1\n",
    "        else:\n",
    "            out[name[:-1]] = x\n",
    "\n",
    "    flatten(y)\n",
    "    return out"
   ]
  },
  {
   "cell_type": "code",
   "execution_count": 17,
   "metadata": {},
   "outputs": [],
   "source": [
    "def check_nulls(df):    \n",
    "    return df.loc[:,df.isnull().sum()!=0].isnull().sum()"
   ]
  },
  {
   "cell_type": "code",
   "execution_count": 18,
   "metadata": {},
   "outputs": [],
   "source": [
    "def try_int(value):\n",
    "    try:\n",
    "        return int(value)\n",
    "         \n",
    "    except:\n",
    "        return value"
   ]
  },
  {
   "cell_type": "markdown",
   "metadata": {},
   "source": [
    "## Call my Functions and Test the Code"
   ]
  },
  {
   "cell_type": "code",
   "execution_count": 19,
   "metadata": {},
   "outputs": [],
   "source": [
    "rootdir = '../../02_Data/01_Raw_Scraped_Data/V2_Jsons/'"
   ]
  },
  {
   "cell_type": "code",
   "execution_count": 20,
   "metadata": {
    "collapsed": true
   },
   "outputs": [
    {
     "name": "stdout",
     "output_type": "stream",
     "text": [
      "100: fight_5967.json\n",
      "200: fight_5762.json\n",
      "300: fight_6688.json\n",
      "400: fight_4490.json\n",
      "500: fight_4996.json\n",
      "600: fight_5109.json\n",
      "700: fight_4537.json\n",
      "800: fight_4764.json\n",
      "900: fight_7021.json\n",
      "1000: fight_6100.json\n",
      "1100: fight_6187.json\n",
      "1200: fight_5367.json\n",
      "1300: fight_5548.json\n",
      "1400: fight_5614.json\n",
      "1500: fight_6634.json\n",
      "1600: fight_6930.json\n",
      "1700: fight_4995.json\n",
      "1800: fight_4391.json\n",
      "1900: fight_6399.json\n",
      "2000: fight_7153.json\n",
      "2100: fight_5030.json\n",
      "2200: fight_5289.json\n",
      "2300: fight_5428.json\n"
     ]
    }
   ],
   "source": [
    "list_V2_fight_dicts = Process_All_V2_Fight_Details(rootdir)"
   ]
  },
  {
   "cell_type": "markdown",
   "metadata": {},
   "source": [
    "## Convert list of dicts to a dataframe and replace '' with nan"
   ]
  },
  {
   "cell_type": "code",
   "execution_count": 71,
   "metadata": {},
   "outputs": [],
   "source": [
    "df = pd.DataFrame(list_V2_fight_dicts)\n",
    "df.replace('', np.nan, inplace=True)"
   ]
  },
  {
   "cell_type": "markdown",
   "metadata": {},
   "source": [
    "## Setup Column Order: [Other Columns] [F1 Columns] [F2 Columns]"
   ]
  },
  {
   "cell_type": "code",
   "execution_count": 72,
   "metadata": {},
   "outputs": [],
   "source": [
    "F1_Columns = [col for col in df.columns if 'f1' in col.lower()]\n",
    "F2_Columns = [col for col in df.columns if 'f2' in col.lower()]\n",
    "Other_Columns = [col for col in df.columns if not 'f2' in col.lower() and not 'f1' in col.lower()]\n",
    "\n",
    "\n",
    "Ordered_Columns = Other_Columns + F1_Columns + F2_Columns\n",
    "df = df[Ordered_Columns]"
   ]
  },
  {
   "cell_type": "markdown",
   "metadata": {},
   "source": [
    "## Setup subsets of columns for easy access"
   ]
  },
  {
   "cell_type": "code",
   "execution_count": 90,
   "metadata": {},
   "outputs": [],
   "source": [
    "F1_Strikes = [col for col in F1_Columns if 'strikes' in col.lower()] + ['f1_knock_down_landed']\n",
    "F1_Grappling = [col for col in F1_Columns if 'grappling' in col.lower()]\n",
    "F1_TIP = [col for col in F1_Columns if 'tip' in col.lower()]\n",
    "F1_TIP = [col for col in F1_Columns if 'tip' in col.lower()]\n",
    "F1_Identification = ['F1_fighterid','f1_name']\n",
    "F1_Identification = set(F1_Columns) - set(F1_Strikes) - set(F1_Grappling) - set(F1_TIP)"
   ]
  },
  {
   "cell_type": "markdown",
   "metadata": {},
   "source": [
    "# Convert all columns to int64"
   ]
  },
  {
   "cell_type": "code",
   "execution_count": 68,
   "metadata": {},
   "outputs": [],
   "source": [
    "columns_to_convert_float = F1_Columns + F2_Columns\n",
    "columns_to_convert_float.remove('f1_fighterid')\n",
    "columns_to_convert_float.remove('f2_fighterid')"
   ]
  },
  {
   "cell_type": "code",
   "execution_count": 74,
   "metadata": {},
   "outputs": [],
   "source": [
    "for col in columns_to_convert_float:\n",
    "    try:\n",
    "        df[col] = df[col].astype('float')\n",
    "    except:\n",
    "        pass"
   ]
  },
  {
   "cell_type": "markdown",
   "metadata": {},
   "source": [
    "## Drop all nulls for now"
   ]
  },
  {
   "cell_type": "code",
   "execution_count": null,
   "metadata": {},
   "outputs": [],
   "source": [
    "df = df.dropna(axis=1, how='any')"
   ]
  },
  {
   "cell_type": "code",
   "execution_count": 83,
   "metadata": {},
   "outputs": [
    {
     "data": {
      "text/plain": [
       "(2387, 107)"
      ]
     },
     "execution_count": 83,
     "metadata": {},
     "output_type": "execute_result"
    }
   ],
   "source": [
    "df.shape"
   ]
  },
  {
   "cell_type": "code",
   "execution_count": 93,
   "metadata": {},
   "outputs": [
    {
     "name": "stdout",
     "output_type": "stream",
     "text": [
      "currentrnd\n",
      "eventid\n",
      "fightid\n",
      "maxrnds\n",
      "timestamp\n",
      "f1_body_significant_strikes_attempts\n",
      "f1_body_significant_strikes_landed\n",
      "f1_body_total_strikes_attempts\n",
      "f1_body_total_strikes_landed\n",
      "f1_clinch_body_strikes_attempts\n",
      "f1_clinch_body_strikes_landed\n",
      "f1_clinch_head_strikes_attempts\n",
      "f1_clinch_head_strikes_landed\n",
      "f1_clinch_leg_strikes_attempts\n",
      "f1_clinch_leg_strikes_landed\n",
      "f1_clinch_significant_strikes_attempts\n",
      "f1_clinch_significant_strikes_landed\n",
      "f1_clinch_total_strikes_attempts\n",
      "f1_clinch_total_strikes_landed\n",
      "f1_distance_body_strikes_attempts\n",
      "f1_distance_body_strikes_landed\n",
      "f1_distance_head_strikes_attempts\n",
      "f1_distance_head_strikes_landed\n",
      "f1_distance_leg_strikes_attempts\n",
      "f1_distance_leg_strikes_landed\n",
      "f1_distance_strikes_attempts\n",
      "f1_distance_strikes_landed\n",
      "f1_fighterid\n",
      "f1_grappling_standups_landed\n",
      "f1_grappling_submissions_attempts\n",
      "f1_grappling_takedowns_attempts\n",
      "f1_grappling_takedowns_landed\n",
      "f1_ground_body_strikes_attempts\n",
      "f1_ground_body_strikes_landed\n",
      "f1_ground_head_strikes_attempts\n",
      "f1_ground_head_strikes_landed\n",
      "f1_ground_leg_strikes_attempts\n",
      "f1_ground_leg_strikes_landed\n",
      "f1_ground_significant_strikes_attempts\n",
      "f1_ground_significant_strikes_landed\n",
      "f1_ground_total_strikes_attempts\n",
      "f1_ground_total_strikes_landed\n",
      "f1_head_significant_strikes_attempts\n",
      "f1_head_significant_strikes_landed\n",
      "f1_head_total_strikes_attempts\n",
      "f1_head_total_strikes_landed\n",
      "f1_knock_down_landed\n",
      "f1_legs_significant_strikes_attempts\n",
      "f1_legs_significant_strikes_landed\n",
      "f1_legs_total_strikes_attempts\n",
      "f1_legs_total_strikes_landed\n",
      "f1_name\n",
      "f1_significant_strikes_attempts\n",
      "f1_significant_strikes_landed\n",
      "f1_total_strikes_attempts\n",
      "f1_total_strikes_landed\n",
      "f2_body_significant_strikes_attempts\n",
      "f2_body_significant_strikes_landed\n",
      "f2_body_total_strikes_attempts\n",
      "f2_body_total_strikes_landed\n",
      "f2_clinch_body_strikes_attempts\n",
      "f2_clinch_body_strikes_landed\n",
      "f2_clinch_head_strikes_attempts\n",
      "f2_clinch_head_strikes_landed\n",
      "f2_clinch_leg_strikes_attempts\n",
      "f2_clinch_leg_strikes_landed\n",
      "f2_clinch_significant_strikes_attempts\n",
      "f2_clinch_significant_strikes_landed\n",
      "f2_clinch_total_strikes_attempts\n",
      "f2_clinch_total_strikes_landed\n",
      "f2_distance_body_strikes_attempts\n",
      "f2_distance_body_strikes_landed\n",
      "f2_distance_head_strikes_attempts\n",
      "f2_distance_head_strikes_landed\n",
      "f2_distance_leg_strikes_attempts\n",
      "f2_distance_leg_strikes_landed\n",
      "f2_distance_strikes_attempts\n",
      "f2_distance_strikes_landed\n",
      "f2_fighterid\n",
      "f2_grappling_standups_landed\n",
      "f2_grappling_submissions_attempts\n",
      "f2_grappling_takedowns_attempts\n",
      "f2_grappling_takedowns_landed\n",
      "f2_ground_body_strikes_attempts\n",
      "f2_ground_body_strikes_landed\n",
      "f2_ground_head_strikes_attempts\n",
      "f2_ground_head_strikes_landed\n",
      "f2_ground_leg_strikes_attempts\n",
      "f2_ground_leg_strikes_landed\n",
      "f2_ground_significant_strikes_attempts\n",
      "f2_ground_significant_strikes_landed\n",
      "f2_ground_total_strikes_attempts\n",
      "f2_ground_total_strikes_landed\n",
      "f2_head_significant_strikes_attempts\n",
      "f2_head_significant_strikes_landed\n",
      "f2_head_total_strikes_attempts\n",
      "f2_head_total_strikes_landed\n",
      "f2_knock_down_landed\n",
      "f2_legs_significant_strikes_attempts\n",
      "f2_legs_significant_strikes_landed\n",
      "f2_legs_total_strikes_attempts\n",
      "f2_legs_total_strikes_landed\n",
      "f2_name\n",
      "f2_significant_strikes_attempts\n",
      "f2_significant_strikes_landed\n",
      "f2_total_strikes_attempts\n",
      "f2_total_strikes_landed\n"
     ]
    }
   ],
   "source": [
    "for col in df.columns:\n",
    "    print(col)"
   ]
  },
  {
   "cell_type": "code",
   "execution_count": 81,
   "metadata": {},
   "outputs": [
    {
     "data": {
      "text/plain": [
       "Series([], dtype: float64)"
      ]
     },
     "execution_count": 81,
     "metadata": {},
     "output_type": "execute_result"
    }
   ],
   "source": [
    "check_nulls(df)"
   ]
  },
  {
   "cell_type": "markdown",
   "metadata": {},
   "source": [
    "## Export Data"
   ]
  },
  {
   "cell_type": "code",
   "execution_count": 84,
   "metadata": {},
   "outputs": [],
   "source": [
    "df.to_csv('../../02_Data/02_Processed_Data/V2_Fight_Details.csv')"
   ]
  }
 ],
 "metadata": {
  "kernelspec": {
   "display_name": "Python 3",
   "language": "python",
   "name": "python3"
  },
  "language_info": {
   "codemirror_mode": {
    "name": "ipython",
    "version": 3
   },
   "file_extension": ".py",
   "mimetype": "text/x-python",
   "name": "python",
   "nbconvert_exporter": "python",
   "pygments_lexer": "ipython3",
   "version": "3.6.4"
  }
 },
 "nbformat": 4,
 "nbformat_minor": 2
}
