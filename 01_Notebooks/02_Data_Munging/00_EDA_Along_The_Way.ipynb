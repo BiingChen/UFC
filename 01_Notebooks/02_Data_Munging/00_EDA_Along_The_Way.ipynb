{
 "cells": [
  {
   "cell_type": "markdown",
   "metadata": {},
   "source": [
    "# EDA Along The Way"
   ]
  },
  {
   "cell_type": "markdown",
   "metadata": {},
   "source": [
    "## Imports"
   ]
  },
  {
   "cell_type": "code",
   "execution_count": 1,
   "metadata": {},
   "outputs": [],
   "source": [
    "import pandas as pd\n",
    "from matplotlib import pyplot as plt\n",
    "import seaborn as sns\n",
    "%matplotlib inline"
   ]
  },
  {
   "cell_type": "markdown",
   "metadata": {},
   "source": [
    "## Explore V2 Fight Details Data\n"
   ]
  },
  {
   "cell_type": "code",
   "execution_count": 2,
   "metadata": {},
   "outputs": [],
   "source": [
    "df = pd.read_csv('../../02_Data/02_Processed_Data/V2_Fight_Details.csv',index_col=0)"
   ]
  },
  {
   "cell_type": "markdown",
   "metadata": {},
   "source": [
    "#### Need to duplicate and flip the data so all fighters are represented as f1"
   ]
  },
  {
   "cell_type": "code",
   "execution_count": 3,
   "metadata": {},
   "outputs": [],
   "source": [
    "# Setup Columns Again\n",
    "F1_Columns = [col for col in df.columns if 'f1' in col.lower()]\n",
    "F2_Columns = [col for col in df.columns if 'f2' in col.lower()]\n",
    "Other_Columns = [col for col in df.columns if not 'f2' in col.lower() and not 'f1' in col.lower()]\n",
    "\n",
    "Ordered_Columns = Other_Columns + F1_Columns + F2_Columns\n",
    "Flipped_Columns = Other_Columns + F2_Columns + F1_Columns\n",
    "\n",
    "# Put Columns in Order\n",
    "df = df[Ordered_Columns]\n",
    "\n",
    "# Create Flipped df\n",
    "flipped_df = df[Flipped_Columns]\n",
    "flipped_df.columns = Ordered_Columns\n",
    "\n",
    "# Concatenate df and flipped_df\n",
    "df = pd.concat([df, flipped_df])\n",
    "\n",
    "# Reset the index\n",
    "df = df.reset_index().drop(columns=['index'])"
   ]
  },
  {
   "cell_type": "markdown",
   "metadata": {},
   "source": [
    "#### Check out the shape of the data"
   ]
  },
  {
   "cell_type": "code",
   "execution_count": 4,
   "metadata": {},
   "outputs": [
    {
     "data": {
      "text/plain": [
       "(4774, 107)"
      ]
     },
     "execution_count": 4,
     "metadata": {},
     "output_type": "execute_result"
    }
   ],
   "source": [
    "df.shape"
   ]
  },
  {
   "cell_type": "markdown",
   "metadata": {},
   "source": [
    "#### Look at the top 10 columns"
   ]
  },
  {
   "cell_type": "code",
   "execution_count": 5,
   "metadata": {},
   "outputs": [
    {
     "data": {
      "text/plain": [
       "Index(['currentrnd', 'eventid', 'fightid', 'maxrnds', 'timestamp',\n",
       "       'f1_body_significant_strikes_attempts',\n",
       "       'f1_body_significant_strikes_landed', 'f1_body_total_strikes_attempts',\n",
       "       'f1_body_total_strikes_landed', 'f1_clinch_body_strikes_attempts'],\n",
       "      dtype='object')"
      ]
     },
     "execution_count": 5,
     "metadata": {},
     "output_type": "execute_result"
    }
   ],
   "source": [
    "df.columns[:10]"
   ]
  },
  {
   "cell_type": "code",
   "execution_count": 7,
   "metadata": {},
   "outputs": [
    {
     "data": {
      "text/plain": [
       "['currentrnd', 'eventid', 'fightid', 'maxrnds', 'timestamp']"
      ]
     },
     "execution_count": 7,
     "metadata": {},
     "output_type": "execute_result"
    }
   ],
   "source": [
    "[col for col in df.columns if 'f1' not in col and 'f2' not in col]"
   ]
  },
  {
   "cell_type": "markdown",
   "metadata": {},
   "source": [
    "Looks like there are generic identifiers of each event and fight.  The column ``currentrnd`` represents the round that the fight was stopped, if it was stopped early.  ``maxrnds`` is the maximum number of rounds that the fight could go if it went to a decision. \n",
    "\n",
    "**Subject Matter Expertise:** Normal UFC fights are 3 rounds.  Championship and card \"headliners\" are 5 rounds.  Card headliners are usually between veteran or rapidily rising fighters with \"hype\" \n",
    "\n",
    "timestamp is a datetime stamp - Upon inspection it is close to the date of the actual event, but does not match it."
   ]
  },
  {
   "cell_type": "markdown",
   "metadata": {},
   "source": [
    "#### Check if there the time stamp is off of the event date in a consistent way"
   ]
  },
  {
   "cell_type": "code",
   "execution_count": 10,
   "metadata": {},
   "outputs": [
    {
     "data": {
      "text/plain": [
       "count                    4774\n",
       "unique                   2293\n",
       "top       14:41:02 05/23/2014\n",
       "freq                       18\n",
       "Name: timestamp, dtype: object"
      ]
     },
     "execution_count": 10,
     "metadata": {},
     "output_type": "execute_result"
    }
   ],
   "source": [
    "# Let's inspect the time stamp\n",
    "df.timestamp.describe()"
   ]
  },
  {
   "cell_type": "markdown",
   "metadata": {},
   "source": [
    "#### In order to compare the time stamp to the event date, I need to bring the event date."
   ]
  },
  {
   "cell_type": "code",
   "execution_count": 11,
   "metadata": {},
   "outputs": [
    {
     "name": "stdout",
     "output_type": "stream",
     "text": [
      "../../02_Data/01_Raw_Scraped_Data/Events/events_df.csv\r\n"
     ]
    }
   ],
   "source": [
    "# find path for events_df\n",
    "!ls ../../02_Data/01_Raw_Scraped_Data/Events/events_df.csv"
   ]
  },
  {
   "cell_type": "code",
   "execution_count": 12,
   "metadata": {},
   "outputs": [],
   "source": [
    "events_df = pd.read_csv('../../02_Data/01_Raw_Scraped_Data/Events/events_df.csv', index_col = 0)"
   ]
  },
  {
   "cell_type": "code",
   "execution_count": 13,
   "metadata": {},
   "outputs": [
    {
     "data": {
      "text/html": [
       "<div>\n",
       "<style scoped>\n",
       "    .dataframe tbody tr th:only-of-type {\n",
       "        vertical-align: middle;\n",
       "    }\n",
       "\n",
       "    .dataframe tbody tr th {\n",
       "        vertical-align: top;\n",
       "    }\n",
       "\n",
       "    .dataframe thead th {\n",
       "        text-align: right;\n",
       "    }\n",
       "</style>\n",
       "<table border=\"1\" class=\"dataframe\">\n",
       "  <thead>\n",
       "    <tr style=\"text-align: right;\">\n",
       "      <th></th>\n",
       "      <th>Country</th>\n",
       "      <th>Date</th>\n",
       "      <th>EventId</th>\n",
       "      <th>Url</th>\n",
       "      <th>Venue</th>\n",
       "    </tr>\n",
       "  </thead>\n",
       "  <tbody>\n",
       "    <tr>\n",
       "      <th>0</th>\n",
       "      <td>Australia</td>\n",
       "      <td>2013-12-06</td>\n",
       "      <td>644</td>\n",
       "      <td>/event/ufc-fight-night-hunt-bigfoot</td>\n",
       "      <td>Queensland Entertainment Centre</td>\n",
       "    </tr>\n",
       "    <tr>\n",
       "      <th>1</th>\n",
       "      <td>USA</td>\n",
       "      <td>2015-02-14</td>\n",
       "      <td>701</td>\n",
       "      <td>/event/ufc-fight-night-broomfield</td>\n",
       "      <td>1stBank Center</td>\n",
       "    </tr>\n",
       "  </tbody>\n",
       "</table>\n",
       "</div>"
      ],
      "text/plain": [
       "     Country        Date  EventId                                  Url  \\\n",
       "0  Australia  2013-12-06      644  /event/ufc-fight-night-hunt-bigfoot   \n",
       "1        USA  2015-02-14      701    /event/ufc-fight-night-broomfield   \n",
       "\n",
       "                             Venue  \n",
       "0  Queensland Entertainment Centre  \n",
       "1                   1stBank Center  "
      ]
     },
     "execution_count": 13,
     "metadata": {},
     "output_type": "execute_result"
    }
   ],
   "source": [
    "# Look at events_df\n",
    "events_df.head(2)"
   ]
  },
  {
   "cell_type": "markdown",
   "metadata": {},
   "source": [
    "#### Create merge dataframe and merge to df"
   ]
  },
  {
   "cell_type": "code",
   "execution_count": 14,
   "metadata": {},
   "outputs": [],
   "source": [
    "events_merge = events_df[['EventId','Date']]\n",
    "events_merge.columns = ['eventid','date']\n",
    "df = df.merge(events_merge, how = 'inner', left_on = 'eventid', right_on = 'eventid')"
   ]
  },
  {
   "cell_type": "markdown",
   "metadata": {},
   "source": [
    "#### Check timestamp and date dtypes to see if I can directly subtract them"
   ]
  },
  {
   "cell_type": "code",
   "execution_count": 15,
   "metadata": {},
   "outputs": [
    {
     "data": {
      "text/plain": [
       "timestamp    object\n",
       "date         object\n",
       "dtype: object"
      ]
     },
     "execution_count": 15,
     "metadata": {},
     "output_type": "execute_result"
    }
   ],
   "source": [
    "df[['timestamp','date']].dtypes"
   ]
  },
  {
   "cell_type": "markdown",
   "metadata": {},
   "source": [
    "#### Convert timestamp and date to date type"
   ]
  },
  {
   "cell_type": "code",
   "execution_count": 16,
   "metadata": {},
   "outputs": [],
   "source": [
    "df['timestamp'] = pd.to_datetime(df['timestamp']) \n",
    "df['date'] = pd.to_datetime(df['date']) "
   ]
  },
  {
   "cell_type": "code",
   "execution_count": 17,
   "metadata": {},
   "outputs": [
    {
     "data": {
      "text/plain": [
       "timestamp    datetime64[ns]\n",
       "date         datetime64[ns]\n",
       "dtype: object"
      ]
     },
     "execution_count": 17,
     "metadata": {},
     "output_type": "execute_result"
    }
   ],
   "source": [
    "df[['timestamp','date']].dtypes"
   ]
  },
  {
   "cell_type": "markdown",
   "metadata": {},
   "source": [
    "#### Create timestamp_date_delta column in \"days\" and then to int to graph"
   ]
  },
  {
   "cell_type": "code",
   "execution_count": 18,
   "metadata": {},
   "outputs": [],
   "source": [
    "df['timestamp_date'] = df.apply(lambda x: x['timestamp'] - x['date'], axis = 1).astype('timedelta64[D]').astype('int')"
   ]
  },
  {
   "cell_type": "code",
   "execution_count": 19,
   "metadata": {},
   "outputs": [
    {
     "data": {
      "text/plain": [
       "0    472\n",
       "1      2\n",
       "Name: timestamp_date, dtype: int64"
      ]
     },
     "execution_count": 19,
     "metadata": {},
     "output_type": "execute_result"
    }
   ],
   "source": [
    "# Verify that the apply function worked correctly and the values are numbers\n",
    "df['timestamp_date'].head(2)"
   ]
  },
  {
   "cell_type": "markdown",
   "metadata": {},
   "source": [
    "#### Let's try to take a look at a histogram of the different dates using seaborn"
   ]
  },
  {
   "cell_type": "code",
   "execution_count": 20,
   "metadata": {},
   "outputs": [
    {
     "data": {
      "text/plain": [
       "<matplotlib.axes._subplots.AxesSubplot at 0x109bc6c18>"
      ]
     },
     "execution_count": 20,
     "metadata": {},
     "output_type": "execute_result"
    },
    {
     "data": {
      "image/png": "[encoded data removed]",
      "text/plain": [
       "<matplotlib.figure.Figure at 0x109bc6b00>"
      ]
     },
     "metadata": {},
     "output_type": "display_data"
    }
   ],
   "source": [
    "sns.distplot(df['timestamp_date'], kde=False)"
   ]
  },
  {
   "cell_type": "markdown",
   "metadata": {},
   "source": [
    "It looks like the time stamp varies wildly in some small cases.  Basically the conclusion is that it really is not very useful since we just need date anyway.  We can go ahead and drop that column, as well as the check columns"
   ]
  },
  {
   "cell_type": "code",
   "execution_count": 21,
   "metadata": {},
   "outputs": [],
   "source": [
    "df = df.drop(columns=['timestamp', 'timestamp_date'])"
   ]
  },
  {
   "cell_type": "markdown",
   "metadata": {},
   "source": [
    "Let's look at the columns more"
   ]
  },
  {
   "cell_type": "code",
   "execution_count": 22,
   "metadata": {},
   "outputs": [
    {
     "data": {
      "text/plain": [
       "['currentrnd',\n",
       " 'eventid',\n",
       " 'fightid',\n",
       " 'maxrnds',\n",
       " 'f1_body_significant_strikes_attempts',\n",
       " 'f2_significant_strikes_attempts',\n",
       " 'f2_significant_strikes_landed',\n",
       " 'f2_total_strikes_attempts',\n",
       " 'f2_total_strikes_landed',\n",
       " 'date']"
      ]
     },
     "execution_count": 22,
     "metadata": {},
     "output_type": "execute_result"
    }
   ],
   "source": [
    "list(df.columns)[:5]+list(df.columns)[-5:]"
   ]
  },
  {
   "cell_type": "markdown",
   "metadata": {},
   "source": [
    "It looks like there are ``f1`` columns and ``f2`` columns as well as generic columns"
   ]
  },
  {
   "cell_type": "code",
   "execution_count": 23,
   "metadata": {},
   "outputs": [
    {
     "data": {
      "text/plain": [
       "['f1_body_significant_strikes_attempts',\n",
       " 'f1_body_total_strikes_attempts',\n",
       " 'f1_clinch_body_strikes_attempts',\n",
       " 'f1_clinch_head_strikes_attempts',\n",
       " 'f1_clinch_leg_strikes_attempts',\n",
       " 'f1_clinch_significant_strikes_attempts',\n",
       " 'f1_clinch_total_strikes_attempts',\n",
       " 'f1_distance_body_strikes_attempts',\n",
       " 'f1_distance_head_strikes_attempts',\n",
       " 'f1_distance_leg_strikes_attempts',\n",
       " 'f1_distance_strikes_attempts',\n",
       " 'f1_grappling_submissions_attempts',\n",
       " 'f1_grappling_takedowns_attempts',\n",
       " 'f1_ground_body_strikes_attempts',\n",
       " 'f1_ground_head_strikes_attempts',\n",
       " 'f1_ground_leg_strikes_attempts',\n",
       " 'f1_ground_significant_strikes_attempts',\n",
       " 'f1_ground_total_strikes_attempts',\n",
       " 'f1_head_significant_strikes_attempts',\n",
       " 'f1_head_total_strikes_attempts',\n",
       " 'f1_legs_significant_strikes_attempts',\n",
       " 'f1_legs_total_strikes_attempts',\n",
       " 'f1_significant_strikes_attempts',\n",
       " 'f1_total_strikes_attempts']"
      ]
     },
     "execution_count": 23,
     "metadata": {},
     "output_type": "execute_result"
    }
   ],
   "source": [
    "# Use list comprehension to grab all f1 columns - attempts\n",
    "f1_columns = [col for col in df.columns if 'f1' in col and 'attempts' in col]\n",
    "f1_columns"
   ]
  },
  {
   "cell_type": "markdown",
   "metadata": {},
   "source": [
    "#### Understanding and categorizing the types of metrics that we have in the data"
   ]
  },
  {
   "cell_type": "markdown",
   "metadata": {},
   "source": [
    "### Metrics are broken down by:\n",
    "Part of the body being attacked  Key words:  ``head, body, legs``<br>\n",
    "Position when throwing strike.  Key words: ``distance, clinch, ground`` <br>\n",
    "If the strike was signficant or total.  Key words: ``significant, total`` <br>\n",
    "How many landed vs. attempted:  Key words ``_attempted, _landed`` <br>\n",
    "The metrics are can all be combined  Example:  ``head_total_strikes_landed``, ``distance_head_strikes_attempted``<br>\n",
    "There are some fighter identifier columns:  ``f1_figherid, f1_name``<br>\n",
    "There are a few grappling related columns.  Some of these don't have both landed and attempted\n",
    "\n"
   ]
  },
  {
   "cell_type": "markdown",
   "metadata": {},
   "source": [
    "#### Column Selector...?"
   ]
  },
  {
   "cell_type": "code",
   "execution_count": null,
   "metadata": {},
   "outputs": [],
   "source": [
    "prefix = ['f1_','f2_']\n",
    "target = ['head','body','legs']\n",
    "position = ['distance','clinch','ground']\n",
    "postfix = ['_attempted','_landed']"
   ]
  },
  {
   "cell_type": "code",
   "execution_count": null,
   "metadata": {},
   "outputs": [],
   "source": []
  },
  {
   "cell_type": "code",
   "execution_count": null,
   "metadata": {},
   "outputs": [],
   "source": []
  },
  {
   "cell_type": "markdown",
   "metadata": {},
   "source": [
    "#### Look at all the \"total\" columns"
   ]
  },
  {
   "cell_type": "code",
   "execution_count": 24,
   "metadata": {},
   "outputs": [
    {
     "data": {
      "text/plain": [
       "['f1_body_total_strikes_attempts',\n",
       " 'f1_clinch_total_strikes_attempts',\n",
       " 'f1_ground_total_strikes_attempts',\n",
       " 'f1_head_total_strikes_attempts',\n",
       " 'f1_legs_total_strikes_attempts',\n",
       " 'f1_total_strikes_attempts']"
      ]
     },
     "execution_count": 24,
     "metadata": {},
     "output_type": "execute_result"
    }
   ],
   "source": [
    "f1_total = [col for col in f1_columns if 'total' in col]\n",
    "f1_total"
   ]
  },
  {
   "cell_type": "code",
   "execution_count": 25,
   "metadata": {},
   "outputs": [
    {
     "data": {
      "text/html": [
       "<div>\n",
       "<style scoped>\n",
       "    .dataframe tbody tr th:only-of-type {\n",
       "        vertical-align: middle;\n",
       "    }\n",
       "\n",
       "    .dataframe tbody tr th {\n",
       "        vertical-align: top;\n",
       "    }\n",
       "\n",
       "    .dataframe thead th {\n",
       "        text-align: right;\n",
       "    }\n",
       "</style>\n",
       "<table border=\"1\" class=\"dataframe\">\n",
       "  <thead>\n",
       "    <tr style=\"text-align: right;\">\n",
       "      <th></th>\n",
       "      <th>f1_body_total_strikes_attempts</th>\n",
       "      <th>f1_clinch_total_strikes_attempts</th>\n",
       "      <th>f1_ground_total_strikes_attempts</th>\n",
       "      <th>f1_head_total_strikes_attempts</th>\n",
       "      <th>f1_legs_total_strikes_attempts</th>\n",
       "      <th>f1_total_strikes_attempts</th>\n",
       "    </tr>\n",
       "  </thead>\n",
       "  <tbody>\n",
       "    <tr>\n",
       "      <th>0</th>\n",
       "      <td>1.0</td>\n",
       "      <td>0.0</td>\n",
       "      <td>0.0</td>\n",
       "      <td>17.0</td>\n",
       "      <td>5.0</td>\n",
       "      <td>23.0</td>\n",
       "    </tr>\n",
       "    <tr>\n",
       "      <th>1</th>\n",
       "      <td>56.0</td>\n",
       "      <td>33.0</td>\n",
       "      <td>76.0</td>\n",
       "      <td>144.0</td>\n",
       "      <td>33.0</td>\n",
       "      <td>233.0</td>\n",
       "    </tr>\n",
       "  </tbody>\n",
       "</table>\n",
       "</div>"
      ],
      "text/plain": [
       "   f1_body_total_strikes_attempts  f1_clinch_total_strikes_attempts  \\\n",
       "0                             1.0                               0.0   \n",
       "1                            56.0                              33.0   \n",
       "\n",
       "   f1_ground_total_strikes_attempts  f1_head_total_strikes_attempts  \\\n",
       "0                               0.0                            17.0   \n",
       "1                              76.0                           144.0   \n",
       "\n",
       "   f1_legs_total_strikes_attempts  f1_total_strikes_attempts  \n",
       "0                             5.0                       23.0  \n",
       "1                            33.0                      233.0  "
      ]
     },
     "execution_count": 25,
     "metadata": {},
     "output_type": "execute_result"
    }
   ],
   "source": [
    "df[f1_total].head(2)"
   ]
  },
  {
   "cell_type": "markdown",
   "metadata": {},
   "source": [
    "Total strikes are aggregated into body part: ``head``, ``body``, ``legs``, and position: ``ground``, ``clinch``.  Its strange that there is no ``distance`` category.  If its important, we can calculate it by taking total and subtracting the quantity from ``ground`` and ``clinch``."
   ]
  },
  {
   "cell_type": "markdown",
   "metadata": {},
   "source": [
    "#### Look at all the \"signficant\" columns"
   ]
  },
  {
   "cell_type": "code",
   "execution_count": 26,
   "metadata": {},
   "outputs": [
    {
     "data": {
      "text/plain": [
       "['f1_body_significant_strikes_attempts',\n",
       " 'f1_clinch_significant_strikes_attempts',\n",
       " 'f1_ground_significant_strikes_attempts',\n",
       " 'f1_head_significant_strikes_attempts',\n",
       " 'f1_legs_significant_strikes_attempts',\n",
       " 'f1_significant_strikes_attempts']"
      ]
     },
     "execution_count": 26,
     "metadata": {},
     "output_type": "execute_result"
    }
   ],
   "source": [
    "f1_significant = [col for col in f1_columns if 'significant' in col]\n",
    "f1_significant"
   ]
  },
  {
   "cell_type": "markdown",
   "metadata": {},
   "source": [
    "``signficant`` columns match ``total`` columns"
   ]
  },
  {
   "cell_type": "code",
   "execution_count": 27,
   "metadata": {},
   "outputs": [
    {
     "data": {
      "text/html": [
       "<div>\n",
       "<style scoped>\n",
       "    .dataframe tbody tr th:only-of-type {\n",
       "        vertical-align: middle;\n",
       "    }\n",
       "\n",
       "    .dataframe tbody tr th {\n",
       "        vertical-align: top;\n",
       "    }\n",
       "\n",
       "    .dataframe thead th {\n",
       "        text-align: right;\n",
       "    }\n",
       "</style>\n",
       "<table border=\"1\" class=\"dataframe\">\n",
       "  <thead>\n",
       "    <tr style=\"text-align: right;\">\n",
       "      <th></th>\n",
       "      <th>f1_body_significant_strikes_attempts</th>\n",
       "      <th>f1_clinch_significant_strikes_attempts</th>\n",
       "      <th>f1_ground_significant_strikes_attempts</th>\n",
       "      <th>f1_head_significant_strikes_attempts</th>\n",
       "      <th>f1_legs_significant_strikes_attempts</th>\n",
       "      <th>f1_significant_strikes_attempts</th>\n",
       "    </tr>\n",
       "  </thead>\n",
       "  <tbody>\n",
       "    <tr>\n",
       "      <th>0</th>\n",
       "      <td>1.0</td>\n",
       "      <td>0.0</td>\n",
       "      <td>0.0</td>\n",
       "      <td>17.0</td>\n",
       "      <td>5.0</td>\n",
       "      <td>23.0</td>\n",
       "    </tr>\n",
       "    <tr>\n",
       "      <th>1</th>\n",
       "      <td>37.0</td>\n",
       "      <td>17.0</td>\n",
       "      <td>30.0</td>\n",
       "      <td>113.0</td>\n",
       "      <td>21.0</td>\n",
       "      <td>171.0</td>\n",
       "    </tr>\n",
       "  </tbody>\n",
       "</table>\n",
       "</div>"
      ],
      "text/plain": [
       "   f1_body_significant_strikes_attempts  \\\n",
       "0                                   1.0   \n",
       "1                                  37.0   \n",
       "\n",
       "   f1_clinch_significant_strikes_attempts  \\\n",
       "0                                     0.0   \n",
       "1                                    17.0   \n",
       "\n",
       "   f1_ground_significant_strikes_attempts  \\\n",
       "0                                     0.0   \n",
       "1                                    30.0   \n",
       "\n",
       "   f1_head_significant_strikes_attempts  f1_legs_significant_strikes_attempts  \\\n",
       "0                                  17.0                                   5.0   \n",
       "1                                 113.0                                  21.0   \n",
       "\n",
       "   f1_significant_strikes_attempts  \n",
       "0                             23.0  \n",
       "1                            171.0  "
      ]
     },
     "execution_count": 27,
     "metadata": {},
     "output_type": "execute_result"
    }
   ],
   "source": [
    "df[f1_significant].head(2)"
   ]
  },
  {
   "cell_type": "code",
   "execution_count": 28,
   "metadata": {},
   "outputs": [
    {
     "data": {
      "text/plain": [
       "171"
      ]
     },
     "execution_count": 28,
     "metadata": {},
     "output_type": "execute_result"
    }
   ],
   "source": [
    "37 + 113 + 21"
   ]
  },
  {
   "cell_type": "markdown",
   "metadata": {},
   "source": [
    "#### Look at \"target\" columns"
   ]
  },
  {
   "cell_type": "code",
   "execution_count": 29,
   "metadata": {},
   "outputs": [
    {
     "data": {
      "text/plain": [
       "['f1_clinch_head_strikes_attempts',\n",
       " 'f1_distance_head_strikes_attempts',\n",
       " 'f1_ground_head_strikes_attempts',\n",
       " 'f1_head_significant_strikes_attempts',\n",
       " 'f1_head_total_strikes_attempts']"
      ]
     },
     "execution_count": 29,
     "metadata": {},
     "output_type": "execute_result"
    }
   ],
   "source": [
    "f1_head = [col for col in f1_columns if 'head' in col]\n",
    "f1_head"
   ]
  },
  {
   "cell_type": "code",
   "execution_count": 30,
   "metadata": {},
   "outputs": [
    {
     "data": {
      "text/html": [
       "<div>\n",
       "<style scoped>\n",
       "    .dataframe tbody tr th:only-of-type {\n",
       "        vertical-align: middle;\n",
       "    }\n",
       "\n",
       "    .dataframe tbody tr th {\n",
       "        vertical-align: top;\n",
       "    }\n",
       "\n",
       "    .dataframe thead th {\n",
       "        text-align: right;\n",
       "    }\n",
       "</style>\n",
       "<table border=\"1\" class=\"dataframe\">\n",
       "  <thead>\n",
       "    <tr style=\"text-align: right;\">\n",
       "      <th></th>\n",
       "      <th>f1_clinch_head_strikes_attempts</th>\n",
       "      <th>f1_distance_head_strikes_attempts</th>\n",
       "      <th>f1_ground_head_strikes_attempts</th>\n",
       "      <th>f1_head_significant_strikes_attempts</th>\n",
       "      <th>f1_head_total_strikes_attempts</th>\n",
       "    </tr>\n",
       "  </thead>\n",
       "  <tbody>\n",
       "    <tr>\n",
       "      <th>0</th>\n",
       "      <td>0.0</td>\n",
       "      <td>17.0</td>\n",
       "      <td>0.0</td>\n",
       "      <td>17.0</td>\n",
       "      <td>17.0</td>\n",
       "    </tr>\n",
       "    <tr>\n",
       "      <th>1</th>\n",
       "      <td>9.0</td>\n",
       "      <td>78.0</td>\n",
       "      <td>26.0</td>\n",
       "      <td>113.0</td>\n",
       "      <td>144.0</td>\n",
       "    </tr>\n",
       "  </tbody>\n",
       "</table>\n",
       "</div>"
      ],
      "text/plain": [
       "   f1_clinch_head_strikes_attempts  f1_distance_head_strikes_attempts  \\\n",
       "0                              0.0                               17.0   \n",
       "1                              9.0                               78.0   \n",
       "\n",
       "   f1_ground_head_strikes_attempts  f1_head_significant_strikes_attempts  \\\n",
       "0                              0.0                                  17.0   \n",
       "1                             26.0                                 113.0   \n",
       "\n",
       "   f1_head_total_strikes_attempts  \n",
       "0                            17.0  \n",
       "1                           144.0  "
      ]
     },
     "execution_count": 30,
     "metadata": {},
     "output_type": "execute_result"
    }
   ],
   "source": [
    "df[f1_head].head(2)"
   ]
  },
  {
   "cell_type": "code",
   "execution_count": 31,
   "metadata": {},
   "outputs": [
    {
     "data": {
      "text/plain": [
       "113"
      ]
     },
     "execution_count": 31,
     "metadata": {},
     "output_type": "execute_result"
    }
   ],
   "source": [
    "(9+78+26)"
   ]
  },
  {
   "cell_type": "code",
   "execution_count": 32,
   "metadata": {},
   "outputs": [
    {
     "data": {
      "text/plain": [
       "['f1_body_significant_strikes_attempts',\n",
       " 'f1_body_total_strikes_attempts',\n",
       " 'f1_clinch_body_strikes_attempts',\n",
       " 'f1_distance_body_strikes_attempts',\n",
       " 'f1_ground_body_strikes_attempts']"
      ]
     },
     "execution_count": 32,
     "metadata": {},
     "output_type": "execute_result"
    }
   ],
   "source": [
    "f1_body = [col for col in f1_columns if 'body' in col]\n",
    "f1_body"
   ]
  },
  {
   "cell_type": "code",
   "execution_count": 33,
   "metadata": {},
   "outputs": [
    {
     "data": {
      "text/html": [
       "<div>\n",
       "<style scoped>\n",
       "    .dataframe tbody tr th:only-of-type {\n",
       "        vertical-align: middle;\n",
       "    }\n",
       "\n",
       "    .dataframe tbody tr th {\n",
       "        vertical-align: top;\n",
       "    }\n",
       "\n",
       "    .dataframe thead th {\n",
       "        text-align: right;\n",
       "    }\n",
       "</style>\n",
       "<table border=\"1\" class=\"dataframe\">\n",
       "  <thead>\n",
       "    <tr style=\"text-align: right;\">\n",
       "      <th></th>\n",
       "      <th>f1_body_significant_strikes_attempts</th>\n",
       "      <th>f1_body_total_strikes_attempts</th>\n",
       "      <th>f1_clinch_body_strikes_attempts</th>\n",
       "      <th>f1_distance_body_strikes_attempts</th>\n",
       "      <th>f1_ground_body_strikes_attempts</th>\n",
       "    </tr>\n",
       "  </thead>\n",
       "  <tbody>\n",
       "    <tr>\n",
       "      <th>0</th>\n",
       "      <td>1.0</td>\n",
       "      <td>1.0</td>\n",
       "      <td>0.0</td>\n",
       "      <td>1.0</td>\n",
       "      <td>0.0</td>\n",
       "    </tr>\n",
       "    <tr>\n",
       "      <th>1</th>\n",
       "      <td>37.0</td>\n",
       "      <td>56.0</td>\n",
       "      <td>5.0</td>\n",
       "      <td>29.0</td>\n",
       "      <td>3.0</td>\n",
       "    </tr>\n",
       "  </tbody>\n",
       "</table>\n",
       "</div>"
      ],
      "text/plain": [
       "   f1_body_significant_strikes_attempts  f1_body_total_strikes_attempts  \\\n",
       "0                                   1.0                             1.0   \n",
       "1                                  37.0                            56.0   \n",
       "\n",
       "   f1_clinch_body_strikes_attempts  f1_distance_body_strikes_attempts  \\\n",
       "0                              0.0                                1.0   \n",
       "1                              5.0                               29.0   \n",
       "\n",
       "   f1_ground_body_strikes_attempts  \n",
       "0                              0.0  \n",
       "1                              3.0  "
      ]
     },
     "execution_count": 33,
     "metadata": {},
     "output_type": "execute_result"
    }
   ],
   "source": [
    "df[f1_body].head(2)"
   ]
  },
  {
   "cell_type": "code",
   "execution_count": 34,
   "metadata": {},
   "outputs": [
    {
     "data": {
      "text/plain": [
       "37"
      ]
     },
     "execution_count": 34,
     "metadata": {},
     "output_type": "execute_result"
    }
   ],
   "source": [
    "29+5+3"
   ]
  },
  {
   "cell_type": "code",
   "execution_count": 35,
   "metadata": {},
   "outputs": [
    {
     "data": {
      "text/plain": [
       "['f1_clinch_leg_strikes_attempts',\n",
       " 'f1_distance_leg_strikes_attempts',\n",
       " 'f1_ground_leg_strikes_attempts',\n",
       " 'f1_legs_significant_strikes_attempts',\n",
       " 'f1_legs_total_strikes_attempts']"
      ]
     },
     "execution_count": 35,
     "metadata": {},
     "output_type": "execute_result"
    }
   ],
   "source": [
    "f1_legs = [col for col in f1_columns if 'legs' in col or 'leg' in col]\n",
    "f1_legs"
   ]
  },
  {
   "cell_type": "code",
   "execution_count": 36,
   "metadata": {},
   "outputs": [
    {
     "data": {
      "text/html": [
       "<div>\n",
       "<style scoped>\n",
       "    .dataframe tbody tr th:only-of-type {\n",
       "        vertical-align: middle;\n",
       "    }\n",
       "\n",
       "    .dataframe tbody tr th {\n",
       "        vertical-align: top;\n",
       "    }\n",
       "\n",
       "    .dataframe thead th {\n",
       "        text-align: right;\n",
       "    }\n",
       "</style>\n",
       "<table border=\"1\" class=\"dataframe\">\n",
       "  <thead>\n",
       "    <tr style=\"text-align: right;\">\n",
       "      <th></th>\n",
       "      <th>f1_clinch_leg_strikes_attempts</th>\n",
       "      <th>f1_distance_leg_strikes_attempts</th>\n",
       "      <th>f1_ground_leg_strikes_attempts</th>\n",
       "      <th>f1_legs_significant_strikes_attempts</th>\n",
       "      <th>f1_legs_total_strikes_attempts</th>\n",
       "    </tr>\n",
       "  </thead>\n",
       "  <tbody>\n",
       "    <tr>\n",
       "      <th>0</th>\n",
       "      <td>0.0</td>\n",
       "      <td>5.0</td>\n",
       "      <td>0.0</td>\n",
       "      <td>5.0</td>\n",
       "      <td>5.0</td>\n",
       "    </tr>\n",
       "    <tr>\n",
       "      <th>1</th>\n",
       "      <td>3.0</td>\n",
       "      <td>17.0</td>\n",
       "      <td>1.0</td>\n",
       "      <td>21.0</td>\n",
       "      <td>33.0</td>\n",
       "    </tr>\n",
       "  </tbody>\n",
       "</table>\n",
       "</div>"
      ],
      "text/plain": [
       "   f1_clinch_leg_strikes_attempts  f1_distance_leg_strikes_attempts  \\\n",
       "0                             0.0                               5.0   \n",
       "1                             3.0                              17.0   \n",
       "\n",
       "   f1_ground_leg_strikes_attempts  f1_legs_significant_strikes_attempts  \\\n",
       "0                             0.0                                   5.0   \n",
       "1                             1.0                                  21.0   \n",
       "\n",
       "   f1_legs_total_strikes_attempts  \n",
       "0                             5.0  \n",
       "1                            33.0  "
      ]
     },
     "execution_count": 36,
     "metadata": {},
     "output_type": "execute_result"
    }
   ],
   "source": [
    "df[f1_legs].head(2)"
   ]
  },
  {
   "cell_type": "markdown",
   "metadata": {},
   "source": [
    "The target ``legs`` is sometimes spelled ``leg``"
   ]
  },
  {
   "cell_type": "markdown",
   "metadata": {},
   "source": [
    "#### Look at position striking metrics"
   ]
  },
  {
   "cell_type": "code",
   "execution_count": 37,
   "metadata": {},
   "outputs": [
    {
     "data": {
      "text/plain": [
       "['f1_distance_body_strikes_attempts',\n",
       " 'f1_distance_head_strikes_attempts',\n",
       " 'f1_distance_leg_strikes_attempts',\n",
       " 'f1_distance_strikes_attempts']"
      ]
     },
     "execution_count": 37,
     "metadata": {},
     "output_type": "execute_result"
    }
   ],
   "source": [
    "f1_distance = [col for col in f1_columns if 'distance' in col]\n",
    "f1_distance"
   ]
  },
  {
   "cell_type": "code",
   "execution_count": 38,
   "metadata": {},
   "outputs": [
    {
     "data": {
      "text/html": [
       "<div>\n",
       "<style scoped>\n",
       "    .dataframe tbody tr th:only-of-type {\n",
       "        vertical-align: middle;\n",
       "    }\n",
       "\n",
       "    .dataframe tbody tr th {\n",
       "        vertical-align: top;\n",
       "    }\n",
       "\n",
       "    .dataframe thead th {\n",
       "        text-align: right;\n",
       "    }\n",
       "</style>\n",
       "<table border=\"1\" class=\"dataframe\">\n",
       "  <thead>\n",
       "    <tr style=\"text-align: right;\">\n",
       "      <th></th>\n",
       "      <th>f1_distance_body_strikes_attempts</th>\n",
       "      <th>f1_distance_head_strikes_attempts</th>\n",
       "      <th>f1_distance_leg_strikes_attempts</th>\n",
       "      <th>f1_distance_strikes_attempts</th>\n",
       "    </tr>\n",
       "  </thead>\n",
       "  <tbody>\n",
       "    <tr>\n",
       "      <th>0</th>\n",
       "      <td>1.0</td>\n",
       "      <td>17.0</td>\n",
       "      <td>5.0</td>\n",
       "      <td>23.0</td>\n",
       "    </tr>\n",
       "    <tr>\n",
       "      <th>1</th>\n",
       "      <td>29.0</td>\n",
       "      <td>78.0</td>\n",
       "      <td>17.0</td>\n",
       "      <td>124.0</td>\n",
       "    </tr>\n",
       "  </tbody>\n",
       "</table>\n",
       "</div>"
      ],
      "text/plain": [
       "   f1_distance_body_strikes_attempts  f1_distance_head_strikes_attempts  \\\n",
       "0                                1.0                               17.0   \n",
       "1                               29.0                               78.0   \n",
       "\n",
       "   f1_distance_leg_strikes_attempts  f1_distance_strikes_attempts  \n",
       "0                               5.0                          23.0  \n",
       "1                              17.0                         124.0  "
      ]
     },
     "execution_count": 38,
     "metadata": {},
     "output_type": "execute_result"
    }
   ],
   "source": [
    "df[f1_distance].head(2)"
   ]
  },
  {
   "cell_type": "code",
   "execution_count": 39,
   "metadata": {},
   "outputs": [
    {
     "data": {
      "text/plain": [
       "124"
      ]
     },
     "execution_count": 39,
     "metadata": {},
     "output_type": "execute_result"
    }
   ],
   "source": [
    "29+78+17"
   ]
  },
  {
   "cell_type": "code",
   "execution_count": 40,
   "metadata": {},
   "outputs": [
    {
     "data": {
      "text/plain": [
       "['f1_clinch_body_strikes_attempts',\n",
       " 'f1_clinch_head_strikes_attempts',\n",
       " 'f1_clinch_leg_strikes_attempts',\n",
       " 'f1_clinch_significant_strikes_attempts',\n",
       " 'f1_clinch_total_strikes_attempts']"
      ]
     },
     "execution_count": 40,
     "metadata": {},
     "output_type": "execute_result"
    }
   ],
   "source": [
    "f1_clinch = [col for col in f1_columns if 'clinch' in col]\n",
    "f1_clinch"
   ]
  },
  {
   "cell_type": "code",
   "execution_count": 41,
   "metadata": {},
   "outputs": [
    {
     "data": {
      "text/html": [
       "<div>\n",
       "<style scoped>\n",
       "    .dataframe tbody tr th:only-of-type {\n",
       "        vertical-align: middle;\n",
       "    }\n",
       "\n",
       "    .dataframe tbody tr th {\n",
       "        vertical-align: top;\n",
       "    }\n",
       "\n",
       "    .dataframe thead th {\n",
       "        text-align: right;\n",
       "    }\n",
       "</style>\n",
       "<table border=\"1\" class=\"dataframe\">\n",
       "  <thead>\n",
       "    <tr style=\"text-align: right;\">\n",
       "      <th></th>\n",
       "      <th>f1_clinch_body_strikes_attempts</th>\n",
       "      <th>f1_clinch_head_strikes_attempts</th>\n",
       "      <th>f1_clinch_leg_strikes_attempts</th>\n",
       "      <th>f1_clinch_significant_strikes_attempts</th>\n",
       "      <th>f1_clinch_total_strikes_attempts</th>\n",
       "    </tr>\n",
       "  </thead>\n",
       "  <tbody>\n",
       "    <tr>\n",
       "      <th>0</th>\n",
       "      <td>0.0</td>\n",
       "      <td>0.0</td>\n",
       "      <td>0.0</td>\n",
       "      <td>0.0</td>\n",
       "      <td>0.0</td>\n",
       "    </tr>\n",
       "    <tr>\n",
       "      <th>1</th>\n",
       "      <td>5.0</td>\n",
       "      <td>9.0</td>\n",
       "      <td>3.0</td>\n",
       "      <td>17.0</td>\n",
       "      <td>33.0</td>\n",
       "    </tr>\n",
       "  </tbody>\n",
       "</table>\n",
       "</div>"
      ],
      "text/plain": [
       "   f1_clinch_body_strikes_attempts  f1_clinch_head_strikes_attempts  \\\n",
       "0                              0.0                              0.0   \n",
       "1                              5.0                              9.0   \n",
       "\n",
       "   f1_clinch_leg_strikes_attempts  f1_clinch_significant_strikes_attempts  \\\n",
       "0                             0.0                                     0.0   \n",
       "1                             3.0                                    17.0   \n",
       "\n",
       "   f1_clinch_total_strikes_attempts  \n",
       "0                               0.0  \n",
       "1                              33.0  "
      ]
     },
     "execution_count": 41,
     "metadata": {},
     "output_type": "execute_result"
    }
   ],
   "source": [
    "df[f1_clinch].head(2)"
   ]
  },
  {
   "cell_type": "code",
   "execution_count": 42,
   "metadata": {},
   "outputs": [
    {
     "data": {
      "text/plain": [
       "['f1_ground_body_strikes_attempts',\n",
       " 'f1_ground_head_strikes_attempts',\n",
       " 'f1_ground_leg_strikes_attempts',\n",
       " 'f1_ground_significant_strikes_attempts',\n",
       " 'f1_ground_total_strikes_attempts']"
      ]
     },
     "execution_count": 42,
     "metadata": {},
     "output_type": "execute_result"
    }
   ],
   "source": [
    "f1_ground = [col for col in f1_columns if 'ground' in col]\n",
    "f1_ground"
   ]
  },
  {
   "cell_type": "code",
   "execution_count": 43,
   "metadata": {},
   "outputs": [
    {
     "data": {
      "text/html": [
       "<div>\n",
       "<style scoped>\n",
       "    .dataframe tbody tr th:only-of-type {\n",
       "        vertical-align: middle;\n",
       "    }\n",
       "\n",
       "    .dataframe tbody tr th {\n",
       "        vertical-align: top;\n",
       "    }\n",
       "\n",
       "    .dataframe thead th {\n",
       "        text-align: right;\n",
       "    }\n",
       "</style>\n",
       "<table border=\"1\" class=\"dataframe\">\n",
       "  <thead>\n",
       "    <tr style=\"text-align: right;\">\n",
       "      <th></th>\n",
       "      <th>f1_ground_body_strikes_attempts</th>\n",
       "      <th>f1_ground_head_strikes_attempts</th>\n",
       "      <th>f1_ground_leg_strikes_attempts</th>\n",
       "      <th>f1_ground_significant_strikes_attempts</th>\n",
       "      <th>f1_ground_total_strikes_attempts</th>\n",
       "    </tr>\n",
       "  </thead>\n",
       "  <tbody>\n",
       "    <tr>\n",
       "      <th>0</th>\n",
       "      <td>0.0</td>\n",
       "      <td>0.0</td>\n",
       "      <td>0.0</td>\n",
       "      <td>0.0</td>\n",
       "      <td>0.0</td>\n",
       "    </tr>\n",
       "    <tr>\n",
       "      <th>1</th>\n",
       "      <td>3.0</td>\n",
       "      <td>26.0</td>\n",
       "      <td>1.0</td>\n",
       "      <td>30.0</td>\n",
       "      <td>76.0</td>\n",
       "    </tr>\n",
       "  </tbody>\n",
       "</table>\n",
       "</div>"
      ],
      "text/plain": [
       "   f1_ground_body_strikes_attempts  f1_ground_head_strikes_attempts  \\\n",
       "0                              0.0                              0.0   \n",
       "1                              3.0                             26.0   \n",
       "\n",
       "   f1_ground_leg_strikes_attempts  f1_ground_significant_strikes_attempts  \\\n",
       "0                             0.0                                     0.0   \n",
       "1                             1.0                                    30.0   \n",
       "\n",
       "   f1_ground_total_strikes_attempts  \n",
       "0                               0.0  \n",
       "1                              76.0  "
      ]
     },
     "execution_count": 43,
     "metadata": {},
     "output_type": "execute_result"
    }
   ],
   "source": [
    "df[f1_ground].head(2)"
   ]
  },
  {
   "cell_type": "code",
   "execution_count": 44,
   "metadata": {},
   "outputs": [
    {
     "data": {
      "text/plain": [
       "30"
      ]
     },
     "execution_count": 44,
     "metadata": {},
     "output_type": "execute_result"
    }
   ],
   "source": [
    "3+26+1"
   ]
  },
  {
   "cell_type": "markdown",
   "metadata": {},
   "source": [
    "So now that we've looked through all of the types of columns, what can we say?  Let's write up a quick summary so we can keep going.  At the highest level, we have ``total strike attempts`` and ``significant strike attempts``.  ``total strikes`` can be broken up by **target** ``head``, ``body``, ``legs``, and by **position** ``distance``, ``clinch``, and ``ground``.  (Although the ``distance`` column needs to be imputed) <br>\n",
    "\n",
    "``significant strike attempts`` seem to follow the same pattern.  It can be broken up by **target** or **position**, however the ``distance`` metric isn't included"
   ]
  },
  {
   "attachments": {
    "image.png": {
     "image/png": "[encoded data removed]"
    }
   },
   "cell_type": "markdown",
   "metadata": {},
   "source": [
    "![image.png](attachment:image.png)"
   ]
  },
  {
   "cell_type": "markdown",
   "metadata": {},
   "source": [
    "We should be able to categorize fighters based on the ratios of these numbers right?  Can I create a dataframe holding these numbers and then do stuff to it?"
   ]
  },
  {
   "cell_type": "code",
   "execution_count": 45,
   "metadata": {},
   "outputs": [
    {
     "data": {
      "text/html": [
       "<div>\n",
       "<style scoped>\n",
       "    .dataframe tbody tr th:only-of-type {\n",
       "        vertical-align: middle;\n",
       "    }\n",
       "\n",
       "    .dataframe tbody tr th {\n",
       "        vertical-align: top;\n",
       "    }\n",
       "\n",
       "    .dataframe thead th {\n",
       "        text-align: right;\n",
       "    }\n",
       "</style>\n",
       "<table border=\"1\" class=\"dataframe\">\n",
       "  <thead>\n",
       "    <tr style=\"text-align: right;\">\n",
       "      <th></th>\n",
       "      <th>distance</th>\n",
       "      <th>clinch</th>\n",
       "      <th>ground</th>\n",
       "    </tr>\n",
       "  </thead>\n",
       "  <tbody>\n",
       "    <tr>\n",
       "      <th>head</th>\n",
       "      <td>78</td>\n",
       "      <td>9</td>\n",
       "      <td>26</td>\n",
       "    </tr>\n",
       "    <tr>\n",
       "      <th>body</th>\n",
       "      <td>29</td>\n",
       "      <td>5</td>\n",
       "      <td>3</td>\n",
       "    </tr>\n",
       "    <tr>\n",
       "      <th>leg</th>\n",
       "      <td>17</td>\n",
       "      <td>3</td>\n",
       "      <td>1</td>\n",
       "    </tr>\n",
       "  </tbody>\n",
       "</table>\n",
       "</div>"
      ],
      "text/plain": [
       "      distance  clinch  ground\n",
       "head        78       9      26\n",
       "body        29       5       3\n",
       "leg         17       3       1"
      ]
     },
     "execution_count": 45,
     "metadata": {},
     "output_type": "execute_result"
    }
   ],
   "source": [
    "distance_head = 78\n",
    "distance_body = 29\n",
    "distance_leg  = 17\n",
    "clinch_head   = 9\n",
    "clinch_body   = 5\n",
    "clinch_leg    = 3\n",
    "ground_head   = 26\n",
    "ground_body   = 3\n",
    "ground_leg    = 1\n",
    "\n",
    "Striking_Matrix = pd.DataFrame(\n",
    "    {'distance':[distance_head,distance_body,distance_leg],\n",
    "     'clinch': [clinch_head,clinch_body,clinch_leg],\n",
    "     'ground': [ground_head,ground_body,ground_leg]},\n",
    "    index=['head','body','leg']\n",
    ")\n",
    "Striking_Matrix = Striking_Matrix[['distance','clinch','ground']]\n",
    "\n",
    "Striking_Matrix"
   ]
  },
  {
   "cell_type": "code",
   "execution_count": 46,
   "metadata": {},
   "outputs": [
    {
     "data": {
      "text/plain": [
       "distance    124\n",
       "clinch       17\n",
       "ground       30\n",
       "dtype: int64"
      ]
     },
     "execution_count": 46,
     "metadata": {},
     "output_type": "execute_result"
    }
   ],
   "source": [
    "Striking_Matrix.sum()"
   ]
  },
  {
   "cell_type": "code",
   "execution_count": 47,
   "metadata": {},
   "outputs": [
    {
     "data": {
      "text/plain": [
       "head    113\n",
       "body     37\n",
       "leg      21\n",
       "dtype: int64"
      ]
     },
     "execution_count": 47,
     "metadata": {},
     "output_type": "execute_result"
    }
   ],
   "source": [
    "Striking_Matrix.sum(axis=1)"
   ]
  },
  {
   "cell_type": "code",
   "execution_count": 48,
   "metadata": {},
   "outputs": [
    {
     "data": {
      "text/plain": [
       "171"
      ]
     },
     "execution_count": 48,
     "metadata": {},
     "output_type": "execute_result"
    }
   ],
   "source": [
    "Striking_Matrix.sum().sum()"
   ]
  },
  {
   "cell_type": "code",
   "execution_count": 49,
   "metadata": {},
   "outputs": [
    {
     "data": {
      "text/html": [
       "<div>\n",
       "<style scoped>\n",
       "    .dataframe tbody tr th:only-of-type {\n",
       "        vertical-align: middle;\n",
       "    }\n",
       "\n",
       "    .dataframe tbody tr th {\n",
       "        vertical-align: top;\n",
       "    }\n",
       "\n",
       "    .dataframe thead th {\n",
       "        text-align: right;\n",
       "    }\n",
       "</style>\n",
       "<table border=\"1\" class=\"dataframe\">\n",
       "  <thead>\n",
       "    <tr style=\"text-align: right;\">\n",
       "      <th></th>\n",
       "      <th>distance</th>\n",
       "      <th>clinch</th>\n",
       "      <th>ground</th>\n",
       "    </tr>\n",
       "  </thead>\n",
       "  <tbody>\n",
       "    <tr>\n",
       "      <th>head</th>\n",
       "      <td>0.456140</td>\n",
       "      <td>0.052632</td>\n",
       "      <td>0.152047</td>\n",
       "    </tr>\n",
       "    <tr>\n",
       "      <th>body</th>\n",
       "      <td>0.169591</td>\n",
       "      <td>0.029240</td>\n",
       "      <td>0.017544</td>\n",
       "    </tr>\n",
       "    <tr>\n",
       "      <th>leg</th>\n",
       "      <td>0.099415</td>\n",
       "      <td>0.017544</td>\n",
       "      <td>0.005848</td>\n",
       "    </tr>\n",
       "  </tbody>\n",
       "</table>\n",
       "</div>"
      ],
      "text/plain": [
       "      distance    clinch    ground\n",
       "head  0.456140  0.052632  0.152047\n",
       "body  0.169591  0.029240  0.017544\n",
       "leg   0.099415  0.017544  0.005848"
      ]
     },
     "execution_count": 49,
     "metadata": {},
     "output_type": "execute_result"
    }
   ],
   "source": [
    "Striking_Matrix/Striking_Matrix.sum().sum()"
   ]
  },
  {
   "cell_type": "code",
   "execution_count": 50,
   "metadata": {},
   "outputs": [
    {
     "data": {
      "text/plain": [
       "<matplotlib.axes._subplots.AxesSubplot at 0x1a131037b8>"
      ]
     },
     "execution_count": 50,
     "metadata": {},
     "output_type": "execute_result"
    },
    {
     "data": {
      "image/png": "[encoded data removed]",
      "text/plain": [
       "<matplotlib.figure.Figure at 0x1a13495748>"
      ]
     },
     "metadata": {},
     "output_type": "display_data"
    }
   ],
   "source": [
    "sns.heatmap(Striking_Matrix/Striking_Matrix.sum().sum(), annot=True)"
   ]
  },
  {
   "cell_type": "markdown",
   "metadata": {},
   "source": [
    "This is interesting for 1 fighter.  I assume most fighters attack the head the most from distance and the ground.  I should be able to make some visualizations that show that as well right?\n",
    "\n",
    "How do I do that?  Add up these 9 metrics.  In reality, I just want these 9 metrics right?  Everything else I can get.  Well, I still need \"total\" strikes since these don't add up to that number - but i'm still not even sure what the real distinction is..."
   ]
  },
  {
   "cell_type": "markdown",
   "metadata": {},
   "source": [
    "#### Create a category for the 9 main striking stats"
   ]
  },
  {
   "cell_type": "code",
   "execution_count": 51,
   "metadata": {},
   "outputs": [
    {
     "data": {
      "text/html": [
       "<div>\n",
       "<style scoped>\n",
       "    .dataframe tbody tr th:only-of-type {\n",
       "        vertical-align: middle;\n",
       "    }\n",
       "\n",
       "    .dataframe tbody tr th {\n",
       "        vertical-align: top;\n",
       "    }\n",
       "\n",
       "    .dataframe thead th {\n",
       "        text-align: right;\n",
       "    }\n",
       "</style>\n",
       "<table border=\"1\" class=\"dataframe\">\n",
       "  <thead>\n",
       "    <tr style=\"text-align: right;\">\n",
       "      <th></th>\n",
       "      <th>f1_distance_head_strikes_attempts</th>\n",
       "      <th>f1_distance_body_strikes_attempts</th>\n",
       "      <th>f1_distance_leg_strikes_attempts</th>\n",
       "      <th>f1_clinch_head_strikes_attempts</th>\n",
       "      <th>f1_clinch_body_strikes_attempts</th>\n",
       "      <th>f1_clinch_leg_strikes_attempts</th>\n",
       "      <th>f1_ground_head_strikes_attempts</th>\n",
       "      <th>f1_ground_body_strikes_attempts</th>\n",
       "      <th>f1_ground_leg_strikes_attempts</th>\n",
       "    </tr>\n",
       "  </thead>\n",
       "  <tbody>\n",
       "    <tr>\n",
       "      <th>count</th>\n",
       "      <td>4774.000000</td>\n",
       "      <td>4774.000000</td>\n",
       "      <td>4774.000000</td>\n",
       "      <td>4774.000000</td>\n",
       "      <td>4774.000000</td>\n",
       "      <td>4774.000000</td>\n",
       "      <td>4774.000000</td>\n",
       "      <td>4774.000000</td>\n",
       "      <td>4774.000000</td>\n",
       "    </tr>\n",
       "    <tr>\n",
       "      <th>mean</th>\n",
       "      <td>54.766024</td>\n",
       "      <td>7.784248</td>\n",
       "      <td>6.543360</td>\n",
       "      <td>4.805195</td>\n",
       "      <td>2.664432</td>\n",
       "      <td>0.638877</td>\n",
       "      <td>6.498953</td>\n",
       "      <td>0.543360</td>\n",
       "      <td>0.152074</td>\n",
       "    </tr>\n",
       "    <tr>\n",
       "      <th>std</th>\n",
       "      <td>52.972584</td>\n",
       "      <td>9.161902</td>\n",
       "      <td>8.783669</td>\n",
       "      <td>7.132032</td>\n",
       "      <td>4.521300</td>\n",
       "      <td>2.074024</td>\n",
       "      <td>11.879109</td>\n",
       "      <td>1.990577</td>\n",
       "      <td>0.889164</td>\n",
       "    </tr>\n",
       "    <tr>\n",
       "      <th>min</th>\n",
       "      <td>0.000000</td>\n",
       "      <td>0.000000</td>\n",
       "      <td>0.000000</td>\n",
       "      <td>0.000000</td>\n",
       "      <td>0.000000</td>\n",
       "      <td>0.000000</td>\n",
       "      <td>0.000000</td>\n",
       "      <td>0.000000</td>\n",
       "      <td>0.000000</td>\n",
       "    </tr>\n",
       "    <tr>\n",
       "      <th>25%</th>\n",
       "      <td>15.000000</td>\n",
       "      <td>1.000000</td>\n",
       "      <td>1.000000</td>\n",
       "      <td>0.000000</td>\n",
       "      <td>0.000000</td>\n",
       "      <td>0.000000</td>\n",
       "      <td>0.000000</td>\n",
       "      <td>0.000000</td>\n",
       "      <td>0.000000</td>\n",
       "    </tr>\n",
       "    <tr>\n",
       "      <th>50%</th>\n",
       "      <td>39.000000</td>\n",
       "      <td>5.000000</td>\n",
       "      <td>3.000000</td>\n",
       "      <td>2.000000</td>\n",
       "      <td>1.000000</td>\n",
       "      <td>0.000000</td>\n",
       "      <td>2.000000</td>\n",
       "      <td>0.000000</td>\n",
       "      <td>0.000000</td>\n",
       "    </tr>\n",
       "    <tr>\n",
       "      <th>75%</th>\n",
       "      <td>79.000000</td>\n",
       "      <td>11.000000</td>\n",
       "      <td>9.000000</td>\n",
       "      <td>6.000000</td>\n",
       "      <td>3.000000</td>\n",
       "      <td>0.000000</td>\n",
       "      <td>8.000000</td>\n",
       "      <td>0.000000</td>\n",
       "      <td>0.000000</td>\n",
       "    </tr>\n",
       "    <tr>\n",
       "      <th>max</th>\n",
       "      <td>387.000000</td>\n",
       "      <td>100.000000</td>\n",
       "      <td>89.000000</td>\n",
       "      <td>81.000000</td>\n",
       "      <td>46.000000</td>\n",
       "      <td>31.000000</td>\n",
       "      <td>119.000000</td>\n",
       "      <td>50.000000</td>\n",
       "      <td>22.000000</td>\n",
       "    </tr>\n",
       "  </tbody>\n",
       "</table>\n",
       "</div>"
      ],
      "text/plain": [
       "       f1_distance_head_strikes_attempts  f1_distance_body_strikes_attempts  \\\n",
       "count                        4774.000000                        4774.000000   \n",
       "mean                           54.766024                           7.784248   \n",
       "std                            52.972584                           9.161902   \n",
       "min                             0.000000                           0.000000   \n",
       "25%                            15.000000                           1.000000   \n",
       "50%                            39.000000                           5.000000   \n",
       "75%                            79.000000                          11.000000   \n",
       "max                           387.000000                         100.000000   \n",
       "\n",
       "       f1_distance_leg_strikes_attempts  f1_clinch_head_strikes_attempts  \\\n",
       "count                       4774.000000                      4774.000000   \n",
       "mean                           6.543360                         4.805195   \n",
       "std                            8.783669                         7.132032   \n",
       "min                            0.000000                         0.000000   \n",
       "25%                            1.000000                         0.000000   \n",
       "50%                            3.000000                         2.000000   \n",
       "75%                            9.000000                         6.000000   \n",
       "max                           89.000000                        81.000000   \n",
       "\n",
       "       f1_clinch_body_strikes_attempts  f1_clinch_leg_strikes_attempts  \\\n",
       "count                      4774.000000                     4774.000000   \n",
       "mean                          2.664432                        0.638877   \n",
       "std                           4.521300                        2.074024   \n",
       "min                           0.000000                        0.000000   \n",
       "25%                           0.000000                        0.000000   \n",
       "50%                           1.000000                        0.000000   \n",
       "75%                           3.000000                        0.000000   \n",
       "max                          46.000000                       31.000000   \n",
       "\n",
       "       f1_ground_head_strikes_attempts  f1_ground_body_strikes_attempts  \\\n",
       "count                      4774.000000                      4774.000000   \n",
       "mean                          6.498953                         0.543360   \n",
       "std                          11.879109                         1.990577   \n",
       "min                           0.000000                         0.000000   \n",
       "25%                           0.000000                         0.000000   \n",
       "50%                           2.000000                         0.000000   \n",
       "75%                           8.000000                         0.000000   \n",
       "max                         119.000000                        50.000000   \n",
       "\n",
       "       f1_ground_leg_strikes_attempts  \n",
       "count                     4774.000000  \n",
       "mean                         0.152074  \n",
       "std                          0.889164  \n",
       "min                          0.000000  \n",
       "25%                          0.000000  \n",
       "50%                          0.000000  \n",
       "75%                          0.000000  \n",
       "max                         22.000000  "
      ]
     },
     "execution_count": 51,
     "metadata": {},
     "output_type": "execute_result"
    }
   ],
   "source": [
    "f1_9striking = [\\\n",
    "'f1_distance_head_strikes_attempts','f1_distance_body_strikes_attempts', 'f1_distance_leg_strikes_attempts',\n",
    "'f1_clinch_head_strikes_attempts','f1_clinch_body_strikes_attempts','f1_clinch_leg_strikes_attempts',\n",
    "'f1_ground_head_strikes_attempts','f1_ground_body_strikes_attempts','f1_ground_leg_strikes_attempts',]\n",
    "\n",
    "df[f1_9striking].describe()"
   ]
  },
  {
   "cell_type": "markdown",
   "metadata": {},
   "source": [
    "### Create visualization for striking matrix for all fighters"
   ]
  },
  {
   "cell_type": "code",
   "execution_count": 59,
   "metadata": {},
   "outputs": [
    {
     "name": "stdout",
     "output_type": "stream",
     "text": [
      "      distance   clinch   ground\n",
      "head  261453.0  22940.0  31026.0\n",
      "body   37162.0  12720.0   2594.0\n",
      "leg    31238.0   3050.0    726.0\n"
     ]
    },
    {
     "data": {
      "text/plain": [
       "<matplotlib.axes._subplots.AxesSubplot at 0x1a1138bc88>"
      ]
     },
     "execution_count": 59,
     "metadata": {},
     "output_type": "execute_result"
    },
    {
     "data": {
      "image/png": "[encoded data removed]",
      "text/plain": [
       "<matplotlib.figure.Figure at 0x10a923748>"
      ]
     },
     "metadata": {},
     "output_type": "display_data"
    }
   ],
   "source": [
    "distance_head = df[f1_9striking].sum().iloc[0]\n",
    "distance_body = df[f1_9striking].sum().iloc[1]\n",
    "distance_leg  = df[f1_9striking].sum().iloc[2]\n",
    "clinch_head   = df[f1_9striking].sum().iloc[3]\n",
    "clinch_body   = df[f1_9striking].sum().iloc[4]\n",
    "clinch_leg    = df[f1_9striking].sum().iloc[5]\n",
    "ground_head   = df[f1_9striking].sum().iloc[6]\n",
    "ground_body   = df[f1_9striking].sum().iloc[7]\n",
    "ground_leg    = df[f1_9striking].sum().iloc[8]\n",
    "\n",
    "Striking_Matrix = pd.DataFrame(\n",
    "    {'distance':[distance_head,distance_body,distance_leg],\n",
    "     'clinch': [clinch_head,clinch_body,clinch_leg],\n",
    "     'ground': [ground_head,ground_body,ground_leg]},\n",
    "    index=['head','body','leg']\n",
    ")\n",
    "Striking_Matrix = Striking_Matrix[['distance','clinch','ground']]\n",
    "\n",
    "print(Striking_Matrix)\n",
    "sns.heatmap(Striking_Matrix/Striking_Matrix.sum().sum(), annot=True)"
   ]
  },
  {
   "cell_type": "code",
   "execution_count": 62,
   "metadata": {},
   "outputs": [
    {
     "data": {
      "text/plain": [
       "distance    0.818679\n",
       "clinch      0.096076\n",
       "ground      0.085245\n",
       "dtype: float64"
      ]
     },
     "execution_count": 62,
     "metadata": {},
     "output_type": "execute_result"
    }
   ],
   "source": [
    "Striking_Matrix.sum()/Striking_Matrix.sum().sum()"
   ]
  },
  {
   "cell_type": "code",
   "execution_count": 63,
   "metadata": {},
   "outputs": [
    {
     "data": {
      "text/plain": [
       "head    0.782854\n",
       "body    0.130243\n",
       "leg     0.086903\n",
       "dtype: float64"
      ]
     },
     "execution_count": 63,
     "metadata": {},
     "output_type": "execute_result"
    }
   ],
   "source": [
    "Striking_Matrix.sum(axis=1)/Striking_Matrix.sum().sum()"
   ]
  },
  {
   "cell_type": "markdown",
   "metadata": {},
   "source": [
    "The striking matrix aligns with expectations.  Distance head strikes are the most common strike among all types of strikes, occuring 65% of the time.  Distance striking is the most common, occuring 81% of the time.  Striking the head is the most common, occuring 78% of the time.  "
   ]
  },
  {
   "cell_type": "markdown",
   "metadata": {},
   "source": [
    "#### Let's try to look at the non-striking metrics for grappling and submissions as well, so we can eventually try to figure out what kind of fighter someone is based on their fight stats (Striker, Ground and Pound, Submission Artist, Well Rounded)"
   ]
  },
  {
   "cell_type": "code",
   "execution_count": 79,
   "metadata": {},
   "outputs": [
    {
     "data": {
      "text/plain": [
       "['f1_grappling_standups_landed',\n",
       " 'f1_grappling_submissions_attempts',\n",
       " 'f1_grappling_takedowns_attempts',\n",
       " 'f1_grappling_takedowns_landed']"
      ]
     },
     "execution_count": 79,
     "metadata": {},
     "output_type": "execute_result"
    }
   ],
   "source": [
    "f1_grappling = [col for col in df.columns if 'f1' in col and  'grappling' in col]\n",
    "f1_grappling"
   ]
  },
  {
   "cell_type": "markdown",
   "metadata": {},
   "source": [
    "#### Split into attempts and landed"
   ]
  },
  {
   "cell_type": "code",
   "execution_count": 77,
   "metadata": {},
   "outputs": [
    {
     "data": {
      "text/plain": [
       "['f1_grappling_submissions_attempts', 'f1_grappling_takedowns_attempts']"
      ]
     },
     "execution_count": 77,
     "metadata": {},
     "output_type": "execute_result"
    }
   ],
   "source": [
    "f1_grappling_att = [col for col in df.columns if 'f1' in col and 'grappling' in col and 'attempts' in col]\n",
    "f1_grappling_att"
   ]
  },
  {
   "cell_type": "code",
   "execution_count": 78,
   "metadata": {},
   "outputs": [
    {
     "data": {
      "text/plain": [
       "['f1_grappling_standups_landed', 'f1_grappling_takedowns_landed']"
      ]
     },
     "execution_count": 78,
     "metadata": {},
     "output_type": "execute_result"
    }
   ],
   "source": [
    "f1_grappling_land = [col for col in df.columns if 'f1' in col and 'grappling' in col and 'landed' in col]\n",
    "f1_grappling_land"
   ]
  },
  {
   "cell_type": "markdown",
   "metadata": {},
   "source": [
    "#### Grappling\n",
    "For ``takedowns`` we have both ``_attempted`` and ``_landed``. <br>\n",
    "For ``standups`` we only have ``_landed``.  This is because fighters are basically always trying to stand up if they can if they have been taken down and trying to track every scramble to stand up would be very difficult <br>\n",
    "For ``submissions`` we only have ``_attempted``.  This is because if a fighter lands a ``submission`` then the fight is over.<br>"
   ]
  },
  {
   "cell_type": "code",
   "execution_count": 84,
   "metadata": {},
   "outputs": [
    {
     "data": {
      "text/plain": [
       "['f1_knock_down_landed']"
      ]
     },
     "execution_count": 84,
     "metadata": {},
     "output_type": "execute_result"
    }
   ],
   "source": [
    "[col for col in df.columns if 'f1' in col and 'knock' in col]"
   ]
  },
  {
   "cell_type": "markdown",
   "metadata": {},
   "source": [
    "#### Knockdowns\n",
    "We've looked at all the other metrics.  There is one left:  ``knock_down``.  Similar to ``standups`` this is only available as ``_landed`` since the fighter is attempting to knock down their opponent with every strike."
   ]
  },
  {
   "cell_type": "markdown",
   "metadata": {},
   "source": [
    "## Next, let's try to compare standup fighters vs. ground fighters\n",
    "\n",
    "**Subject Matter Expertise:** At a very coarse level, fighters are either more \"standup\" fighters or \"ground\" fighters.  Standup fighters are pretty much all strikers, though they will differ in if they prefer punching, knees or fighting \"inside\" in the clinch up against the cage.  Ground fighters primarily come in 2 flavors:  \"ground and pound\" fighters who try to take their opponent to the ground and then strike them whie they are on top of them, and \"submission\" fighters who try to take their opponent to the ground, improve their position and then submit their opponents.\n",
    "\n",
    "Let's try to look at the fighters metrics and see if we can determine if a fighter is a standup vs. ground fighter.  The number of ``take downs attempted`` is probably the best proxy for a ground fighter, since the more attempts, means the more they want to get the fight to the ground"
   ]
  },
  {
   "cell_type": "code",
   "execution_count": 91,
   "metadata": {},
   "outputs": [
    {
     "data": {
      "text/plain": [
       "0     0.0\n",
       "1    10.0\n",
       "2     2.0\n",
       "3     1.0\n",
       "Name: f1_grappling_takedowns_attempts, dtype: float64"
      ]
     },
     "execution_count": 91,
     "metadata": {},
     "output_type": "execute_result"
    }
   ],
   "source": [
    "df['f1_grappling_takedowns_attempts'].head(4)"
   ]
  },
  {
   "cell_type": "markdown",
   "metadata": {},
   "source": [
    "#### Let's first look at how many take downs each fighter usually attempts in a fight.  How many is \"normal\"?"
   ]
  },
  {
   "cell_type": "code",
   "execution_count": 89,
   "metadata": {},
   "outputs": [
    {
     "data": {
      "text/plain": [
       "<matplotlib.axes._subplots.AxesSubplot at 0x1a12c86a58>"
      ]
     },
     "execution_count": 89,
     "metadata": {},
     "output_type": "execute_result"
    },
    {
     "data": {
      "image/png": "[encoded data removed]",
      "text/plain": [
       "<matplotlib.figure.Figure at 0x1a1c46c550>"
      ]
     },
     "metadata": {},
     "output_type": "display_data"
    }
   ],
   "source": [
    "# Try a histogram\n",
    "sns.distplot(df['f1_grappling_takedowns_attempts'], kde=False)"
   ]
  },
  {
   "cell_type": "code",
   "execution_count": 90,
   "metadata": {},
   "outputs": [
    {
     "data": {
      "text/plain": [
       "2.9252199413489737"
      ]
     },
     "execution_count": 90,
     "metadata": {},
     "output_type": "execute_result"
    }
   ],
   "source": [
    "df['f1_grappling_takedowns_attempts'].mean()"
   ]
  },
  {
   "cell_type": "markdown",
   "metadata": {},
   "source": [
    "It looks like the average number of take downs per fight by a single fighter is just under 3.  However, looking at the histogram, we can see that in many fights, the fighter doesn't even try any take downs at all.  In some extreme cases, a fighter can try over 20 times to take their opponent down"
   ]
  },
  {
   "cell_type": "markdown",
   "metadata": {},
   "source": [
    "**Question:**  In what percent of the fights does the fighter not even try to take their opponent down?"
   ]
  },
  {
   "cell_type": "code",
   "execution_count": 97,
   "metadata": {},
   "outputs": [
    {
     "data": {
      "text/plain": [
       "0.326770004189359"
      ]
     },
     "execution_count": 97,
     "metadata": {},
     "output_type": "execute_result"
    }
   ],
   "source": [
    "1 - df['f1_grappling_takedowns_attempts'].map(lambda x: 1 if x > 0 else 0).mean()"
   ]
  },
  {
   "cell_type": "markdown",
   "metadata": {},
   "source": [
    "**Answer:**  It looks like 32% of the fights, the fighter doesn't even try to take their opponent down."
   ]
  },
  {
   "cell_type": "markdown",
   "metadata": {},
   "source": [
    "#### First, let's also create a histogram for total significant strikes and calculate the average per fight\n",
    "We already have the column in the data.  It is ``f1_significant_strikes_attempts``"
   ]
  },
  {
   "cell_type": "code",
   "execution_count": 98,
   "metadata": {},
   "outputs": [
    {
     "data": {
      "text/plain": [
       "<matplotlib.axes._subplots.AxesSubplot at 0x1a12034278>"
      ]
     },
     "execution_count": 98,
     "metadata": {},
     "output_type": "execute_result"
    },
    {
     "data": {
      "image/png": "[encoded data removed]",
      "text/plain": [
       "<matplotlib.figure.Figure at 0x1a1c2bb2e8>"
      ]
     },
     "metadata": {},
     "output_type": "display_data"
    }
   ],
   "source": [
    "sns.distplot(df['f1_significant_strikes_attempts'], kde=False)"
   ]
  },
  {
   "cell_type": "code",
   "execution_count": 99,
   "metadata": {},
   "outputs": [
    {
     "data": {
      "text/plain": [
       "84.24926686217009"
      ]
     },
     "execution_count": 99,
     "metadata": {},
     "output_type": "execute_result"
    }
   ],
   "source": [
    "df['f1_significant_strikes_attempts'].mean()"
   ]
  },
  {
   "cell_type": "code",
   "execution_count": 100,
   "metadata": {},
   "outputs": [
    {
     "data": {
      "text/plain": [
       "0.003770423125261879"
      ]
     },
     "execution_count": 100,
     "metadata": {},
     "output_type": "execute_result"
    }
   ],
   "source": [
    "1 - df['f1_significant_strikes_attempts'].map(lambda x: 1 if x > 0 else 0).mean()"
   ]
  },
  {
   "cell_type": "markdown",
   "metadata": {},
   "source": [
    "#### Quick Summary about total strikes\n",
    "On average, a fighter will attempt 84 strikes per fight.  This can go all the way up to 500 in a single fight.  0.3% of UFC fights had a fighter not attempt to throw a single strike."
   ]
  },
  {
   "cell_type": "markdown",
   "metadata": {},
   "source": [
    "### How can I relate striking vs. take downs?  \n",
    "The absolute numbers are very different.  On average 84 strikes are thrown.  Take downs on average as we've seen is about 3 per fight...  Is it okay to just divide them?    (We will use significant strikes)\n",
    "\n",
    "Total Significant Strikes Attempted vs. Take Downs Attempted?"
   ]
  },
  {
   "cell_type": "code",
   "execution_count": 102,
   "metadata": {},
   "outputs": [
    {
     "data": {
      "text/plain": [
       "28.0"
      ]
     },
     "execution_count": 102,
     "metadata": {},
     "output_type": "execute_result"
    }
   ],
   "source": [
    "84/3"
   ]
  },
  {
   "cell_type": "markdown",
   "metadata": {},
   "source": [
    "Here is a problem.  What happens if there are zero take downs in the fight?  The metric doesn't even make sense anymore...  Can I also divide by the total number of strikes?  So like:"
   ]
  },
  {
   "cell_type": "code",
   "execution_count": 103,
   "metadata": {},
   "outputs": [
    {
     "data": {
      "text/plain": [
       "0.3333333333333333"
      ]
     },
     "execution_count": 103,
     "metadata": {},
     "output_type": "execute_result"
    }
   ],
   "source": [
    "(84/3)/84"
   ]
  },
  {
   "cell_type": "code",
   "execution_count": 105,
   "metadata": {},
   "outputs": [
    {
     "data": {
      "text/html": [
       "<div>\n",
       "<style scoped>\n",
       "    .dataframe tbody tr th:only-of-type {\n",
       "        vertical-align: middle;\n",
       "    }\n",
       "\n",
       "    .dataframe tbody tr th {\n",
       "        vertical-align: top;\n",
       "    }\n",
       "\n",
       "    .dataframe thead th {\n",
       "        text-align: right;\n",
       "    }\n",
       "</style>\n",
       "<table border=\"1\" class=\"dataframe\">\n",
       "  <thead>\n",
       "    <tr style=\"text-align: right;\">\n",
       "      <th></th>\n",
       "      <th>f1_significant_strikes_attempts</th>\n",
       "      <th>f1_grappling_takedowns_attempts</th>\n",
       "    </tr>\n",
       "  </thead>\n",
       "  <tbody>\n",
       "    <tr>\n",
       "      <th>0</th>\n",
       "      <td>23.0</td>\n",
       "      <td>0.0</td>\n",
       "    </tr>\n",
       "    <tr>\n",
       "      <th>1</th>\n",
       "      <td>171.0</td>\n",
       "      <td>10.0</td>\n",
       "    </tr>\n",
       "    <tr>\n",
       "      <th>2</th>\n",
       "      <td>84.0</td>\n",
       "      <td>2.0</td>\n",
       "    </tr>\n",
       "    <tr>\n",
       "      <th>3</th>\n",
       "      <td>111.0</td>\n",
       "      <td>1.0</td>\n",
       "    </tr>\n",
       "    <tr>\n",
       "      <th>4</th>\n",
       "      <td>49.0</td>\n",
       "      <td>0.0</td>\n",
       "    </tr>\n",
       "    <tr>\n",
       "      <th>5</th>\n",
       "      <td>49.0</td>\n",
       "      <td>0.0</td>\n",
       "    </tr>\n",
       "    <tr>\n",
       "      <th>6</th>\n",
       "      <td>93.0</td>\n",
       "      <td>7.0</td>\n",
       "    </tr>\n",
       "    <tr>\n",
       "      <th>7</th>\n",
       "      <td>90.0</td>\n",
       "      <td>1.0</td>\n",
       "    </tr>\n",
       "    <tr>\n",
       "      <th>8</th>\n",
       "      <td>51.0</td>\n",
       "      <td>1.0</td>\n",
       "    </tr>\n",
       "    <tr>\n",
       "      <th>9</th>\n",
       "      <td>105.0</td>\n",
       "      <td>0.0</td>\n",
       "    </tr>\n",
       "  </tbody>\n",
       "</table>\n",
       "</div>"
      ],
      "text/plain": [
       "   f1_significant_strikes_attempts  f1_grappling_takedowns_attempts\n",
       "0                             23.0                              0.0\n",
       "1                            171.0                             10.0\n",
       "2                             84.0                              2.0\n",
       "3                            111.0                              1.0\n",
       "4                             49.0                              0.0\n",
       "5                             49.0                              0.0\n",
       "6                             93.0                              7.0\n",
       "7                             90.0                              1.0\n",
       "8                             51.0                              1.0\n",
       "9                            105.0                              0.0"
      ]
     },
     "execution_count": 105,
     "metadata": {},
     "output_type": "execute_result"
    }
   ],
   "source": [
    "# First look at some data\n",
    "df[['f1_significant_strikes_attempts','f1_grappling_takedowns_attempts']].head(10)"
   ]
  },
  {
   "cell_type": "markdown",
   "metadata": {},
   "source": [
    "#### There has to be some formula that will give me a ratio between 1 and 0 for how much of a \"striker\" someone is right?\n",
    "Someone who attemts 0 take downs is 100% striker regardless of the number of strikes they attempted"
   ]
  },
  {
   "cell_type": "code",
   "execution_count": 107,
   "metadata": {},
   "outputs": [
    {
     "data": {
      "text/plain": [
       "0.07526881720430108"
      ]
     },
     "execution_count": 107,
     "metadata": {},
     "output_type": "execute_result"
    }
   ],
   "source": [
    "7/93"
   ]
  },
  {
   "cell_type": "code",
   "execution_count": 108,
   "metadata": {},
   "outputs": [
    {
     "data": {
      "text/plain": [
       "0.011111111111111112"
      ]
     },
     "execution_count": 108,
     "metadata": {},
     "output_type": "execute_result"
    }
   ],
   "source": [
    "1/90"
   ]
  },
  {
   "cell_type": "markdown",
   "metadata": {},
   "source": [
    "Let's do strikes over take downs since the number is more sensible.  On average, fighters throw 28 strikes per take down attempt.  "
   ]
  },
  {
   "cell_type": "markdown",
   "metadata": {},
   "source": [
    "f1_grappling_takedowns_attempts\n",
    "f1_significant_strikes_attempts"
   ]
  },
  {
   "cell_type": "code",
   "execution_count": null,
   "metadata": {},
   "outputs": [],
   "source": [
    "df['f1_takedowns_per_strike'] ="
   ]
  },
  {
   "cell_type": "code",
   "execution_count": 112,
   "metadata": {},
   "outputs": [],
   "source": [
    "f1_takedowns_per_strike = df.apply(lambda x: x['f1_grappling_takedowns_attempts']/x['f1_significant_strikes_attempts'] \\\n",
    "         if x['f1_significant_strikes_attempts']!=0 else 0, axis=1)"
   ]
  },
  {
   "cell_type": "code",
   "execution_count": 113,
   "metadata": {},
   "outputs": [
    {
     "data": {
      "text/plain": [
       "<matplotlib.axes._subplots.AxesSubplot at 0x1a12d27080>"
      ]
     },
     "execution_count": 113,
     "metadata": {},
     "output_type": "execute_result"
    },
    {
     "data": {
      "image/png": "[encoded data removed]",
      "text/plain": [
       "<matplotlib.figure.Figure at 0x1a12db7eb8>"
      ]
     },
     "metadata": {},
     "output_type": "display_data"
    }
   ],
   "source": [
    "sns.distplot(f1_takedowns_per_strike)"
   ]
  }
 ],
 "metadata": {
  "kernelspec": {
   "display_name": "Python 3",
   "language": "python",
   "name": "python3"
  },
  "language_info": {
   "codemirror_mode": {
    "name": "ipython",
    "version": 3
   },
   "file_extension": ".py",
   "mimetype": "text/x-python",
   "name": "python",
   "nbconvert_exporter": "python",
   "pygments_lexer": "ipython3",
   "version": "3.6.4"
  }
 },
 "nbformat": 4,
 "nbformat_minor": 2
}
