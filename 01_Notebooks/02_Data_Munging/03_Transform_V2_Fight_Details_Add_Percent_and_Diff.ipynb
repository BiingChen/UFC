{
 "cells": [
  {
   "cell_type": "markdown",
   "metadata": {},
   "source": [
    "# 03 Transform V2 Fight Details to add Percentages and Differentials\n",
    "- Calculate historical average of fight stats for each fight\n",
    "- Everything is from the perspective of the F1 fighter\n",
    "- Stats for the F1 fighter are basically an \"offensive\" rating for the F1 fighter\n",
    "- Stats for the F2 fighter are basically an inverse \"defensive\" rating for the F1 fighter\n",
    "- We also want to look at the difference in the stats for each fight, and then historical average difference"
   ]
  },
  {
   "cell_type": "markdown",
   "metadata": {},
   "source": [
    "## Imports"
   ]
  },
  {
   "cell_type": "code",
   "execution_count": 2,
   "metadata": {},
   "outputs": [],
   "source": [
    "import pandas as pd\n",
    "import re"
   ]
  },
  {
   "cell_type": "markdown",
   "metadata": {},
   "source": [
    "## Pull in V2_Fight_Details CSV"
   ]
  },
  {
   "cell_type": "code",
   "execution_count": 3,
   "metadata": {},
   "outputs": [],
   "source": [
    "df = pd.read_csv('../../02_Data/02_Processed_Data/V2_Fight_Details.csv',index_col=0)"
   ]
  },
  {
   "cell_type": "markdown",
   "metadata": {},
   "source": [
    "#### Notes on this initial set of data:\n",
    "- No nulls currently since I dropped them all already\n",
    "- No time in position details since they had nulls\n",
    "- Only 1 side.  Not flipped and appended yet"
   ]
  },
  {
   "cell_type": "markdown",
   "metadata": {},
   "source": [
    "## Need to add and flip before the transformations"
   ]
  },
  {
   "cell_type": "code",
   "execution_count": 4,
   "metadata": {},
   "outputs": [],
   "source": [
    "# Setup Columns Again\n",
    "F1_Columns = [col for col in df.columns if 'f1' in col.lower()]\n",
    "F2_Columns = [col for col in df.columns if 'f2' in col.lower()]\n",
    "Other_Columns = [col for col in df.columns if not 'f2' in col.lower() and not 'f1' in col.lower()]\n",
    "\n",
    "Ordered_Columns = Other_Columns + F1_Columns + F2_Columns\n",
    "Flipped_Columns = Other_Columns + F2_Columns + F1_Columns\n",
    "\n",
    "# Put Columns in Order\n",
    "df = df[Ordered_Columns]\n",
    "\n",
    "# Create Flipped df\n",
    "flipped_df = df[Flipped_Columns]\n",
    "flipped_df.columns = Ordered_Columns\n",
    "\n",
    "# Concatenate df and flipped_df\n",
    "df = pd.concat([df, flipped_df])\n",
    "\n",
    "# Reset the index\n",
    "df = df.reset_index().drop(columns=['index'])"
   ]
  },
  {
   "cell_type": "markdown",
   "metadata": {},
   "source": [
    "## Setup Column References for Easy Access  *Do not delete*"
   ]
  },
  {
   "cell_type": "code",
   "execution_count": 5,
   "metadata": {},
   "outputs": [],
   "source": [
    "# These columns are used in the transformations\n",
    "F1_Columns = [col for col in df.columns if 'f1' in col.lower()]\n",
    "F2_Columns = [col for col in df.columns if 'f2' in col.lower()]\n",
    "Other_Columns = [col for col in df.columns if not 'f2' in col.lower() and not 'f1' in col.lower()]\n",
    "\n",
    "F1_Strikes = [col for col in F1_Columns if 'strikes' in col.lower()] + ['F1_Knock_Down_Landed']\n",
    "F1_Grappling = [col for col in F1_Columns if 'grappling' in col.lower()]\n",
    "F1_TIP = [col for col in F1_Columns if 'tip' in col.lower()]\n",
    "F1_Identification = ['F1_FighterID','F1_Name'] # This is what its supposed to be incase I add more columns\n",
    "F1_Identification = list(set(F1_Columns) - set(F1_Strikes) - set(F1_Grappling) - set(F1_TIP))\n",
    "\n",
    "F2_Strikes = [col for col in F2_Columns if 'strikes' in col.lower()] + ['F2_Knock_Down_Landed']\n",
    "F2_Grappling = [col for col in F2_Columns if 'grappling' in col.lower()]\n",
    "F2_TIP = [col for col in F2_Columns if 'tip' in col.lower()]\n",
    "F2_Identification = ['F2_FighterID','F2_Name']\n",
    "F2_Identification = list(set(F2_Columns) - set(F2_Strikes) - set(F2_Grappling) - set(F2_TIP))"
   ]
  },
  {
   "cell_type": "markdown",
   "metadata": {},
   "source": [
    "## Perform Transformation:  Calculate success percent for every pair of words that have \"landed\" and \"attempted\""
   ]
  },
  {
   "cell_type": "code",
   "execution_count": 6,
   "metadata": {},
   "outputs": [],
   "source": [
    "def Perform_calc_success_percent(df):\n",
    "    Both_Landed_Attempts, Attempts_Only, Landed_Only = get_attempts_landed_columns(df)\n",
    "    num_columns_before = df.shape[1]\n",
    "    columns_before = df.columns\n",
    "    print(f'num columns before: {num_columns_before}')\n",
    "    for col in Both_Landed_Attempts:\n",
    "        df = calc_success_percent(df, col)\n",
    "    num_columns_after = df.shape[1]\n",
    "    columns_after = df.columns\n",
    "    print(f\"# Columns Added: {num_columns_after-num_columns_before}\")\n",
    "    print(f'num columns after: {num_columns_after}')\n",
    "    new_columns = list(set(columns_after) - set(columns_before))\n",
    "    return df, new_columns"
   ]
  },
  {
   "cell_type": "code",
   "execution_count": 7,
   "metadata": {},
   "outputs": [],
   "source": [
    "def calc_success_percent(df, col_root):\n",
    "    attempts = col_root + '_attempts'\n",
    "    landed = col_root + '_landed'\n",
    "    success_percent = col_root + '_percent'\n",
    "    \n",
    "    df[success_percent] = df.apply(lambda x: x[landed]/x[attempts] if x[attempts] != 0 else 0, axis=1)\n",
    "    \n",
    "    return df\n",
    "\n",
    "#calc_success_percent(df, 'F1_Body_Significant_Strikes')"
   ]
  },
  {
   "cell_type": "code",
   "execution_count": 8,
   "metadata": {},
   "outputs": [],
   "source": [
    "def get_attempts_landed_columns(df):\n",
    "    list_cols_attempts = []\n",
    "    list_cols_landed = []\n",
    "    for column in df.columns: \n",
    "        if '_attempts' in column.lower():\n",
    "            list_cols_attempts.append(column)\n",
    "        if '_landed' in column.lower():\n",
    "            list_cols_landed.append(column)\n",
    "    list_cols_attempts = [re.sub('_attempts','',col) for col in list_cols_attempts] # Remove \"_Attempts\"\n",
    "    list_cols_landed = [re.sub('_landed','',col) for col in list_cols_landed]\n",
    "    Attempts_Only = set(list_cols_attempts) - set(list_cols_landed)\n",
    "    Landed_Only =  set(list_cols_landed) - set(list_cols_attempts)\n",
    "    Both_Landed_Attempts = set(list_cols_landed) & set(list_cols_attempts)\n",
    "    return Both_Landed_Attempts, Attempts_Only, Landed_Only"
   ]
  },
  {
   "cell_type": "markdown",
   "metadata": {},
   "source": [
    "### Run the Function"
   ]
  },
  {
   "cell_type": "code",
   "execution_count": 9,
   "metadata": {},
   "outputs": [
    {
     "name": "stdout",
     "output_type": "stream",
     "text": [
      "num columns before: 107\n",
      "# Columns Added: 46\n",
      "num columns after: 153\n"
     ]
    }
   ],
   "source": [
    "df, Landed_Percent = Perform_calc_success_percent(df)"
   ]
  },
  {
   "cell_type": "markdown",
   "metadata": {},
   "source": [
    "## Perform Transformation:  Calculate In Fight Differentials"
   ]
  },
  {
   "cell_type": "code",
   "execution_count": 10,
   "metadata": {},
   "outputs": [],
   "source": [
    "f1_calc_columns = list(set(F1_Columns) - set(F1_Identification) - set(F1_TIP))"
   ]
  },
  {
   "cell_type": "code",
   "execution_count": 11,
   "metadata": {},
   "outputs": [],
   "source": [
    "# I also need to get the percent columns\n",
    "# At this point the df already has the percent columns... so just grab them from the df directly\n",
    "percent_cols = [col[3:] for col in df.columns if 'percent' in col and 'f1' in col]"
   ]
  },
  {
   "cell_type": "code",
   "execution_count": 12,
   "metadata": {},
   "outputs": [],
   "source": [
    "def Perform_calc_fight_stat_differential(df):\n",
    "    percent_cols = [col[3:] for col in df.columns if 'percent' in col and 'f1' in col]\n",
    "    f1_calc_columns = list(set(F1_Columns) - set(F1_Identification) - set(F1_TIP))\n",
    "    for_calc_columns = [col[3:] for col in f1_calc_columns] # Remove the F1_ part\n",
    "    for_calc_columns.extend(percent_cols)\n",
    "    num_columns_before = df.shape[1]\n",
    "    columns_before = df.columns\n",
    "    print(f'num columns before: {num_columns_before}')\n",
    "    for col in for_calc_columns:\n",
    "        df = calc_fight_stat_differential(df, col)\n",
    "    num_columns_after = df.shape[1]\n",
    "    columns_after = df.columns\n",
    "    print(f\"# Columns Added: {num_columns_after-num_columns_before}\")\n",
    "    print(f'num columns after: {num_columns_after}')\n",
    "    new_columns = list(set(columns_after) - set(columns_before))\n",
    "    return df, new_columns"
   ]
  },
  {
   "cell_type": "code",
   "execution_count": 13,
   "metadata": {},
   "outputs": [],
   "source": [
    "def calc_fight_stat_differential(df, col_root):\n",
    "    f1 = 'f1_' + col_root\n",
    "    f2 = 'f2_' + col_root\n",
    "    diff = col_root + '_diff'\n",
    "    df[diff] = df.apply(lambda x: (x[f1] - x[f2])/(x[f1] + x[f2]) if (x[f1] + x[f2]) != 0 else 0, axis=1)\n",
    "    return df\n",
    "\n",
    "# calc_fight_stat_differential(df, col_root)"
   ]
  },
  {
   "cell_type": "markdown",
   "metadata": {},
   "source": [
    "### Run the Function"
   ]
  },
  {
   "cell_type": "code",
   "execution_count": 14,
   "metadata": {},
   "outputs": [
    {
     "name": "stdout",
     "output_type": "stream",
     "text": [
      "num columns before: 153\n",
      "# Columns Added: 71\n",
      "num columns after: 224\n"
     ]
    }
   ],
   "source": [
    "df, stat_diff = Perform_calc_fight_stat_differential(df)"
   ]
  },
  {
   "cell_type": "markdown",
   "metadata": {},
   "source": [
    "## This dataset is currently missing the date.  Join it from the Events_df"
   ]
  },
  {
   "cell_type": "code",
   "execution_count": 15,
   "metadata": {},
   "outputs": [],
   "source": [
    "path = '../../02_Data/01_Raw_Scraped_Data/Events/events_df.csv'\n",
    "\n",
    "events_df = pd.read_csv(path, index_col=0)\n",
    "events_df = events_df[['EventId','Date']]\n",
    "events_df = events_df.rename(index=str, columns={\"EventId\": \"eventid\", 'Date':'date'})"
   ]
  },
  {
   "cell_type": "code",
   "execution_count": 16,
   "metadata": {},
   "outputs": [],
   "source": [
    "df = df.merge(events_df, on='eventid')"
   ]
  },
  {
   "cell_type": "code",
   "execution_count": 17,
   "metadata": {},
   "outputs": [
    {
     "data": {
      "text/plain": [
       "(4774, 225)"
      ]
     },
     "execution_count": 17,
     "metadata": {},
     "output_type": "execute_result"
    }
   ],
   "source": [
    "df.shape"
   ]
  },
  {
   "cell_type": "code",
   "execution_count": 19,
   "metadata": {},
   "outputs": [
    {
     "data": {
      "text/html": [
       "<div>\n",
       "<style scoped>\n",
       "    .dataframe tbody tr th:only-of-type {\n",
       "        vertical-align: middle;\n",
       "    }\n",
       "\n",
       "    .dataframe tbody tr th {\n",
       "        vertical-align: top;\n",
       "    }\n",
       "\n",
       "    .dataframe thead th {\n",
       "        text-align: right;\n",
       "    }\n",
       "</style>\n",
       "<table border=\"1\" class=\"dataframe\">\n",
       "  <thead>\n",
       "    <tr style=\"text-align: right;\">\n",
       "      <th></th>\n",
       "      <th>currentrnd</th>\n",
       "      <th>eventid</th>\n",
       "      <th>fightid</th>\n",
       "      <th>maxrnds</th>\n",
       "      <th>timestamp</th>\n",
       "      <th>f1_body_significant_strikes_attempts</th>\n",
       "      <th>f1_body_significant_strikes_landed</th>\n",
       "      <th>f1_body_total_strikes_attempts</th>\n",
       "      <th>f1_body_total_strikes_landed</th>\n",
       "      <th>f1_clinch_body_strikes_attempts</th>\n",
       "      <th>...</th>\n",
       "      <th>grappling_takedowns_percent_diff</th>\n",
       "      <th>total_strikes_percent_diff</th>\n",
       "      <th>distance_leg_strikes_percent_diff</th>\n",
       "      <th>distance_head_strikes_percent_diff</th>\n",
       "      <th>head_total_strikes_percent_diff</th>\n",
       "      <th>head_significant_strikes_percent_diff</th>\n",
       "      <th>clinch_total_strikes_percent_diff</th>\n",
       "      <th>body_significant_strikes_percent_diff</th>\n",
       "      <th>ground_leg_strikes_percent_diff</th>\n",
       "      <th>date</th>\n",
       "    </tr>\n",
       "  </thead>\n",
       "  <tbody>\n",
       "    <tr>\n",
       "      <th>0</th>\n",
       "      <td>1</td>\n",
       "      <td>704</td>\n",
       "      <td>5268</td>\n",
       "      <td>3</td>\n",
       "      <td>02:26:26 06/28/2016</td>\n",
       "      <td>1.0</td>\n",
       "      <td>0.0</td>\n",
       "      <td>1.0</td>\n",
       "      <td>0.0</td>\n",
       "      <td>0.0</td>\n",
       "      <td>...</td>\n",
       "      <td>0.0</td>\n",
       "      <td>-0.179487</td>\n",
       "      <td>-0.111111</td>\n",
       "      <td>-0.440678</td>\n",
       "      <td>-0.455253</td>\n",
       "      <td>-0.455253</td>\n",
       "      <td>0.000000</td>\n",
       "      <td>-1.000000</td>\n",
       "      <td>0.0</td>\n",
       "      <td>2015-03-14</td>\n",
       "    </tr>\n",
       "    <tr>\n",
       "      <th>1</th>\n",
       "      <td>5</td>\n",
       "      <td>704</td>\n",
       "      <td>5198</td>\n",
       "      <td>5</td>\n",
       "      <td>02:49:04 03/16/2015</td>\n",
       "      <td>37.0</td>\n",
       "      <td>27.0</td>\n",
       "      <td>56.0</td>\n",
       "      <td>45.0</td>\n",
       "      <td>5.0</td>\n",
       "      <td>...</td>\n",
       "      <td>1.0</td>\n",
       "      <td>0.137835</td>\n",
       "      <td>-0.062500</td>\n",
       "      <td>0.034213</td>\n",
       "      <td>0.066588</td>\n",
       "      <td>0.181939</td>\n",
       "      <td>-0.067961</td>\n",
       "      <td>0.029797</td>\n",
       "      <td>1.0</td>\n",
       "      <td>2015-03-14</td>\n",
       "    </tr>\n",
       "    <tr>\n",
       "      <th>2</th>\n",
       "      <td>3</td>\n",
       "      <td>704</td>\n",
       "      <td>5199</td>\n",
       "      <td>3</td>\n",
       "      <td>02:49:03 03/16/2015</td>\n",
       "      <td>33.0</td>\n",
       "      <td>24.0</td>\n",
       "      <td>33.0</td>\n",
       "      <td>24.0</td>\n",
       "      <td>2.0</td>\n",
       "      <td>...</td>\n",
       "      <td>0.0</td>\n",
       "      <td>0.423800</td>\n",
       "      <td>0.463415</td>\n",
       "      <td>0.485306</td>\n",
       "      <td>0.402062</td>\n",
       "      <td>0.402062</td>\n",
       "      <td>0.052632</td>\n",
       "      <td>0.043478</td>\n",
       "      <td>0.0</td>\n",
       "      <td>2015-03-14</td>\n",
       "    </tr>\n",
       "    <tr>\n",
       "      <th>3</th>\n",
       "      <td>2</td>\n",
       "      <td>704</td>\n",
       "      <td>5249</td>\n",
       "      <td>3</td>\n",
       "      <td>02:49:08 03/16/2015</td>\n",
       "      <td>16.0</td>\n",
       "      <td>8.0</td>\n",
       "      <td>16.0</td>\n",
       "      <td>8.0</td>\n",
       "      <td>1.0</td>\n",
       "      <td>...</td>\n",
       "      <td>0.0</td>\n",
       "      <td>-0.233333</td>\n",
       "      <td>-0.032258</td>\n",
       "      <td>-0.301328</td>\n",
       "      <td>-0.345656</td>\n",
       "      <td>-0.345656</td>\n",
       "      <td>1.000000</td>\n",
       "      <td>0.047619</td>\n",
       "      <td>0.0</td>\n",
       "      <td>2015-03-14</td>\n",
       "    </tr>\n",
       "    <tr>\n",
       "      <th>4</th>\n",
       "      <td>3</td>\n",
       "      <td>704</td>\n",
       "      <td>5245</td>\n",
       "      <td>3</td>\n",
       "      <td>02:49:06 03/16/2015</td>\n",
       "      <td>9.0</td>\n",
       "      <td>7.0</td>\n",
       "      <td>12.0</td>\n",
       "      <td>10.0</td>\n",
       "      <td>5.0</td>\n",
       "      <td>...</td>\n",
       "      <td>-1.0</td>\n",
       "      <td>-0.074095</td>\n",
       "      <td>-1.000000</td>\n",
       "      <td>-0.243478</td>\n",
       "      <td>-0.095882</td>\n",
       "      <td>-0.084337</td>\n",
       "      <td>0.463415</td>\n",
       "      <td>-0.125000</td>\n",
       "      <td>0.0</td>\n",
       "      <td>2015-03-14</td>\n",
       "    </tr>\n",
       "  </tbody>\n",
       "</table>\n",
       "<p>5 rows × 225 columns</p>\n",
       "</div>"
      ],
      "text/plain": [
       "   currentrnd  eventid  fightid  maxrnds            timestamp  \\\n",
       "0           1      704     5268        3  02:26:26 06/28/2016   \n",
       "1           5      704     5198        5  02:49:04 03/16/2015   \n",
       "2           3      704     5199        3  02:49:03 03/16/2015   \n",
       "3           2      704     5249        3  02:49:08 03/16/2015   \n",
       "4           3      704     5245        3  02:49:06 03/16/2015   \n",
       "\n",
       "   f1_body_significant_strikes_attempts  f1_body_significant_strikes_landed  \\\n",
       "0                                   1.0                                 0.0   \n",
       "1                                  37.0                                27.0   \n",
       "2                                  33.0                                24.0   \n",
       "3                                  16.0                                 8.0   \n",
       "4                                   9.0                                 7.0   \n",
       "\n",
       "   f1_body_total_strikes_attempts  f1_body_total_strikes_landed  \\\n",
       "0                             1.0                           0.0   \n",
       "1                            56.0                          45.0   \n",
       "2                            33.0                          24.0   \n",
       "3                            16.0                           8.0   \n",
       "4                            12.0                          10.0   \n",
       "\n",
       "   f1_clinch_body_strikes_attempts     ...      \\\n",
       "0                              0.0     ...       \n",
       "1                              5.0     ...       \n",
       "2                              2.0     ...       \n",
       "3                              1.0     ...       \n",
       "4                              5.0     ...       \n",
       "\n",
       "   grappling_takedowns_percent_diff  total_strikes_percent_diff  \\\n",
       "0                               0.0                   -0.179487   \n",
       "1                               1.0                    0.137835   \n",
       "2                               0.0                    0.423800   \n",
       "3                               0.0                   -0.233333   \n",
       "4                              -1.0                   -0.074095   \n",
       "\n",
       "   distance_leg_strikes_percent_diff  distance_head_strikes_percent_diff  \\\n",
       "0                          -0.111111                           -0.440678   \n",
       "1                          -0.062500                            0.034213   \n",
       "2                           0.463415                            0.485306   \n",
       "3                          -0.032258                           -0.301328   \n",
       "4                          -1.000000                           -0.243478   \n",
       "\n",
       "   head_total_strikes_percent_diff  head_significant_strikes_percent_diff  \\\n",
       "0                        -0.455253                              -0.455253   \n",
       "1                         0.066588                               0.181939   \n",
       "2                         0.402062                               0.402062   \n",
       "3                        -0.345656                              -0.345656   \n",
       "4                        -0.095882                              -0.084337   \n",
       "\n",
       "   clinch_total_strikes_percent_diff  body_significant_strikes_percent_diff  \\\n",
       "0                           0.000000                              -1.000000   \n",
       "1                          -0.067961                               0.029797   \n",
       "2                           0.052632                               0.043478   \n",
       "3                           1.000000                               0.047619   \n",
       "4                           0.463415                              -0.125000   \n",
       "\n",
       "   ground_leg_strikes_percent_diff        date  \n",
       "0                              0.0  2015-03-14  \n",
       "1                              1.0  2015-03-14  \n",
       "2                              0.0  2015-03-14  \n",
       "3                              0.0  2015-03-14  \n",
       "4                              0.0  2015-03-14  \n",
       "\n",
       "[5 rows x 225 columns]"
      ]
     },
     "execution_count": 19,
     "metadata": {},
     "output_type": "execute_result"
    }
   ],
   "source": [
    "df.head()"
   ]
  },
  {
   "cell_type": "code",
   "execution_count": null,
   "metadata": {},
   "outputs": [],
   "source": []
  },
  {
   "cell_type": "markdown",
   "metadata": {},
   "source": [
    "## Processing for V2 Df is done.  Export it"
   ]
  },
  {
   "cell_type": "code",
   "execution_count": 75,
   "metadata": {},
   "outputs": [],
   "source": [
    "df.to_csv('../../02_Data/02_Processed_Data/V2_Processed.csv')"
   ]
  },
  {
   "cell_type": "code",
   "execution_count": 44,
   "metadata": {},
   "outputs": [
    {
     "name": "stdout",
     "output_type": "stream",
     "text": [
      "V1_DF.csv                       df_ems.csv\r\n",
      "V1_DF_w_flipped.csv             fighter_page_info.csv\r\n",
      "V2_Fight_Details.csv            fighter_static_stats.csv\r\n",
      "V2_Fight_Details_Munged0711.csv train.csv\r\n",
      "V2_Processed.csv                train_stub.csv\r\n"
     ]
    }
   ],
   "source": [
    "!ls ../../02_Data/02_Processed_Data/"
   ]
  },
  {
   "cell_type": "code",
   "execution_count": null,
   "metadata": {},
   "outputs": [],
   "source": []
  },
  {
   "cell_type": "code",
   "execution_count": 67,
   "metadata": {},
   "outputs": [
    {
     "data": {
      "text/plain": [
       "Series([], dtype: float64)"
      ]
     },
     "execution_count": 67,
     "metadata": {},
     "output_type": "execute_result"
    }
   ],
   "source": [
    "# Training Stub Data\n",
    "train_stub = ['eventid','fightid','f1_fullname','f2_fullname','f1_fighterid','f2_fighterid','f1_outcome']\n",
    "train = V1_df[train_stub].reset_index().drop(columns='index')\n",
    "\n",
    "\n",
    "df_ems_f1 = df_ems.copy()\n",
    "\n",
    "# First append 'F1_' for all fighter 1 data\n",
    "df_ems_f1.columns = ['eventid','fightid','f1_fighterid','date'] + \\\n",
    "                    ['f1_' + col for col in df_ems_f1.columns if col not in \\\n",
    "                    ['eventid','fightid','f1_fighterid','date']]\n",
    "\n",
    "# Merge F1 Expanding Means\n",
    "train = train.merge(df_ems_f1, left_on=['eventid','fightid','f1_fighterid'],\n",
    "                    right_on=['eventid','fightid','f1_fighterid'])\n",
    "\n",
    "#Setup \n",
    "df_ems_f2 = df_ems.drop(columns=['date']).copy()\n",
    "df_ems_f2.columns = ['eventid','fightid','f2_fighterid'] + \\\n",
    "                    ['f2_' + col for col in df_ems_f2.columns if col not in \\\n",
    "                    ['eventid','fightid','f1_fighterid']]\n",
    "\n",
    "# Merge em for fighter 2\n",
    "train = train.merge(df_ems_f2, left_on=['eventid','fightid','f2_fighterid'], \n",
    "                    right_on=['eventid','fightid','f2_fighterid'])\n",
    "\n",
    "# drop columns w/o outcome\n",
    "train = train.dropna(axis=0, how='any')\n",
    "\n",
    "# Check empty columns:\n",
    "check_nulls(train)"
   ]
  },
  {
   "cell_type": "markdown",
   "metadata": {},
   "source": [
    "# Need to clean up data a bit more before I can model\n",
    "- Label from win/loss to 1/0"
   ]
  },
  {
   "cell_type": "code",
   "execution_count": 69,
   "metadata": {},
   "outputs": [
    {
     "data": {
      "text/plain": [
       "Win     1590\n",
       "Loss    1590\n",
       "Name: f1_outcome, dtype: int64"
      ]
     },
     "execution_count": 69,
     "metadata": {},
     "output_type": "execute_result"
    }
   ],
   "source": [
    "train.f1_outcome.value_counts()"
   ]
  },
  {
   "cell_type": "code",
   "execution_count": 71,
   "metadata": {},
   "outputs": [],
   "source": [
    "train['outcome'] = train.f1_outcome.map(lambda x: 1 if x=='Win' else 0)"
   ]
  },
  {
   "cell_type": "markdown",
   "metadata": {},
   "source": [
    "# Export Train dataset for some EDA"
   ]
  },
  {
   "cell_type": "code",
   "execution_count": 72,
   "metadata": {},
   "outputs": [],
   "source": [
    "train.to_csv('../../02_Data/02_Processed_Data/train.csv')"
   ]
  }
 ],
 "metadata": {
  "kernelspec": {
   "display_name": "Python 3",
   "language": "python",
   "name": "python3"
  },
  "language_info": {
   "codemirror_mode": {
    "name": "ipython",
    "version": 3
   },
   "file_extension": ".py",
   "mimetype": "text/x-python",
   "name": "python",
   "nbconvert_exporter": "python",
   "pygments_lexer": "ipython3",
   "version": "3.6.4"
  }
 },
 "nbformat": 4,
 "nbformat_minor": 2
}
