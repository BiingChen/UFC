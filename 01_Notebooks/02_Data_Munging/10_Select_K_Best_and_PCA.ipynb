{
 "cells": [
  {
   "cell_type": "markdown",
   "metadata": {},
   "source": [
    "# 11 Select K Best and PCA\n",
    "- With over 600 features in the dataset, try using K Best and PCA to reduce features"
   ]
  },
  {
   "cell_type": "markdown",
   "metadata": {},
   "source": [
    "## Imports"
   ]
  },
  {
   "cell_type": "code",
   "execution_count": 3,
   "metadata": {},
   "outputs": [],
   "source": [
    "import pandas as pd\n",
    "import pickle\n",
    "from sklearn.decomposition import PCA\n",
    "from matplotlib import pyplot as plt\n",
    "import numpy as np\n",
    "from sklearn.feature_selection import SelectKBest\n",
    "import seaborn as sns"
   ]
  },
  {
   "cell_type": "markdown",
   "metadata": {},
   "source": [
    "## Pull in training data"
   ]
  },
  {
   "cell_type": "code",
   "execution_count": 4,
   "metadata": {},
   "outputs": [],
   "source": [
    "with open('../../02_Data/02_Processed_Data/X_train.pkl', 'rb') as f:\n",
    "    X_train = pickle.load(f)\n",
    "    \n",
    "with open('../../02_Data/02_Processed_Data/y_train.pkl', 'rb') as f:\n",
    "    y_train = pickle.load(f)    \n",
    "\n",
    "with open('../../02_Data/02_Processed_Data/X_test.pkl', 'rb') as f:\n",
    "    X_test = pickle.load(f)\n",
    "    \n",
    "with open('../../02_Data/02_Processed_Data/y_test.pkl', 'rb') as f:\n",
    "    y_test = pickle.load(f)    "
   ]
  },
  {
   "cell_type": "markdown",
   "metadata": {},
   "source": [
    "## Select 100 Best Parameters"
   ]
  },
  {
   "cell_type": "code",
   "execution_count": 5,
   "metadata": {},
   "outputs": [],
   "source": [
    "selector = SelectKBest(k=100)\n",
    "selector.fit(X_train, y_train)\n",
    "col_mask = selector.get_support(indices=False)\n",
    "selected_columns = X_train.loc[:,col_mask].columns"
   ]
  },
  {
   "cell_type": "code",
   "execution_count": 16,
   "metadata": {},
   "outputs": [
    {
     "data": {
      "text/plain": [
       "Index(['f1_f1_distance_head_strikes_landed_avg',\n",
       "       'f1_f1_head_significant_strikes_landed_avg',\n",
       "       'f1_f2_clinch_head_strikes_landed_avg',\n",
       "       'f1_f2_total_strikes_percent_avg',\n",
       "       'f1_f2_significant_strikes_percent_avg',\n",
       "       'f1_f2_head_total_strikes_percent_avg',\n",
       "       'f1_f2_head_significant_strikes_percent_avg',\n",
       "       'f1_f2_clinch_head_strikes_percent_avg',\n",
       "       'f1_f2_ground_head_strikes_percent_avg',\n",
       "       'f1_head_total_strikes_landed_diff_avg'],\n",
       "      dtype='object')"
      ]
     },
     "execution_count": 16,
     "metadata": {},
     "output_type": "execute_result"
    }
   ],
   "source": [
    "pd.DataFrame(pca_r.components_, columns=X_train[selected_columns].columns).columns[:10]"
   ]
  },
  {
   "cell_type": "markdown",
   "metadata": {},
   "source": [
    "Looking at the top 10 selected features (out of 100):  f1_f1_distance_head_strikes_landed_avg is the top feature.  This is the historical average number of distance head strikes fighter 1 lands on his opponents.  As a reminder about what the features mean, f1_f2 indicates fighter 1's opponents'.  So, f1_f2_clinch_head_strikes_landed_avg is the average number of strikes fighter 1's opponents were able to land clinch head strikes"
   ]
  },
  {
   "cell_type": "markdown",
   "metadata": {},
   "source": [
    "## Create and export data with 100 Best Parameters"
   ]
  },
  {
   "cell_type": "code",
   "execution_count": 8,
   "metadata": {},
   "outputs": [],
   "source": [
    "X_train_100b = X_train[selected_columns]\n",
    "X_test_100b = X_test[selected_columns]\n",
    "\n",
    "with open('../../02_Data/02_Processed_Data/X_train_100b.pkl', 'wb') as f:\n",
    "    pickle.dump(X_train_100b, f)\n",
    "    \n",
    "with open('../../02_Data/02_Processed_Data/X_test_100b.pkl', 'wb') as f:\n",
    "    pickle.dump(X_test_100b, f)   "
   ]
  },
  {
   "cell_type": "markdown",
   "metadata": {},
   "source": [
    "## 10 PCA Components on 100 Best Parameters"
   ]
  },
  {
   "cell_type": "code",
   "execution_count": 17,
   "metadata": {},
   "outputs": [
    {
     "data": {
      "text/plain": [
       "<Container object of 10 artists>"
      ]
     },
     "execution_count": 17,
     "metadata": {},
     "output_type": "execute_result"
    },
    {
     "data": {
      "image/png": "[encoded data removed]",
      "text/plain": [
       "<matplotlib.figure.Figure at 0x1a0dad6198>"
      ]
     },
     "metadata": {},
     "output_type": "display_data"
    }
   ],
   "source": [
    "components = 10\n",
    "pca = PCA(n_components=components)\n",
    "X_train_100b_pca = pca.fit_transform(X_train[selected_columns])\n",
    "X_test_100b_pca = pca.transform(X_test[selected_columns])\n",
    "\n",
    "plt.plot(np.cumsum(pca_r.explained_variance_ratio_))\n",
    "plt.bar(range(components),pca_r.explained_variance_ratio_)"
   ]
  },
  {
   "cell_type": "markdown",
   "metadata": {},
   "source": [
    "All of the variance in my 100 features is captured in only 10 components.  Export this data set and try using it to model to see if there is any improvement"
   ]
  },
  {
   "cell_type": "markdown",
   "metadata": {},
   "source": [
    "## Export data with PCA on 100 Best Parameters"
   ]
  },
  {
   "cell_type": "code",
   "execution_count": 18,
   "metadata": {},
   "outputs": [],
   "source": [
    "with open('../../02_Data/02_Processed_Data/X_train_100b_pca.pkl', 'wb') as f:\n",
    "    pickle.dump(X_train_100b_pca, f)\n",
    "    \n",
    "with open('../../02_Data/02_Processed_Data/X_test_100b_pca.pkl', 'wb') as f:\n",
    "    pickle.dump(X_test_100b_pca, f)  "
   ]
  }
 ],
 "metadata": {
  "kernelspec": {
   "display_name": "Python 3",
   "language": "python",
   "name": "python3"
  },
  "language_info": {
   "codemirror_mode": {
    "name": "ipython",
    "version": 3
   },
   "file_extension": ".py",
   "mimetype": "text/x-python",
   "name": "python",
   "nbconvert_exporter": "python",
   "pygments_lexer": "ipython3",
   "version": "3.6.4"
  }
 },
 "nbformat": 4,
 "nbformat_minor": 2
}
